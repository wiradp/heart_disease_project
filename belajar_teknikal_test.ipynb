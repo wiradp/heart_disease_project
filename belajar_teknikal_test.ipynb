{
 "cells": [
  {
   "cell_type": "code",
   "execution_count": 1,
   "metadata": {},
   "outputs": [],
   "source": [
    "def weird_not(n):\n",
    "\n",
    "  if n % 2 != 0: # jika n ganjil\n",
    "    return \"Weird\"\n",
    "  elif 2 <= n <= 5: # Jika n genap rentang 2 -5\n",
    "    return \"Not Weird\"\n",
    "  elif 6 <= n <= 20: # Jika n genap rentang 6 - 20\n",
    "    return \"Weird\"\n",
    "  else:\n",
    "    return \"Not Weird\""
   ]
  },
  {
   "cell_type": "code",
   "execution_count": 2,
   "metadata": {},
   "outputs": [
    {
     "name": "stdout",
     "output_type": "stream",
     "text": [
      "Not Weird\n"
     ]
    }
   ],
   "source": [
    "  #Input bilangan\n",
    "  n = int(input().strip())\n",
    "\n",
    "  # Panggil fungsi dan cetak hasilnya\n",
    "  print(weird_not(n))\n"
   ]
  },
  {
   "cell_type": "code",
   "execution_count": 3,
   "metadata": {},
   "outputs": [],
   "source": [
    "def tambah_kurang_kali(a,b):\n",
    "  print(\"Hasil penjumlahan a + b :\", a + b)\n",
    "  print(\"Hasilpengurangan a - b  :\", a - b)\n",
    "  print(\"Hasil perkalian a * b   :\", a * b)"
   ]
  },
  {
   "cell_type": "code",
   "execution_count": 4,
   "metadata": {},
   "outputs": [
    {
     "name": "stdout",
     "output_type": "stream",
     "text": [
      "Hasil penjumlahan a + b : 9\n",
      "Hasilpengurangan a - b  : -3\n",
      "Hasil perkalian a * b   : 18\n",
      "None\n"
     ]
    }
   ],
   "source": [
    "# Input bilangan\n",
    "a = int(input(\"Input nilai a: \"))\n",
    "b = int(input(\"Input nilai b: \"))\n",
    "\n",
    "# Panggil fungsi\n",
    "print(tambah_kurang_kali(a,b))"
   ]
  },
  {
   "cell_type": "code",
   "execution_count": 5,
   "metadata": {},
   "outputs": [],
   "source": [
    "def bulat_float(a,b):\n",
    "  print(\"Hasil pembagian bilangan bulat a dan b   :\", a//b)\n",
    "  print(\"Hasil pembagian bilangan pecahan a dan b :\", a/b)"
   ]
  },
  {
   "cell_type": "code",
   "execution_count": 6,
   "metadata": {},
   "outputs": [
    {
     "name": "stdout",
     "output_type": "stream",
     "text": [
      "Hasil pembagian bilangan bulat a dan b   : 1\n",
      "Hasil pembagian bilangan pecahan a dan b : 1.6\n",
      "None\n"
     ]
    }
   ],
   "source": [
    "a = int(input(\"Input nilai a: \"))\n",
    "b = int(input(\"Input nilai b: \"))\n",
    "\n",
    "# Panggil fungsi\n",
    "print(bulat_float(a,b))"
   ]
  },
  {
   "cell_type": "code",
   "execution_count": 7,
   "metadata": {},
   "outputs": [
    {
     "name": "stdout",
     "output_type": "stream",
     "text": [
      "0\n",
      "1\n",
      "4\n",
      "9\n"
     ]
    }
   ],
   "source": [
    "n = int(input(\"Input sebuah nilai: \"))\n",
    "for i in range(n):\n",
    "  print(i**2)"
   ]
  },
  {
   "cell_type": "code",
   "execution_count": 8,
   "metadata": {},
   "outputs": [],
   "source": [
    "def is_leap(year):\n",
    "  leap = False\n",
    "  if year % 4 == 0:\n",
    "    leap = True\n",
    "  elif year % 100 == 0:\n",
    "    leap = False\n",
    "  elif year % 400 == 0:\n",
    "    leap = True\n",
    "  return leap    "
   ]
  },
  {
   "cell_type": "code",
   "execution_count": 9,
   "metadata": {},
   "outputs": [
    {
     "name": "stdout",
     "output_type": "stream",
     "text": [
      "False\n"
     ]
    }
   ],
   "source": [
    "year = int(input(\"Input sebuah tahun: \"))\n",
    "print(is_leap(year))"
   ]
  },
  {
   "cell_type": "code",
   "execution_count": 10,
   "metadata": {},
   "outputs": [
    {
     "name": "stdout",
     "output_type": "stream",
     "text": [
      "123"
     ]
    }
   ],
   "source": [
    "n = int(input(\"Input sebuah nilai: \"))\n",
    "for i in range(n):\n",
    "  print(i+1, end=\"\")"
   ]
  },
  {
   "cell_type": "code",
   "execution_count": 22,
   "metadata": {},
   "outputs": [
    {
     "name": "stdout",
     "output_type": "stream",
     "text": [
      "[[ 7 10]\n",
      " [15 22]]\n"
     ]
    }
   ],
   "source": [
    "import numpy as np\n",
    "\n",
    "# Membaca ukuran matriks\n",
    "N = int(input(\"Masukkan ukuran matrix: \"))\n",
    "\n",
    "# Membaca matriks A\n",
    "A = []\n",
    "for _ in range(N) :\n",
    "    row = list(map(int, input().split()))\n",
    "    A.append(row)\n",
    "\n",
    "# Membaca matriks B\n",
    "B = []\n",
    "for _ in range(N):\n",
    "    row = list(map(int, input().split()))\n",
    "    B.append(row)\n",
    "\n",
    "# Mengonversi A dan B menjadi array numpy\n",
    "A = np.array(A)\n",
    "B = np.array(B)\n",
    "\n",
    "# Pastikan kedua matriks memiliki ukuran yang sama\n",
    "if A.shape != B.shape:\n",
    "    raise ValueError(\"Matriks A dan B harus memiliki ukuran yang sama.\")\n",
    "\n",
    "# Menghitung hasil kali matriks\n",
    "result = np.dot(A, B)\n",
    "\n",
    "# Mencetak hasil\n",
    "print(result)"
   ]
  },
  {
   "cell_type": "code",
   "execution_count": 25,
   "metadata": {},
   "outputs": [
    {
     "name": "stdout",
     "output_type": "stream",
     "text": [
      "3\n",
      "[[0 0]\n",
      " [2 3]]\n"
     ]
    }
   ],
   "source": [
    "# Tugas \n",
    "# Anda diberikan dua buah array:  A dan B .\n",
    "# Tugas Anda adalah menghitung hasil kali dalam dan hasil kali luarnya. \n",
    "\n",
    "# Format Masukan\n",
    "# Baris pertama berisi elemen-elemen array A yang dipisahkan spasi.\n",
    "# Baris kedua berisi elemen-elemen array B yang dipisahkan spasi. \n",
    "\n",
    "# Format Keluaran\n",
    "# Pertama, cetak hasil kali dalam.\n",
    "# Kedua, cetak hasil kali luar.\n",
    "\n",
    "# Contoh Masukan\n",
    "# 0 1\n",
    "# 2 3\n",
    "\n",
    "# Contoh Keluaran\n",
    "# 3\n",
    "# [[0 0]\n",
    "#  [2 3]]\n",
    "\n",
    "import numpy as np\n",
    "# Mambaca array A\n",
    "A = np.array(list(map(int, input().split())))\n",
    "\n",
    "# Mambaca array B\n",
    "B = np.array(list(map(int, input().split())))\n",
    "\n",
    "# Menghitung hasil kali dalam\n",
    "dot_product = np.dot(A, B)\n",
    "\n",
    "# Menghitung hasil kali luar\n",
    "cross_product = np.outer(A, B)\n",
    "\n",
    "print(dot_product)\n",
    "print(cross_product)\n",
    "\n"
   ]
  },
  {
   "cell_type": "code",
   "execution_count": null,
   "metadata": {},
   "outputs": [],
   "source": []
  }
 ],
 "metadata": {
  "kernelspec": {
   "display_name": "base",
   "language": "python",
   "name": "python3"
  },
  "language_info": {
   "codemirror_mode": {
    "name": "ipython",
    "version": 3
   },
   "file_extension": ".py",
   "mimetype": "text/x-python",
   "name": "python",
   "nbconvert_exporter": "python",
   "pygments_lexer": "ipython3",
   "version": "3.9.12"
  }
 },
 "nbformat": 4,
 "nbformat_minor": 2
}
