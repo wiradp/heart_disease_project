{
 "cells": [
  {
   "cell_type": "markdown",
   "metadata": {},
   "source": [
    "## <b><font color='orange'> 1. Importing Data to Python </b>"
   ]
  },
  {
   "cell_type": "code",
   "execution_count": 1,
   "metadata": {},
   "outputs": [],
   "source": [
    "# Import library pengolahan struktur data\n",
    "import pandas as pd\n",
    "\n",
    "# Import library pengolahan angka\n",
    "import numpy as np\n",
    "\n",
    "# Import library untuk visualisasi\n",
    "import matplotlib.pyplot as plt\n",
    "import seaborn as sns\n",
    "\n",
    "import warnings\n",
    "warnings.filterwarnings(\"ignore\")"
   ]
  },
  {
   "cell_type": "code",
   "execution_count": 2,
   "metadata": {},
   "outputs": [],
   "source": [
    "# Buat fungsi untuk mengimpor dataset\n",
    "def ImportData(data_file):\n",
    "    \"\"\"\n",
    "    Fungsi untuk import data & hapus duplikat\n",
    "    :param data_file: <string> nama file input (format .data)\n",
    "    :return heart_df: <pandas> sample data\n",
    "    \"\"\"\n",
    "    # Definisikan nama kolom sesuai dengan dokumentasi dataset\n",
    "    column_names = ['age', 'sex', 'cp', 'trestbps', 'chol', 'fbs', 'restecg', 'thalach', 'exang', 'oldpeak', 'slope', 'ca', 'thal', 'target']\n",
    "\n",
    "    # baca data\n",
    "    heart_df = pd.read_csv(data_file, names=column_names)\n",
    "\n",
    "    # cetak bentuk data\n",
    "    print('Data asli:',heart_df.shape, '-(#Observasi, #kolom)')\n",
    "    print('Jumlah baris',heart_df.shape[0], 'dan jumlah kolom',heart_df.shape[1])\n",
    "\n",
    "    # Cek data duplikat\n",
    "    duplicate_status = heart_df.duplicated(keep='first')\n",
    "\n",
    "    if duplicate_status.sum() == 0:\n",
    "        print('Tidak ada data duplikat')\n",
    "    else:\n",
    "        heart_df = heart_df.drop_duplicates()\n",
    "        print('Data setelah di-drop :', heart_df.shape, '-(#observasi, #kolom)')\n",
    "\n",
    "    return heart_df\n",
    "\n",
    "# (data_file) adalah argumen\n",
    "# Argumen adalah sebuah variable\n",
    "# Jika fungsi tersebut diberi argumen data_file = \"processed.cleveland.data\",\n",
    "# maka semua variable 'data_file' didalam fungsi akan berubah menjadi 'processed.cleveland.data'"
   ]
  },
  {
   "cell_type": "code",
   "execution_count": 3,
   "metadata": {},
   "outputs": [
    {
     "name": "stdout",
     "output_type": "stream",
     "text": [
      "Data asli: (303, 14) -(#Observasi, #kolom)\n",
      "Jumlah baris 303 dan jumlah kolom 14\n",
      "Tidak ada data duplikat\n"
     ]
    }
   ],
   "source": [
    "# Input argumen\n",
    "data_file = 'processed.cleveland.data'\n",
    "\n",
    "# Panggil fungsi\n",
    "heart_df = ImportData(data_file)"
   ]
  },
  {
   "cell_type": "code",
   "execution_count": 4,
   "metadata": {},
   "outputs": [
    {
     "data": {
      "text/html": [
       "<div>\n",
       "<style scoped>\n",
       "    .dataframe tbody tr th:only-of-type {\n",
       "        vertical-align: middle;\n",
       "    }\n",
       "\n",
       "    .dataframe tbody tr th {\n",
       "        vertical-align: top;\n",
       "    }\n",
       "\n",
       "    .dataframe thead th {\n",
       "        text-align: right;\n",
       "    }\n",
       "</style>\n",
       "<table border=\"1\" class=\"dataframe\">\n",
       "  <thead>\n",
       "    <tr style=\"text-align: right;\">\n",
       "      <th></th>\n",
       "      <th>age</th>\n",
       "      <th>sex</th>\n",
       "      <th>cp</th>\n",
       "      <th>trestbps</th>\n",
       "      <th>chol</th>\n",
       "      <th>fbs</th>\n",
       "      <th>restecg</th>\n",
       "      <th>thalach</th>\n",
       "      <th>exang</th>\n",
       "      <th>oldpeak</th>\n",
       "      <th>slope</th>\n",
       "      <th>ca</th>\n",
       "      <th>thal</th>\n",
       "      <th>target</th>\n",
       "    </tr>\n",
       "  </thead>\n",
       "  <tbody>\n",
       "    <tr>\n",
       "      <th>0</th>\n",
       "      <td>63.0</td>\n",
       "      <td>1.0</td>\n",
       "      <td>1.0</td>\n",
       "      <td>145.0</td>\n",
       "      <td>233.0</td>\n",
       "      <td>1.0</td>\n",
       "      <td>2.0</td>\n",
       "      <td>150.0</td>\n",
       "      <td>0.0</td>\n",
       "      <td>2.3</td>\n",
       "      <td>3.0</td>\n",
       "      <td>0.0</td>\n",
       "      <td>6.0</td>\n",
       "      <td>0</td>\n",
       "    </tr>\n",
       "    <tr>\n",
       "      <th>1</th>\n",
       "      <td>67.0</td>\n",
       "      <td>1.0</td>\n",
       "      <td>4.0</td>\n",
       "      <td>160.0</td>\n",
       "      <td>286.0</td>\n",
       "      <td>0.0</td>\n",
       "      <td>2.0</td>\n",
       "      <td>108.0</td>\n",
       "      <td>1.0</td>\n",
       "      <td>1.5</td>\n",
       "      <td>2.0</td>\n",
       "      <td>3.0</td>\n",
       "      <td>3.0</td>\n",
       "      <td>2</td>\n",
       "    </tr>\n",
       "    <tr>\n",
       "      <th>2</th>\n",
       "      <td>67.0</td>\n",
       "      <td>1.0</td>\n",
       "      <td>4.0</td>\n",
       "      <td>120.0</td>\n",
       "      <td>229.0</td>\n",
       "      <td>0.0</td>\n",
       "      <td>2.0</td>\n",
       "      <td>129.0</td>\n",
       "      <td>1.0</td>\n",
       "      <td>2.6</td>\n",
       "      <td>2.0</td>\n",
       "      <td>2.0</td>\n",
       "      <td>7.0</td>\n",
       "      <td>1</td>\n",
       "    </tr>\n",
       "    <tr>\n",
       "      <th>3</th>\n",
       "      <td>37.0</td>\n",
       "      <td>1.0</td>\n",
       "      <td>3.0</td>\n",
       "      <td>130.0</td>\n",
       "      <td>250.0</td>\n",
       "      <td>0.0</td>\n",
       "      <td>0.0</td>\n",
       "      <td>187.0</td>\n",
       "      <td>0.0</td>\n",
       "      <td>3.5</td>\n",
       "      <td>3.0</td>\n",
       "      <td>0.0</td>\n",
       "      <td>3.0</td>\n",
       "      <td>0</td>\n",
       "    </tr>\n",
       "    <tr>\n",
       "      <th>4</th>\n",
       "      <td>41.0</td>\n",
       "      <td>0.0</td>\n",
       "      <td>2.0</td>\n",
       "      <td>130.0</td>\n",
       "      <td>204.0</td>\n",
       "      <td>0.0</td>\n",
       "      <td>2.0</td>\n",
       "      <td>172.0</td>\n",
       "      <td>0.0</td>\n",
       "      <td>1.4</td>\n",
       "      <td>1.0</td>\n",
       "      <td>0.0</td>\n",
       "      <td>3.0</td>\n",
       "      <td>0</td>\n",
       "    </tr>\n",
       "  </tbody>\n",
       "</table>\n",
       "</div>"
      ],
      "text/plain": [
       "    age  sex   cp  trestbps   chol  fbs  restecg  thalach  exang  oldpeak  \\\n",
       "0  63.0  1.0  1.0     145.0  233.0  1.0      2.0    150.0    0.0      2.3   \n",
       "1  67.0  1.0  4.0     160.0  286.0  0.0      2.0    108.0    1.0      1.5   \n",
       "2  67.0  1.0  4.0     120.0  229.0  0.0      2.0    129.0    1.0      2.6   \n",
       "3  37.0  1.0  3.0     130.0  250.0  0.0      0.0    187.0    0.0      3.5   \n",
       "4  41.0  0.0  2.0     130.0  204.0  0.0      2.0    172.0    0.0      1.4   \n",
       "\n",
       "   slope   ca thal  target  \n",
       "0    3.0  0.0  6.0       0  \n",
       "1    2.0  3.0  3.0       2  \n",
       "2    2.0  2.0  7.0       1  \n",
       "3    3.0  0.0  3.0       0  \n",
       "4    1.0  0.0  3.0       0  "
      ]
     },
     "execution_count": 4,
     "metadata": {},
     "output_type": "execute_result"
    }
   ],
   "source": [
    "heart_df.head()"
   ]
  },
  {
   "cell_type": "markdown",
   "metadata": {},
   "source": [
    "**Cek Banyak Observasi**"
   ]
  },
  {
   "cell_type": "code",
   "execution_count": 5,
   "metadata": {},
   "outputs": [
    {
     "data": {
      "text/plain": [
       "(303, 14)"
      ]
     },
     "execution_count": 5,
     "metadata": {},
     "output_type": "execute_result"
    }
   ],
   "source": [
    "heart_df.shape\n",
    "\n",
    "# Output --> (Jumlah  observasi, jumlah kolom/fitur)"
   ]
  },
  {
   "cell_type": "code",
   "execution_count": 6,
   "metadata": {},
   "outputs": [
    {
     "data": {
      "text/html": [
       "<div>\n",
       "<style scoped>\n",
       "    .dataframe tbody tr th:only-of-type {\n",
       "        vertical-align: middle;\n",
       "    }\n",
       "\n",
       "    .dataframe tbody tr th {\n",
       "        vertical-align: top;\n",
       "    }\n",
       "\n",
       "    .dataframe thead th {\n",
       "        text-align: right;\n",
       "    }\n",
       "</style>\n",
       "<table border=\"1\" class=\"dataframe\">\n",
       "  <thead>\n",
       "    <tr style=\"text-align: right;\">\n",
       "      <th></th>\n",
       "      <th>Jumlah Nilai</th>\n",
       "      <th>Nilai Unik</th>\n",
       "    </tr>\n",
       "  </thead>\n",
       "  <tbody>\n",
       "    <tr>\n",
       "      <th>age</th>\n",
       "      <td>41</td>\n",
       "      <td>[63.0, 67.0, 37.0, 41.0, 56.0, 62.0, 57.0, 53....</td>\n",
       "    </tr>\n",
       "    <tr>\n",
       "      <th>sex</th>\n",
       "      <td>2</td>\n",
       "      <td>[1.0, 0.0]</td>\n",
       "    </tr>\n",
       "    <tr>\n",
       "      <th>cp</th>\n",
       "      <td>4</td>\n",
       "      <td>[1.0, 4.0, 3.0, 2.0]</td>\n",
       "    </tr>\n",
       "    <tr>\n",
       "      <th>trestbps</th>\n",
       "      <td>50</td>\n",
       "      <td>[145.0, 160.0, 120.0, 130.0, 140.0, 172.0, 150...</td>\n",
       "    </tr>\n",
       "    <tr>\n",
       "      <th>chol</th>\n",
       "      <td>152</td>\n",
       "      <td>[233.0, 286.0, 229.0, 250.0, 204.0, 236.0, 268...</td>\n",
       "    </tr>\n",
       "    <tr>\n",
       "      <th>fbs</th>\n",
       "      <td>2</td>\n",
       "      <td>[1.0, 0.0]</td>\n",
       "    </tr>\n",
       "    <tr>\n",
       "      <th>restecg</th>\n",
       "      <td>3</td>\n",
       "      <td>[2.0, 0.0, 1.0]</td>\n",
       "    </tr>\n",
       "    <tr>\n",
       "      <th>thalach</th>\n",
       "      <td>91</td>\n",
       "      <td>[150.0, 108.0, 129.0, 187.0, 172.0, 178.0, 160...</td>\n",
       "    </tr>\n",
       "    <tr>\n",
       "      <th>exang</th>\n",
       "      <td>2</td>\n",
       "      <td>[0.0, 1.0]</td>\n",
       "    </tr>\n",
       "    <tr>\n",
       "      <th>oldpeak</th>\n",
       "      <td>40</td>\n",
       "      <td>[2.3, 1.5, 2.6, 3.5, 1.4, 0.8, 3.6, 0.6, 3.1, ...</td>\n",
       "    </tr>\n",
       "    <tr>\n",
       "      <th>slope</th>\n",
       "      <td>3</td>\n",
       "      <td>[3.0, 2.0, 1.0]</td>\n",
       "    </tr>\n",
       "    <tr>\n",
       "      <th>ca</th>\n",
       "      <td>5</td>\n",
       "      <td>[0.0, 3.0, 2.0, 1.0, ?]</td>\n",
       "    </tr>\n",
       "    <tr>\n",
       "      <th>thal</th>\n",
       "      <td>4</td>\n",
       "      <td>[6.0, 3.0, 7.0, ?]</td>\n",
       "    </tr>\n",
       "    <tr>\n",
       "      <th>target</th>\n",
       "      <td>5</td>\n",
       "      <td>[0, 2, 1, 3, 4]</td>\n",
       "    </tr>\n",
       "  </tbody>\n",
       "</table>\n",
       "</div>"
      ],
      "text/plain": [
       "         Jumlah Nilai                                         Nilai Unik\n",
       "age                41  [63.0, 67.0, 37.0, 41.0, 56.0, 62.0, 57.0, 53....\n",
       "sex                 2                                         [1.0, 0.0]\n",
       "cp                  4                               [1.0, 4.0, 3.0, 2.0]\n",
       "trestbps           50  [145.0, 160.0, 120.0, 130.0, 140.0, 172.0, 150...\n",
       "chol              152  [233.0, 286.0, 229.0, 250.0, 204.0, 236.0, 268...\n",
       "fbs                 2                                         [1.0, 0.0]\n",
       "restecg             3                                    [2.0, 0.0, 1.0]\n",
       "thalach            91  [150.0, 108.0, 129.0, 187.0, 172.0, 178.0, 160...\n",
       "exang               2                                         [0.0, 1.0]\n",
       "oldpeak            40  [2.3, 1.5, 2.6, 3.5, 1.4, 0.8, 3.6, 0.6, 3.1, ...\n",
       "slope               3                                    [3.0, 2.0, 1.0]\n",
       "ca                  5                            [0.0, 3.0, 2.0, 1.0, ?]\n",
       "thal                4                                 [6.0, 3.0, 7.0, ?]\n",
       "target              5                                    [0, 2, 1, 3, 4]"
      ]
     },
     "execution_count": 6,
     "metadata": {},
     "output_type": "execute_result"
    }
   ],
   "source": [
    "# Cek Jumlah nilai dan nilai unik pada setip kolom\n",
    "summary_dict = {}\n",
    "for i in list(heart_df.columns):\n",
    "    summary_dict[i] = {\n",
    "        'Jumlah Nilai': heart_df[i].value_counts().shape[0],\n",
    "        'Nilai Unik': heart_df[i].unique()\n",
    "    }\n",
    "summary_df = pd.DataFrame(summary_dict).T\n",
    "\n",
    "summary_df"
   ]
  },
  {
   "cell_type": "markdown",
   "metadata": {},
   "source": [
    ">Terdapat nilai **'?'** pada kolom `ca` dan `thal`. Kita perlu merubah nilai tersebut menjadi NA/NaN"
   ]
  },
  {
   "cell_type": "code",
   "execution_count": 7,
   "metadata": {},
   "outputs": [
    {
     "name": "stdout",
     "output_type": "stream",
     "text": [
      "Jumlah nilai \"?\" pada kolom ca   : 4\n",
      "Jumlah nilai \"?\" pada kolom thal : 2\n"
     ]
    }
   ],
   "source": [
    "print('Jumlah nilai \"?\" pada kolom ca   :', (heart_df['ca'] == '?').sum())\n",
    "print('Jumlah nilai \"?\" pada kolom thal :', (heart_df['thal'] == '?').sum())"
   ]
  },
  {
   "cell_type": "code",
   "execution_count": 8,
   "metadata": {},
   "outputs": [
    {
     "data": {
      "text/html": [
       "<div>\n",
       "<style scoped>\n",
       "    .dataframe tbody tr th:only-of-type {\n",
       "        vertical-align: middle;\n",
       "    }\n",
       "\n",
       "    .dataframe tbody tr th {\n",
       "        vertical-align: top;\n",
       "    }\n",
       "\n",
       "    .dataframe thead th {\n",
       "        text-align: right;\n",
       "    }\n",
       "</style>\n",
       "<table border=\"1\" class=\"dataframe\">\n",
       "  <thead>\n",
       "    <tr style=\"text-align: right;\">\n",
       "      <th></th>\n",
       "      <th>age</th>\n",
       "      <th>sex</th>\n",
       "      <th>cp</th>\n",
       "      <th>trestbps</th>\n",
       "      <th>chol</th>\n",
       "      <th>fbs</th>\n",
       "      <th>restecg</th>\n",
       "      <th>thalach</th>\n",
       "      <th>exang</th>\n",
       "      <th>oldpeak</th>\n",
       "      <th>slope</th>\n",
       "      <th>ca</th>\n",
       "      <th>thal</th>\n",
       "      <th>target</th>\n",
       "    </tr>\n",
       "  </thead>\n",
       "  <tbody>\n",
       "    <tr>\n",
       "      <th>87</th>\n",
       "      <td>53.0</td>\n",
       "      <td>0.0</td>\n",
       "      <td>3.0</td>\n",
       "      <td>128.0</td>\n",
       "      <td>216.0</td>\n",
       "      <td>0.0</td>\n",
       "      <td>2.0</td>\n",
       "      <td>115.0</td>\n",
       "      <td>0.0</td>\n",
       "      <td>0.0</td>\n",
       "      <td>1.0</td>\n",
       "      <td>0.0</td>\n",
       "      <td>?</td>\n",
       "      <td>0</td>\n",
       "    </tr>\n",
       "    <tr>\n",
       "      <th>166</th>\n",
       "      <td>52.0</td>\n",
       "      <td>1.0</td>\n",
       "      <td>3.0</td>\n",
       "      <td>138.0</td>\n",
       "      <td>223.0</td>\n",
       "      <td>0.0</td>\n",
       "      <td>0.0</td>\n",
       "      <td>169.0</td>\n",
       "      <td>0.0</td>\n",
       "      <td>0.0</td>\n",
       "      <td>1.0</td>\n",
       "      <td>?</td>\n",
       "      <td>3.0</td>\n",
       "      <td>0</td>\n",
       "    </tr>\n",
       "    <tr>\n",
       "      <th>192</th>\n",
       "      <td>43.0</td>\n",
       "      <td>1.0</td>\n",
       "      <td>4.0</td>\n",
       "      <td>132.0</td>\n",
       "      <td>247.0</td>\n",
       "      <td>1.0</td>\n",
       "      <td>2.0</td>\n",
       "      <td>143.0</td>\n",
       "      <td>1.0</td>\n",
       "      <td>0.1</td>\n",
       "      <td>2.0</td>\n",
       "      <td>?</td>\n",
       "      <td>7.0</td>\n",
       "      <td>1</td>\n",
       "    </tr>\n",
       "    <tr>\n",
       "      <th>266</th>\n",
       "      <td>52.0</td>\n",
       "      <td>1.0</td>\n",
       "      <td>4.0</td>\n",
       "      <td>128.0</td>\n",
       "      <td>204.0</td>\n",
       "      <td>1.0</td>\n",
       "      <td>0.0</td>\n",
       "      <td>156.0</td>\n",
       "      <td>1.0</td>\n",
       "      <td>1.0</td>\n",
       "      <td>2.0</td>\n",
       "      <td>0.0</td>\n",
       "      <td>?</td>\n",
       "      <td>2</td>\n",
       "    </tr>\n",
       "    <tr>\n",
       "      <th>287</th>\n",
       "      <td>58.0</td>\n",
       "      <td>1.0</td>\n",
       "      <td>2.0</td>\n",
       "      <td>125.0</td>\n",
       "      <td>220.0</td>\n",
       "      <td>0.0</td>\n",
       "      <td>0.0</td>\n",
       "      <td>144.0</td>\n",
       "      <td>0.0</td>\n",
       "      <td>0.4</td>\n",
       "      <td>2.0</td>\n",
       "      <td>?</td>\n",
       "      <td>7.0</td>\n",
       "      <td>0</td>\n",
       "    </tr>\n",
       "    <tr>\n",
       "      <th>302</th>\n",
       "      <td>38.0</td>\n",
       "      <td>1.0</td>\n",
       "      <td>3.0</td>\n",
       "      <td>138.0</td>\n",
       "      <td>175.0</td>\n",
       "      <td>0.0</td>\n",
       "      <td>0.0</td>\n",
       "      <td>173.0</td>\n",
       "      <td>0.0</td>\n",
       "      <td>0.0</td>\n",
       "      <td>1.0</td>\n",
       "      <td>?</td>\n",
       "      <td>3.0</td>\n",
       "      <td>0</td>\n",
       "    </tr>\n",
       "  </tbody>\n",
       "</table>\n",
       "</div>"
      ],
      "text/plain": [
       "      age  sex   cp  trestbps   chol  fbs  restecg  thalach  exang  oldpeak  \\\n",
       "87   53.0  0.0  3.0     128.0  216.0  0.0      2.0    115.0    0.0      0.0   \n",
       "166  52.0  1.0  3.0     138.0  223.0  0.0      0.0    169.0    0.0      0.0   \n",
       "192  43.0  1.0  4.0     132.0  247.0  1.0      2.0    143.0    1.0      0.1   \n",
       "266  52.0  1.0  4.0     128.0  204.0  1.0      0.0    156.0    1.0      1.0   \n",
       "287  58.0  1.0  2.0     125.0  220.0  0.0      0.0    144.0    0.0      0.4   \n",
       "302  38.0  1.0  3.0     138.0  175.0  0.0      0.0    173.0    0.0      0.0   \n",
       "\n",
       "     slope   ca thal  target  \n",
       "87     1.0  0.0    ?       0  \n",
       "166    1.0    ?  3.0       0  \n",
       "192    2.0    ?  7.0       1  \n",
       "266    2.0  0.0    ?       2  \n",
       "287    2.0    ?  7.0       0  \n",
       "302    1.0    ?  3.0       0  "
      ]
     },
     "execution_count": 8,
     "metadata": {},
     "output_type": "execute_result"
    }
   ],
   "source": [
    "# Lihat semua baris yang mengandung nilai '?'\n",
    "heart_df[heart_df.isin(['?']).any(axis=1)]"
   ]
  },
  {
   "cell_type": "code",
   "execution_count": 9,
   "metadata": {},
   "outputs": [],
   "source": [
    "# Penganganan missing value\n",
    "def handle_missing_value(data):\n",
    "    \"\"\"\n",
    "    Fungsi untuk menangani missing value yang ditandai dengan '?'\n",
    "    param df: <pandas dataframe> data input\n",
    "    return df: <pandas dataframe> data dengan missing value yang sudah diganti\n",
    "    \"\"\"\n",
    "    # Hapus baris dengan nilai'?'\n",
    "    # data = data[data != '?'].dropna()\n",
    "\n",
    "    # Ganti '?' dengan NaN\n",
    "    data.replace('?', np.NaN, inplace=True)\n",
    "\n",
    "    # Tampilkan jumlah missing value per kolom\n",
    "    print('Jumlah missing value setelah dihapus:\\n', data.isnull().sum())\n",
    "\n",
    "    return data"
   ]
  },
  {
   "cell_type": "code",
   "execution_count": 10,
   "metadata": {},
   "outputs": [
    {
     "name": "stdout",
     "output_type": "stream",
     "text": [
      "Jumlah missing value setelah dihapus:\n",
      " age         0\n",
      "sex         0\n",
      "cp          0\n",
      "trestbps    0\n",
      "chol        0\n",
      "fbs         0\n",
      "restecg     0\n",
      "thalach     0\n",
      "exang       0\n",
      "oldpeak     0\n",
      "slope       0\n",
      "ca          4\n",
      "thal        2\n",
      "target      0\n",
      "dtype: int64\n"
     ]
    }
   ],
   "source": [
    "# Panggil fungsi untuk menangai missing value\n",
    "heart_df = handle_missing_value(heart_df)"
   ]
  },
  {
   "cell_type": "code",
   "execution_count": 11,
   "metadata": {},
   "outputs": [
    {
     "name": "stdout",
     "output_type": "stream",
     "text": [
      "Nilai unik kolom ca   : ['0.0' '3.0' '2.0' '1.0' nan]\n",
      "Nilai unik kolom thal : ['6.0' '3.0' '7.0' nan]\n"
     ]
    }
   ],
   "source": [
    "print('Nilai unik kolom ca   :', heart_df['ca'].unique())\n",
    "print('Nilai unik kolom thal :', heart_df['thal'].unique())"
   ]
  },
  {
   "cell_type": "code",
   "execution_count": 12,
   "metadata": {},
   "outputs": [
    {
     "data": {
      "text/html": [
       "<div>\n",
       "<style scoped>\n",
       "    .dataframe tbody tr th:only-of-type {\n",
       "        vertical-align: middle;\n",
       "    }\n",
       "\n",
       "    .dataframe tbody tr th {\n",
       "        vertical-align: top;\n",
       "    }\n",
       "\n",
       "    .dataframe thead th {\n",
       "        text-align: right;\n",
       "    }\n",
       "</style>\n",
       "<table border=\"1\" class=\"dataframe\">\n",
       "  <thead>\n",
       "    <tr style=\"text-align: right;\">\n",
       "      <th></th>\n",
       "      <th>age</th>\n",
       "      <th>sex</th>\n",
       "      <th>cp</th>\n",
       "      <th>trestbps</th>\n",
       "      <th>chol</th>\n",
       "      <th>fbs</th>\n",
       "      <th>restecg</th>\n",
       "      <th>thalach</th>\n",
       "      <th>exang</th>\n",
       "      <th>oldpeak</th>\n",
       "      <th>slope</th>\n",
       "      <th>ca</th>\n",
       "      <th>thal</th>\n",
       "      <th>target</th>\n",
       "    </tr>\n",
       "  </thead>\n",
       "  <tbody>\n",
       "    <tr>\n",
       "      <th>87</th>\n",
       "      <td>53.0</td>\n",
       "      <td>0.0</td>\n",
       "      <td>3.0</td>\n",
       "      <td>128.0</td>\n",
       "      <td>216.0</td>\n",
       "      <td>0.0</td>\n",
       "      <td>2.0</td>\n",
       "      <td>115.0</td>\n",
       "      <td>0.0</td>\n",
       "      <td>0.0</td>\n",
       "      <td>1.0</td>\n",
       "      <td>0.0</td>\n",
       "      <td>NaN</td>\n",
       "      <td>0</td>\n",
       "    </tr>\n",
       "    <tr>\n",
       "      <th>166</th>\n",
       "      <td>52.0</td>\n",
       "      <td>1.0</td>\n",
       "      <td>3.0</td>\n",
       "      <td>138.0</td>\n",
       "      <td>223.0</td>\n",
       "      <td>0.0</td>\n",
       "      <td>0.0</td>\n",
       "      <td>169.0</td>\n",
       "      <td>0.0</td>\n",
       "      <td>0.0</td>\n",
       "      <td>1.0</td>\n",
       "      <td>NaN</td>\n",
       "      <td>3.0</td>\n",
       "      <td>0</td>\n",
       "    </tr>\n",
       "    <tr>\n",
       "      <th>192</th>\n",
       "      <td>43.0</td>\n",
       "      <td>1.0</td>\n",
       "      <td>4.0</td>\n",
       "      <td>132.0</td>\n",
       "      <td>247.0</td>\n",
       "      <td>1.0</td>\n",
       "      <td>2.0</td>\n",
       "      <td>143.0</td>\n",
       "      <td>1.0</td>\n",
       "      <td>0.1</td>\n",
       "      <td>2.0</td>\n",
       "      <td>NaN</td>\n",
       "      <td>7.0</td>\n",
       "      <td>1</td>\n",
       "    </tr>\n",
       "    <tr>\n",
       "      <th>266</th>\n",
       "      <td>52.0</td>\n",
       "      <td>1.0</td>\n",
       "      <td>4.0</td>\n",
       "      <td>128.0</td>\n",
       "      <td>204.0</td>\n",
       "      <td>1.0</td>\n",
       "      <td>0.0</td>\n",
       "      <td>156.0</td>\n",
       "      <td>1.0</td>\n",
       "      <td>1.0</td>\n",
       "      <td>2.0</td>\n",
       "      <td>0.0</td>\n",
       "      <td>NaN</td>\n",
       "      <td>2</td>\n",
       "    </tr>\n",
       "    <tr>\n",
       "      <th>287</th>\n",
       "      <td>58.0</td>\n",
       "      <td>1.0</td>\n",
       "      <td>2.0</td>\n",
       "      <td>125.0</td>\n",
       "      <td>220.0</td>\n",
       "      <td>0.0</td>\n",
       "      <td>0.0</td>\n",
       "      <td>144.0</td>\n",
       "      <td>0.0</td>\n",
       "      <td>0.4</td>\n",
       "      <td>2.0</td>\n",
       "      <td>NaN</td>\n",
       "      <td>7.0</td>\n",
       "      <td>0</td>\n",
       "    </tr>\n",
       "    <tr>\n",
       "      <th>302</th>\n",
       "      <td>38.0</td>\n",
       "      <td>1.0</td>\n",
       "      <td>3.0</td>\n",
       "      <td>138.0</td>\n",
       "      <td>175.0</td>\n",
       "      <td>0.0</td>\n",
       "      <td>0.0</td>\n",
       "      <td>173.0</td>\n",
       "      <td>0.0</td>\n",
       "      <td>0.0</td>\n",
       "      <td>1.0</td>\n",
       "      <td>NaN</td>\n",
       "      <td>3.0</td>\n",
       "      <td>0</td>\n",
       "    </tr>\n",
       "  </tbody>\n",
       "</table>\n",
       "</div>"
      ],
      "text/plain": [
       "      age  sex   cp  trestbps   chol  fbs  restecg  thalach  exang  oldpeak  \\\n",
       "87   53.0  0.0  3.0     128.0  216.0  0.0      2.0    115.0    0.0      0.0   \n",
       "166  52.0  1.0  3.0     138.0  223.0  0.0      0.0    169.0    0.0      0.0   \n",
       "192  43.0  1.0  4.0     132.0  247.0  1.0      2.0    143.0    1.0      0.1   \n",
       "266  52.0  1.0  4.0     128.0  204.0  1.0      0.0    156.0    1.0      1.0   \n",
       "287  58.0  1.0  2.0     125.0  220.0  0.0      0.0    144.0    0.0      0.4   \n",
       "302  38.0  1.0  3.0     138.0  175.0  0.0      0.0    173.0    0.0      0.0   \n",
       "\n",
       "     slope   ca thal  target  \n",
       "87     1.0  0.0  NaN       0  \n",
       "166    1.0  NaN  3.0       0  \n",
       "192    2.0  NaN  7.0       1  \n",
       "266    2.0  0.0  NaN       2  \n",
       "287    2.0  NaN  7.0       0  \n",
       "302    1.0  NaN  3.0       0  "
      ]
     },
     "execution_count": 12,
     "metadata": {},
     "output_type": "execute_result"
    }
   ],
   "source": [
    "# Lihat semua baris yang mempunyai nilai NaN\n",
    "heart_df[heart_df.isna().any(axis=1)]"
   ]
  },
  {
   "cell_type": "markdown",
   "metadata": {},
   "source": [
    "**Sanity Check**\n",
    "- Selalu periksa ulang jumlah observasi"
   ]
  },
  {
   "cell_type": "code",
   "execution_count": 13,
   "metadata": {},
   "outputs": [
    {
     "data": {
      "text/plain": [
       "(303, 14)"
      ]
     },
     "execution_count": 13,
     "metadata": {},
     "output_type": "execute_result"
    }
   ],
   "source": [
    "heart_df.shape"
   ]
  },
  {
   "cell_type": "markdown",
   "metadata": {},
   "source": [
    "## <b><font color='orange'> 2. Data Preprocessing:</font></b>\n",
    "---\n",
    "* Input-Output Split, Train-Test Split\n",
    "* Processing Categorical\n",
    "* Imputation, Normalization, Drop Duplicates"
   ]
  },
  {
   "cell_type": "markdown",
   "metadata": {},
   "source": [
    "**Input-Output Split**\n",
    "\n",
    "- Fitur `y` adalah output variabel dari target\n",
    "- yang lainnya menjadi input"
   ]
  },
  {
   "cell_type": "markdown",
   "metadata": {},
   "source": [
    "Buat output data"
   ]
  },
  {
   "cell_type": "code",
   "execution_count": 14,
   "metadata": {},
   "outputs": [
    {
     "data": {
      "text/html": [
       "<div>\n",
       "<style scoped>\n",
       "    .dataframe tbody tr th:only-of-type {\n",
       "        vertical-align: middle;\n",
       "    }\n",
       "\n",
       "    .dataframe tbody tr th {\n",
       "        vertical-align: top;\n",
       "    }\n",
       "\n",
       "    .dataframe thead th {\n",
       "        text-align: right;\n",
       "    }\n",
       "</style>\n",
       "<table border=\"1\" class=\"dataframe\">\n",
       "  <thead>\n",
       "    <tr style=\"text-align: right;\">\n",
       "      <th></th>\n",
       "      <th>age</th>\n",
       "      <th>sex</th>\n",
       "      <th>cp</th>\n",
       "      <th>trestbps</th>\n",
       "      <th>chol</th>\n",
       "      <th>fbs</th>\n",
       "      <th>restecg</th>\n",
       "      <th>thalach</th>\n",
       "      <th>exang</th>\n",
       "      <th>oldpeak</th>\n",
       "      <th>slope</th>\n",
       "      <th>ca</th>\n",
       "      <th>thal</th>\n",
       "      <th>target</th>\n",
       "    </tr>\n",
       "  </thead>\n",
       "  <tbody>\n",
       "    <tr>\n",
       "      <th>0</th>\n",
       "      <td>63.0</td>\n",
       "      <td>1.0</td>\n",
       "      <td>1.0</td>\n",
       "      <td>145.0</td>\n",
       "      <td>233.0</td>\n",
       "      <td>1.0</td>\n",
       "      <td>2.0</td>\n",
       "      <td>150.0</td>\n",
       "      <td>0.0</td>\n",
       "      <td>2.3</td>\n",
       "      <td>3.0</td>\n",
       "      <td>0.0</td>\n",
       "      <td>6.0</td>\n",
       "      <td>0</td>\n",
       "    </tr>\n",
       "    <tr>\n",
       "      <th>1</th>\n",
       "      <td>67.0</td>\n",
       "      <td>1.0</td>\n",
       "      <td>4.0</td>\n",
       "      <td>160.0</td>\n",
       "      <td>286.0</td>\n",
       "      <td>0.0</td>\n",
       "      <td>2.0</td>\n",
       "      <td>108.0</td>\n",
       "      <td>1.0</td>\n",
       "      <td>1.5</td>\n",
       "      <td>2.0</td>\n",
       "      <td>3.0</td>\n",
       "      <td>3.0</td>\n",
       "      <td>2</td>\n",
       "    </tr>\n",
       "    <tr>\n",
       "      <th>2</th>\n",
       "      <td>67.0</td>\n",
       "      <td>1.0</td>\n",
       "      <td>4.0</td>\n",
       "      <td>120.0</td>\n",
       "      <td>229.0</td>\n",
       "      <td>0.0</td>\n",
       "      <td>2.0</td>\n",
       "      <td>129.0</td>\n",
       "      <td>1.0</td>\n",
       "      <td>2.6</td>\n",
       "      <td>2.0</td>\n",
       "      <td>2.0</td>\n",
       "      <td>7.0</td>\n",
       "      <td>1</td>\n",
       "    </tr>\n",
       "    <tr>\n",
       "      <th>3</th>\n",
       "      <td>37.0</td>\n",
       "      <td>1.0</td>\n",
       "      <td>3.0</td>\n",
       "      <td>130.0</td>\n",
       "      <td>250.0</td>\n",
       "      <td>0.0</td>\n",
       "      <td>0.0</td>\n",
       "      <td>187.0</td>\n",
       "      <td>0.0</td>\n",
       "      <td>3.5</td>\n",
       "      <td>3.0</td>\n",
       "      <td>0.0</td>\n",
       "      <td>3.0</td>\n",
       "      <td>0</td>\n",
       "    </tr>\n",
       "    <tr>\n",
       "      <th>4</th>\n",
       "      <td>41.0</td>\n",
       "      <td>0.0</td>\n",
       "      <td>2.0</td>\n",
       "      <td>130.0</td>\n",
       "      <td>204.0</td>\n",
       "      <td>0.0</td>\n",
       "      <td>2.0</td>\n",
       "      <td>172.0</td>\n",
       "      <td>0.0</td>\n",
       "      <td>1.4</td>\n",
       "      <td>1.0</td>\n",
       "      <td>0.0</td>\n",
       "      <td>3.0</td>\n",
       "      <td>0</td>\n",
       "    </tr>\n",
       "  </tbody>\n",
       "</table>\n",
       "</div>"
      ],
      "text/plain": [
       "    age  sex   cp  trestbps   chol  fbs  restecg  thalach  exang  oldpeak  \\\n",
       "0  63.0  1.0  1.0     145.0  233.0  1.0      2.0    150.0    0.0      2.3   \n",
       "1  67.0  1.0  4.0     160.0  286.0  0.0      2.0    108.0    1.0      1.5   \n",
       "2  67.0  1.0  4.0     120.0  229.0  0.0      2.0    129.0    1.0      2.6   \n",
       "3  37.0  1.0  3.0     130.0  250.0  0.0      0.0    187.0    0.0      3.5   \n",
       "4  41.0  0.0  2.0     130.0  204.0  0.0      2.0    172.0    0.0      1.4   \n",
       "\n",
       "   slope   ca thal  target  \n",
       "0    3.0  0.0  6.0       0  \n",
       "1    2.0  3.0  3.0       2  \n",
       "2    2.0  2.0  7.0       1  \n",
       "3    3.0  0.0  3.0       0  \n",
       "4    1.0  0.0  3.0       0  "
      ]
     },
     "execution_count": 14,
     "metadata": {},
     "output_type": "execute_result"
    }
   ],
   "source": [
    "heart_df.head()"
   ]
  },
  {
   "cell_type": "code",
   "execution_count": 15,
   "metadata": {},
   "outputs": [
    {
     "data": {
      "text/plain": [
       "0    0\n",
       "1    2\n",
       "2    1\n",
       "3    0\n",
       "4    0\n",
       "Name: target, dtype: int64"
      ]
     },
     "execution_count": 15,
     "metadata": {},
     "output_type": "execute_result"
    }
   ],
   "source": [
    "# Buat data yang berisikan data target\n",
    "# Pilih data dengan nama kolom 'target' sebagai output data\n",
    "output_data = heart_df['target']\n",
    "\n",
    "output_data.head()"
   ]
  },
  {
   "cell_type": "markdown",
   "metadata": {},
   "source": [
    "**Buat data input**\n",
    "\n",
    "- DATA = INPUT + OUTPUT\n",
    "- DATA - OUTPUT = INPUT\n",
    "- Jadi kalau dari data, kita drop VARIABLE OUTPUT, maka tersisa hanya variabel INPUT."
   ]
  },
  {
   "cell_type": "code",
   "execution_count": 16,
   "metadata": {},
   "outputs": [],
   "source": [
    "# def extractInputOutput(data, output_column_name, column_to_drop=None):\n",
    "def extractInputOutput(data, output_column_name):\n",
    "    \"\"\"\n",
    "    Fungsi untuk memisahkan data input dan output\n",
    "    :param data: <pandas dataframe> data seluruh sample\n",
    "    :param output_column_name: <string> nama kolom output\n",
    "    :param column_to_drop: daftar nama kolom yang ingin dihapus sebelum memisahkan\n",
    "    :return input_data: <pandas dataframe> data input, <pandas series> data output\n",
    "    \"\"\"\n",
    "    # drop data yang tidak diperlukan jika ada\n",
    "    # if column_to_drop:\n",
    "    #     data = data.drop(columns=column_to_drop)\n",
    "\n",
    "    # pisahkan data output\n",
    "    output_data = data[output_column_name]\n",
    "    \n",
    "    # drop kolom output dari data untuk mendapatkan input_data\n",
    "    input_data = data.drop(columns=output_column_name, axis=1)\n",
    "\n",
    "    return input_data, output_data\n",
    "\n",
    "# (data, output_column_name) adalah argumen\n",
    "# Argumen adalah sebuah variable\n",
    "# Jika fungsi tsb diberi argumen data = heart_df\n",
    "# maka semua variable 'data' didalam fungsi akan berubah menjadi heart_data"
   ]
  },
  {
   "cell_type": "code",
   "execution_count": 17,
   "metadata": {},
   "outputs": [],
   "source": [
    "# input_data, output_data = extractInputOutput(heart_df, 'target')\n",
    "x, y = extractInputOutput(heart_df, output_column_name='target')"
   ]
  },
  {
   "cell_type": "code",
   "execution_count": 18,
   "metadata": {},
   "outputs": [
    {
     "data": {
      "text/html": [
       "<div>\n",
       "<style scoped>\n",
       "    .dataframe tbody tr th:only-of-type {\n",
       "        vertical-align: middle;\n",
       "    }\n",
       "\n",
       "    .dataframe tbody tr th {\n",
       "        vertical-align: top;\n",
       "    }\n",
       "\n",
       "    .dataframe thead th {\n",
       "        text-align: right;\n",
       "    }\n",
       "</style>\n",
       "<table border=\"1\" class=\"dataframe\">\n",
       "  <thead>\n",
       "    <tr style=\"text-align: right;\">\n",
       "      <th></th>\n",
       "      <th>age</th>\n",
       "      <th>sex</th>\n",
       "      <th>cp</th>\n",
       "      <th>trestbps</th>\n",
       "      <th>chol</th>\n",
       "      <th>fbs</th>\n",
       "      <th>restecg</th>\n",
       "      <th>thalach</th>\n",
       "      <th>exang</th>\n",
       "      <th>oldpeak</th>\n",
       "      <th>slope</th>\n",
       "      <th>ca</th>\n",
       "      <th>thal</th>\n",
       "    </tr>\n",
       "  </thead>\n",
       "  <tbody>\n",
       "    <tr>\n",
       "      <th>0</th>\n",
       "      <td>63.0</td>\n",
       "      <td>1.0</td>\n",
       "      <td>1.0</td>\n",
       "      <td>145.0</td>\n",
       "      <td>233.0</td>\n",
       "      <td>1.0</td>\n",
       "      <td>2.0</td>\n",
       "      <td>150.0</td>\n",
       "      <td>0.0</td>\n",
       "      <td>2.3</td>\n",
       "      <td>3.0</td>\n",
       "      <td>0.0</td>\n",
       "      <td>6.0</td>\n",
       "    </tr>\n",
       "    <tr>\n",
       "      <th>1</th>\n",
       "      <td>67.0</td>\n",
       "      <td>1.0</td>\n",
       "      <td>4.0</td>\n",
       "      <td>160.0</td>\n",
       "      <td>286.0</td>\n",
       "      <td>0.0</td>\n",
       "      <td>2.0</td>\n",
       "      <td>108.0</td>\n",
       "      <td>1.0</td>\n",
       "      <td>1.5</td>\n",
       "      <td>2.0</td>\n",
       "      <td>3.0</td>\n",
       "      <td>3.0</td>\n",
       "    </tr>\n",
       "    <tr>\n",
       "      <th>2</th>\n",
       "      <td>67.0</td>\n",
       "      <td>1.0</td>\n",
       "      <td>4.0</td>\n",
       "      <td>120.0</td>\n",
       "      <td>229.0</td>\n",
       "      <td>0.0</td>\n",
       "      <td>2.0</td>\n",
       "      <td>129.0</td>\n",
       "      <td>1.0</td>\n",
       "      <td>2.6</td>\n",
       "      <td>2.0</td>\n",
       "      <td>2.0</td>\n",
       "      <td>7.0</td>\n",
       "    </tr>\n",
       "    <tr>\n",
       "      <th>3</th>\n",
       "      <td>37.0</td>\n",
       "      <td>1.0</td>\n",
       "      <td>3.0</td>\n",
       "      <td>130.0</td>\n",
       "      <td>250.0</td>\n",
       "      <td>0.0</td>\n",
       "      <td>0.0</td>\n",
       "      <td>187.0</td>\n",
       "      <td>0.0</td>\n",
       "      <td>3.5</td>\n",
       "      <td>3.0</td>\n",
       "      <td>0.0</td>\n",
       "      <td>3.0</td>\n",
       "    </tr>\n",
       "    <tr>\n",
       "      <th>4</th>\n",
       "      <td>41.0</td>\n",
       "      <td>0.0</td>\n",
       "      <td>2.0</td>\n",
       "      <td>130.0</td>\n",
       "      <td>204.0</td>\n",
       "      <td>0.0</td>\n",
       "      <td>2.0</td>\n",
       "      <td>172.0</td>\n",
       "      <td>0.0</td>\n",
       "      <td>1.4</td>\n",
       "      <td>1.0</td>\n",
       "      <td>0.0</td>\n",
       "      <td>3.0</td>\n",
       "    </tr>\n",
       "  </tbody>\n",
       "</table>\n",
       "</div>"
      ],
      "text/plain": [
       "    age  sex   cp  trestbps   chol  fbs  restecg  thalach  exang  oldpeak  \\\n",
       "0  63.0  1.0  1.0     145.0  233.0  1.0      2.0    150.0    0.0      2.3   \n",
       "1  67.0  1.0  4.0     160.0  286.0  0.0      2.0    108.0    1.0      1.5   \n",
       "2  67.0  1.0  4.0     120.0  229.0  0.0      2.0    129.0    1.0      2.6   \n",
       "3  37.0  1.0  3.0     130.0  250.0  0.0      0.0    187.0    0.0      3.5   \n",
       "4  41.0  0.0  2.0     130.0  204.0  0.0      2.0    172.0    0.0      1.4   \n",
       "\n",
       "   slope   ca thal  \n",
       "0    3.0  0.0  6.0  \n",
       "1    2.0  3.0  3.0  \n",
       "2    2.0  2.0  7.0  \n",
       "3    3.0  0.0  3.0  \n",
       "4    1.0  0.0  3.0  "
      ]
     },
     "execution_count": 18,
     "metadata": {},
     "output_type": "execute_result"
    }
   ],
   "source": [
    "x.head()"
   ]
  },
  {
   "cell_type": "code",
   "execution_count": 19,
   "metadata": {},
   "outputs": [
    {
     "data": {
      "text/plain": [
       "0    0\n",
       "1    2\n",
       "2    1\n",
       "3    0\n",
       "4    0\n",
       "Name: target, dtype: int64"
      ]
     },
     "execution_count": 19,
     "metadata": {},
     "output_type": "execute_result"
    }
   ],
   "source": [
    "y.head()"
   ]
  },
  {
   "cell_type": "markdown",
   "metadata": {},
   "source": [
    "### **Train-Test Split**\n",
    "- **Kenapa?**\n",
    "    - Karena tidak ingin overfit data training\n",
    "    - Test data akan menjadi future data\n",
    "    - Kita akan melatih model ML di data training dengan CV (Cross Validation)\n",
    "    - Selanjutnya melakukan evaluasi di data testing"
   ]
  },
  {
   "cell_type": "markdown",
   "metadata": {},
   "source": [
    "**Train Test Split Function**\n",
    "1. `X` adalah input\n",
    "2. `y` adalah output (target)\n",
    "3. `test_size` adalah seberapa besar proporsi data test dari keseluruhan data. Contoh `test_size = 0.2` artinya data test akan berisi 20% data.\n",
    "4. `random_state` adalah kunci untuk random. Harus di-setting sama. Misal `random_state = 42`.\n",
    "5. Output:\n",
    "   - `x_train` = input dari data training\n",
    "   - `x_test` = input dari data testing\n",
    "   - `y_train` = output dari data training\n",
    "   - `y_test` = output dari data testing\n",
    "6. Urutan outputnya: `x_train, x_test, y_train, y_test`. Tidak boleh terbalik\n",
    "\n",
    "> Readmore: https://scikit-learn.org/stable/modules/generated/sklearn.model_selection.train_test_split.html"
   ]
  },
  {
   "cell_type": "code",
   "execution_count": 20,
   "metadata": {},
   "outputs": [],
   "source": [
    "# Import train-test splitting library dari sklearn\n",
    "from sklearn.model_selection import train_test_split\n",
    "\n",
    "# Train Test Split\n",
    "# Test size 0.20 atau 20%\n",
    "x_train, x_test, y_train, y_test = train_test_split(x, y, test_size=0.2,\n",
    "                                                    random_state=42)"
   ]
  },
  {
   "cell_type": "code",
   "execution_count": 21,
   "metadata": {},
   "outputs": [
    {
     "name": "stdout",
     "output_type": "stream",
     "text": [
      "Bentuk x_train (242, 13)\n",
      "Bentuk x_test  (61, 13)\n",
      "Bentuk y_train (242,)\n",
      "Bentuk y_test  (61,)\n"
     ]
    }
   ],
   "source": [
    "# Sanity chect hasil splitting\n",
    "print('Bentuk x_train', x_train.shape)\n",
    "print('Bentuk x_test ', x_test.shape)\n",
    "print('Bentuk y_train', y_train.shape)\n",
    "print('Bentuk y_test ',y_test.shape)"
   ]
  },
  {
   "cell_type": "code",
   "execution_count": 22,
   "metadata": {},
   "outputs": [
    {
     "data": {
      "text/plain": [
       "0.20132013201320131"
      ]
     },
     "execution_count": 22,
     "metadata": {},
     "output_type": "execute_result"
    }
   ],
   "source": [
    "# Ratio data train\n",
    "x_test.shape[0] / x.shape[0]\n",
    "\n",
    "# Hasil 0.20 --> artinya sudah sesuai denga test_size"
   ]
  },
  {
   "cell_type": "markdown",
   "metadata": {},
   "source": [
    "**Congrats kita sudah punya data train & test**"
   ]
  },
  {
   "cell_type": "markdown",
   "metadata": {},
   "source": [
    "### **Data Imputation**\n",
    "- Proses pengisian data yang kosong (NaN)\n",
    "- Ada 2 hal yang perlu diperhatikan:\n",
    "    - Numerical Imputation\n",
    "    - Categorical Imputation"
   ]
  },
  {
   "cell_type": "markdown",
   "metadata": {},
   "source": [
    "**Cek data yang kosong dari variable input**"
   ]
  },
  {
   "cell_type": "code",
   "execution_count": 23,
   "metadata": {},
   "outputs": [
    {
     "data": {
      "text/plain": [
       "age         False\n",
       "sex         False\n",
       "cp          False\n",
       "trestbps    False\n",
       "chol        False\n",
       "fbs         False\n",
       "restecg     False\n",
       "thalach     False\n",
       "exang       False\n",
       "oldpeak     False\n",
       "slope       False\n",
       "ca           True\n",
       "thal         True\n",
       "dtype: bool"
      ]
     },
     "execution_count": 23,
     "metadata": {},
     "output_type": "execute_result"
    }
   ],
   "source": [
    "# Cek nilai NaN pada data input\n",
    "x_train.isna().any()\n",
    "\n",
    "# False --> tidak ada nilai NaN\n",
    "# True --> ada nilai NaN"
   ]
  },
  {
   "cell_type": "code",
   "execution_count": 24,
   "metadata": {},
   "outputs": [
    {
     "data": {
      "text/plain": [
       "False"
      ]
     },
     "execution_count": 24,
     "metadata": {},
     "output_type": "execute_result"
    }
   ],
   "source": [
    "# Cek nilai NaN pada data output\n",
    "y_train.isna().any()\n",
    "\n",
    "# False --> Tidak ada nilai NaN"
   ]
  },
  {
   "cell_type": "markdown",
   "metadata": {},
   "source": [
    "**Bedakan antara data categorical dengan numerical**"
   ]
  },
  {
   "cell_type": "markdown",
   "metadata": {},
   "source": [
    "**Data Categorical**\n",
    "- sex\n",
    "- cp\n",
    "- fbs\n",
    "- restecg\n",
    "- exang\n",
    "- slope\n",
    "- thal\n",
    "\n",
    "Sisanya adalah numerical"
   ]
  },
  {
   "cell_type": "code",
   "execution_count": 25,
   "metadata": {},
   "outputs": [
    {
     "data": {
      "text/plain": [
       "Index(['age', 'sex', 'cp', 'trestbps', 'chol', 'fbs', 'restecg', 'thalach',\n",
       "       'exang', 'oldpeak', 'slope', 'ca', 'thal'],\n",
       "      dtype='object')"
      ]
     },
     "execution_count": 25,
     "metadata": {},
     "output_type": "execute_result"
    }
   ],
   "source": [
    "# Lihat nama kolom data train\n",
    "x_train.columns"
   ]
  },
  {
   "cell_type": "code",
   "execution_count": 26,
   "metadata": {},
   "outputs": [],
   "source": [
    "# Buat kolom numerical dan categorical\n",
    "categorical_column = ['sex','cp','fbs','restecg','exang','slope','thal']\n",
    "\n",
    "numerical_column = ['age','trestbps','chol','thalach','oldpeak']"
   ]
  },
  {
   "cell_type": "code",
   "execution_count": 27,
   "metadata": {},
   "outputs": [
    {
     "name": "stdout",
     "output_type": "stream",
     "text": [
      "['sex', 'cp', 'fbs', 'restecg', 'exang', 'slope', 'thal']\n",
      "['age', 'trestbps', 'chol', 'thalach', 'oldpeak']\n"
     ]
    }
   ],
   "source": [
    "# Lihat hasil pengkategorian\n",
    "print(categorical_column)\n",
    "print(numerical_column)"
   ]
  },
  {
   "cell_type": "code",
   "execution_count": 28,
   "metadata": {},
   "outputs": [],
   "source": [
    "# Seleksi dataframe x_train_categorical dan x_train_numerical\n",
    "x_train_categorical = x_train[categorical_column]\n",
    "\n",
    "x_train_numerical = x_train[numerical_column]"
   ]
  },
  {
   "cell_type": "markdown",
   "metadata": {},
   "source": [
    "**Cek apakah ada data numerik yang kosong**"
   ]
  },
  {
   "cell_type": "code",
   "execution_count": 29,
   "metadata": {},
   "outputs": [
    {
     "data": {
      "text/plain": [
       "age         False\n",
       "trestbps    False\n",
       "chol        False\n",
       "thalach     False\n",
       "oldpeak     False\n",
       "dtype: bool"
      ]
     },
     "execution_count": 29,
     "metadata": {},
     "output_type": "execute_result"
    }
   ],
   "source": [
    "# Cek nilai kosongpada x_train numerik\n",
    "x_train_numerical.isnull().any()\n",
    "\n",
    "# Tidak ada variable numerik yang kosong"
   ]
  },
  {
   "cell_type": "markdown",
   "metadata": {},
   "source": [
    "**Cek apakah ada data kategorik yang kosong**"
   ]
  },
  {
   "cell_type": "code",
   "execution_count": 30,
   "metadata": {},
   "outputs": [
    {
     "data": {
      "text/plain": [
       "sex        0\n",
       "cp         0\n",
       "fbs        0\n",
       "restecg    0\n",
       "exang      0\n",
       "slope      0\n",
       "thal       2\n",
       "dtype: int64"
      ]
     },
     "execution_count": 30,
     "metadata": {},
     "output_type": "execute_result"
    }
   ],
   "source": [
    "# Cek nilai missing value pada x_train_kategorik\n",
    "x_train_categorical.isnull().sum()\n",
    "\n",
    "# Variable kolom thal terdapat missing value"
   ]
  },
  {
   "cell_type": "markdown",
   "metadata": {},
   "source": [
    "**Categorical Imputation**"
   ]
  },
  {
   "cell_type": "code",
   "execution_count": 31,
   "metadata": {},
   "outputs": [],
   "source": [
    "def categoricalImputation(data, categorical_column):\n",
    "    \"\"\"\n",
    "    Fungsi untuk melakukan imputasi data kategorik\n",
    "    :parameter data: <pandas dataframe> sample data input\n",
    "    :parameter categorical_column: <list> list kolom kategorikal data\n",
    "    :return categorical_data: <pandas dataframe> data ketegorilal\n",
    "    \"\"\"\n",
    "    # Seleksi data\n",
    "    categorical_data = data[categorical_column]\n",
    "\n",
    "    # Lakukan Imputasi\n",
    "    categorical_data = categorical_data.fillna(value = \"KOSONG\")\n",
    "\n",
    "    return categorical_data"
   ]
  },
  {
   "cell_type": "code",
   "execution_count": 32,
   "metadata": {},
   "outputs": [],
   "source": [
    "x_train_categorical = categoricalImputation(data=x_train, categorical_column=categorical_column)"
   ]
  },
  {
   "cell_type": "code",
   "execution_count": 33,
   "metadata": {},
   "outputs": [
    {
     "data": {
      "text/html": [
       "<div>\n",
       "<style scoped>\n",
       "    .dataframe tbody tr th:only-of-type {\n",
       "        vertical-align: middle;\n",
       "    }\n",
       "\n",
       "    .dataframe tbody tr th {\n",
       "        vertical-align: top;\n",
       "    }\n",
       "\n",
       "    .dataframe thead th {\n",
       "        text-align: right;\n",
       "    }\n",
       "</style>\n",
       "<table border=\"1\" class=\"dataframe\">\n",
       "  <thead>\n",
       "    <tr style=\"text-align: right;\">\n",
       "      <th></th>\n",
       "      <th>sex</th>\n",
       "      <th>cp</th>\n",
       "      <th>fbs</th>\n",
       "      <th>restecg</th>\n",
       "      <th>exang</th>\n",
       "      <th>slope</th>\n",
       "      <th>thal</th>\n",
       "    </tr>\n",
       "  </thead>\n",
       "  <tbody>\n",
       "    <tr>\n",
       "      <th>266</th>\n",
       "      <td>1.0</td>\n",
       "      <td>4.0</td>\n",
       "      <td>1.0</td>\n",
       "      <td>0.0</td>\n",
       "      <td>1.0</td>\n",
       "      <td>2.0</td>\n",
       "      <td>KOSONG</td>\n",
       "    </tr>\n",
       "    <tr>\n",
       "      <th>87</th>\n",
       "      <td>0.0</td>\n",
       "      <td>3.0</td>\n",
       "      <td>0.0</td>\n",
       "      <td>2.0</td>\n",
       "      <td>0.0</td>\n",
       "      <td>1.0</td>\n",
       "      <td>KOSONG</td>\n",
       "    </tr>\n",
       "  </tbody>\n",
       "</table>\n",
       "</div>"
      ],
      "text/plain": [
       "     sex   cp  fbs  restecg  exang  slope    thal\n",
       "266  1.0  4.0  1.0      0.0    1.0    2.0  KOSONG\n",
       "87   0.0  3.0  0.0      2.0    0.0    1.0  KOSONG"
      ]
     },
     "execution_count": 33,
     "metadata": {},
     "output_type": "execute_result"
    }
   ],
   "source": [
    "x_train_categorical[x_train_categorical.isin(['KOSONG']).any(axis=1)]"
   ]
  },
  {
   "cell_type": "code",
   "execution_count": 34,
   "metadata": {},
   "outputs": [
    {
     "data": {
      "text/plain": [
       "sex        0\n",
       "cp         0\n",
       "fbs        0\n",
       "restecg    0\n",
       "exang      0\n",
       "slope      0\n",
       "thal       0\n",
       "dtype: int64"
      ]
     },
     "execution_count": 34,
     "metadata": {},
     "output_type": "execute_result"
    }
   ],
   "source": [
    "x_train_categorical.isnull().sum()"
   ]
  },
  {
   "cell_type": "code",
   "execution_count": 35,
   "metadata": {},
   "outputs": [
    {
     "data": {
      "text/plain": [
       "sex        float64\n",
       "cp         float64\n",
       "fbs        float64\n",
       "restecg    float64\n",
       "exang      float64\n",
       "slope      float64\n",
       "thal        object\n",
       "dtype: object"
      ]
     },
     "execution_count": 35,
     "metadata": {},
     "output_type": "execute_result"
    }
   ],
   "source": [
    "# Cek data type dari variable kategorik\n",
    "x_train_categorical.dtypes"
   ]
  },
  {
   "cell_type": "markdown",
   "metadata": {},
   "source": [
    "**Preprocessing Categorical Variables**\n",
    "- Kita tidak bisa memasukkan data categorical jika tidak diubah menjadi numerical\n",
    "- Solusi --> One Hot Encoding (OHE)"
   ]
  },
  {
   "cell_type": "code",
   "execution_count": 36,
   "metadata": {},
   "outputs": [],
   "source": [
    "def extractCategorical(data, categorical_column):\n",
    "    \"\"\"\n",
    "    Fungsi untuk ekstrak data kategorikal dengan One Hot Encoding (OHE)\n",
    "    :param data: <pandas dataframe> data sample\n",
    "    :param categorical_column: <list> list kolom kategorik\n",
    "    :param categorical_ohe: <pandas dataframe> data sample dengan OHE\n",
    "    :return result_data: <pandas dataframe> hasil penggabungan data sample dengan data ketegorik OHE\n",
    "    \"\"\"\n",
    "    # Pastikan kolom kategorikal bertipe 'category' atau 'object'\n",
    "    data[categorical_column] = data[categorical_column].astype('category')\n",
    "\n",
    "    # Lakukan One-Hot Encoding pada kolom kategorikal\n",
    "    # categorical_ohe = pd.get_dummies(data[categorical_column])\n",
    "    categorical_ohe = pd.get_dummies(data[categorical_column], columns=categorical_column)\n",
    "    \n",
    "    # Gabungkan hasil OHE dengan kolom lainnya (jika ada)\n",
    "    # result_data = pd.concat([data.drop(columns=categorical_column), categorical_ohe], axis=1)\n",
    "    \n",
    "    return categorical_ohe"
   ]
  },
  {
   "cell_type": "code",
   "execution_count": 37,
   "metadata": {},
   "outputs": [],
   "source": [
    "# Panggil fungsi untuk melakukan encoding\n",
    "x_train_categorical_ohe = extractCategorical(data=x_train_categorical, categorical_column=categorical_column)"
   ]
  },
  {
   "cell_type": "code",
   "execution_count": 38,
   "metadata": {},
   "outputs": [
    {
     "name": "stdout",
     "output_type": "stream",
     "text": [
      "<class 'pandas.core.frame.DataFrame'>\n",
      "Index: 242 entries, 132 to 102\n",
      "Data columns (total 20 columns):\n",
      " #   Column       Non-Null Count  Dtype\n",
      "---  ------       --------------  -----\n",
      " 0   sex_0.0      242 non-null    bool \n",
      " 1   sex_1.0      242 non-null    bool \n",
      " 2   cp_1.0       242 non-null    bool \n",
      " 3   cp_2.0       242 non-null    bool \n",
      " 4   cp_3.0       242 non-null    bool \n",
      " 5   cp_4.0       242 non-null    bool \n",
      " 6   fbs_0.0      242 non-null    bool \n",
      " 7   fbs_1.0      242 non-null    bool \n",
      " 8   restecg_0.0  242 non-null    bool \n",
      " 9   restecg_1.0  242 non-null    bool \n",
      " 10  restecg_2.0  242 non-null    bool \n",
      " 11  exang_0.0    242 non-null    bool \n",
      " 12  exang_1.0    242 non-null    bool \n",
      " 13  slope_1.0    242 non-null    bool \n",
      " 14  slope_2.0    242 non-null    bool \n",
      " 15  slope_3.0    242 non-null    bool \n",
      " 16  thal_3.0     242 non-null    bool \n",
      " 17  thal_6.0     242 non-null    bool \n",
      " 18  thal_7.0     242 non-null    bool \n",
      " 19  thal_KOSONG  242 non-null    bool \n",
      "dtypes: bool(20)\n",
      "memory usage: 6.6 KB\n"
     ]
    }
   ],
   "source": [
    "x_train_categorical_ohe.info()"
   ]
  },
  {
   "cell_type": "code",
   "execution_count": 39,
   "metadata": {},
   "outputs": [],
   "source": [
    "# Simpan kolom OHE untuk diimplementasikan dalam testing data\n",
    "# Agar shape nya konsisten\n",
    "ohe_columns = x_train_categorical_ohe.columns"
   ]
  },
  {
   "cell_type": "code",
   "execution_count": 40,
   "metadata": {},
   "outputs": [
    {
     "data": {
      "text/plain": [
       "Index(['sex_0.0', 'sex_1.0', 'cp_1.0', 'cp_2.0', 'cp_3.0', 'cp_4.0', 'fbs_0.0',\n",
       "       'fbs_1.0', 'restecg_0.0', 'restecg_1.0', 'restecg_2.0', 'exang_0.0',\n",
       "       'exang_1.0', 'slope_1.0', 'slope_2.0', 'slope_3.0', 'thal_3.0',\n",
       "       'thal_6.0', 'thal_7.0', 'thal_KOSONG'],\n",
       "      dtype='object')"
      ]
     },
     "execution_count": 40,
     "metadata": {},
     "output_type": "execute_result"
    }
   ],
   "source": [
    "ohe_columns"
   ]
  },
  {
   "cell_type": "markdown",
   "metadata": {},
   "source": [
    "### Join data Numerical dan Categorical\n",
    "- Data numerik & kategorik harus digabungkan kembali\n",
    "- Penggabungan dengan `pd.concat`"
   ]
  },
  {
   "cell_type": "code",
   "execution_count": 41,
   "metadata": {},
   "outputs": [],
   "source": [
    "# Lakukan penggabungan data numerik dan data kategorik yang sudah di encoded\n",
    "x_train_concat = pd.concat([x_train_numerical, x_train_categorical_ohe],axis=1)"
   ]
  },
  {
   "cell_type": "code",
   "execution_count": 42,
   "metadata": {},
   "outputs": [
    {
     "data": {
      "text/html": [
       "<div>\n",
       "<style scoped>\n",
       "    .dataframe tbody tr th:only-of-type {\n",
       "        vertical-align: middle;\n",
       "    }\n",
       "\n",
       "    .dataframe tbody tr th {\n",
       "        vertical-align: top;\n",
       "    }\n",
       "\n",
       "    .dataframe thead th {\n",
       "        text-align: right;\n",
       "    }\n",
       "</style>\n",
       "<table border=\"1\" class=\"dataframe\">\n",
       "  <thead>\n",
       "    <tr style=\"text-align: right;\">\n",
       "      <th></th>\n",
       "      <th>age</th>\n",
       "      <th>trestbps</th>\n",
       "      <th>chol</th>\n",
       "      <th>thalach</th>\n",
       "      <th>oldpeak</th>\n",
       "      <th>sex_0.0</th>\n",
       "      <th>sex_1.0</th>\n",
       "      <th>cp_1.0</th>\n",
       "      <th>cp_2.0</th>\n",
       "      <th>cp_3.0</th>\n",
       "      <th>...</th>\n",
       "      <th>restecg_2.0</th>\n",
       "      <th>exang_0.0</th>\n",
       "      <th>exang_1.0</th>\n",
       "      <th>slope_1.0</th>\n",
       "      <th>slope_2.0</th>\n",
       "      <th>slope_3.0</th>\n",
       "      <th>thal_3.0</th>\n",
       "      <th>thal_6.0</th>\n",
       "      <th>thal_7.0</th>\n",
       "      <th>thal_KOSONG</th>\n",
       "    </tr>\n",
       "  </thead>\n",
       "  <tbody>\n",
       "    <tr>\n",
       "      <th>132</th>\n",
       "      <td>29.0</td>\n",
       "      <td>130.0</td>\n",
       "      <td>204.0</td>\n",
       "      <td>202.0</td>\n",
       "      <td>0.0</td>\n",
       "      <td>False</td>\n",
       "      <td>True</td>\n",
       "      <td>False</td>\n",
       "      <td>True</td>\n",
       "      <td>False</td>\n",
       "      <td>...</td>\n",
       "      <td>True</td>\n",
       "      <td>True</td>\n",
       "      <td>False</td>\n",
       "      <td>True</td>\n",
       "      <td>False</td>\n",
       "      <td>False</td>\n",
       "      <td>True</td>\n",
       "      <td>False</td>\n",
       "      <td>False</td>\n",
       "      <td>False</td>\n",
       "    </tr>\n",
       "    <tr>\n",
       "      <th>202</th>\n",
       "      <td>57.0</td>\n",
       "      <td>150.0</td>\n",
       "      <td>126.0</td>\n",
       "      <td>173.0</td>\n",
       "      <td>0.2</td>\n",
       "      <td>False</td>\n",
       "      <td>True</td>\n",
       "      <td>False</td>\n",
       "      <td>False</td>\n",
       "      <td>True</td>\n",
       "      <td>...</td>\n",
       "      <td>False</td>\n",
       "      <td>True</td>\n",
       "      <td>False</td>\n",
       "      <td>True</td>\n",
       "      <td>False</td>\n",
       "      <td>False</td>\n",
       "      <td>False</td>\n",
       "      <td>False</td>\n",
       "      <td>True</td>\n",
       "      <td>False</td>\n",
       "    </tr>\n",
       "    <tr>\n",
       "      <th>196</th>\n",
       "      <td>69.0</td>\n",
       "      <td>160.0</td>\n",
       "      <td>234.0</td>\n",
       "      <td>131.0</td>\n",
       "      <td>0.1</td>\n",
       "      <td>False</td>\n",
       "      <td>True</td>\n",
       "      <td>True</td>\n",
       "      <td>False</td>\n",
       "      <td>False</td>\n",
       "      <td>...</td>\n",
       "      <td>True</td>\n",
       "      <td>True</td>\n",
       "      <td>False</td>\n",
       "      <td>False</td>\n",
       "      <td>True</td>\n",
       "      <td>False</td>\n",
       "      <td>True</td>\n",
       "      <td>False</td>\n",
       "      <td>False</td>\n",
       "      <td>False</td>\n",
       "    </tr>\n",
       "    <tr>\n",
       "      <th>75</th>\n",
       "      <td>65.0</td>\n",
       "      <td>160.0</td>\n",
       "      <td>360.0</td>\n",
       "      <td>151.0</td>\n",
       "      <td>0.8</td>\n",
       "      <td>True</td>\n",
       "      <td>False</td>\n",
       "      <td>False</td>\n",
       "      <td>False</td>\n",
       "      <td>True</td>\n",
       "      <td>...</td>\n",
       "      <td>True</td>\n",
       "      <td>True</td>\n",
       "      <td>False</td>\n",
       "      <td>True</td>\n",
       "      <td>False</td>\n",
       "      <td>False</td>\n",
       "      <td>True</td>\n",
       "      <td>False</td>\n",
       "      <td>False</td>\n",
       "      <td>False</td>\n",
       "    </tr>\n",
       "    <tr>\n",
       "      <th>176</th>\n",
       "      <td>52.0</td>\n",
       "      <td>108.0</td>\n",
       "      <td>233.0</td>\n",
       "      <td>147.0</td>\n",
       "      <td>0.1</td>\n",
       "      <td>False</td>\n",
       "      <td>True</td>\n",
       "      <td>False</td>\n",
       "      <td>False</td>\n",
       "      <td>False</td>\n",
       "      <td>...</td>\n",
       "      <td>False</td>\n",
       "      <td>True</td>\n",
       "      <td>False</td>\n",
       "      <td>True</td>\n",
       "      <td>False</td>\n",
       "      <td>False</td>\n",
       "      <td>False</td>\n",
       "      <td>False</td>\n",
       "      <td>True</td>\n",
       "      <td>False</td>\n",
       "    </tr>\n",
       "  </tbody>\n",
       "</table>\n",
       "<p>5 rows × 25 columns</p>\n",
       "</div>"
      ],
      "text/plain": [
       "      age  trestbps   chol  thalach  oldpeak  sex_0.0  sex_1.0  cp_1.0  \\\n",
       "132  29.0     130.0  204.0    202.0      0.0    False     True   False   \n",
       "202  57.0     150.0  126.0    173.0      0.2    False     True   False   \n",
       "196  69.0     160.0  234.0    131.0      0.1    False     True    True   \n",
       "75   65.0     160.0  360.0    151.0      0.8     True    False   False   \n",
       "176  52.0     108.0  233.0    147.0      0.1    False     True   False   \n",
       "\n",
       "     cp_2.0  cp_3.0  ...  restecg_2.0  exang_0.0  exang_1.0  slope_1.0  \\\n",
       "132    True   False  ...         True       True      False       True   \n",
       "202   False    True  ...        False       True      False       True   \n",
       "196   False   False  ...         True       True      False      False   \n",
       "75    False    True  ...         True       True      False       True   \n",
       "176   False   False  ...        False       True      False       True   \n",
       "\n",
       "     slope_2.0  slope_3.0  thal_3.0  thal_6.0  thal_7.0  thal_KOSONG  \n",
       "132      False      False      True     False     False        False  \n",
       "202      False      False     False     False      True        False  \n",
       "196       True      False      True     False     False        False  \n",
       "75       False      False      True     False     False        False  \n",
       "176      False      False     False     False      True        False  \n",
       "\n",
       "[5 rows x 25 columns]"
      ]
     },
     "execution_count": 42,
     "metadata": {},
     "output_type": "execute_result"
    }
   ],
   "source": [
    "# Cek hasil penggabungan\n",
    "x_train_concat.head()"
   ]
  },
  {
   "cell_type": "code",
   "execution_count": 43,
   "metadata": {},
   "outputs": [
    {
     "data": {
      "text/plain": [
       "0"
      ]
     },
     "execution_count": 43,
     "metadata": {},
     "output_type": "execute_result"
    }
   ],
   "source": [
    "# Cek nilai kosong hasil penggabungan\n",
    "x_train_concat.isnull().any().sum()"
   ]
  },
  {
   "cell_type": "markdown",
   "metadata": {},
   "source": [
    ">Tidak ada missing value pada penggabungan data numerik dan data kategorik"
   ]
  },
  {
   "cell_type": "code",
   "execution_count": 44,
   "metadata": {},
   "outputs": [
    {
     "data": {
      "text/html": [
       "<div>\n",
       "<style scoped>\n",
       "    .dataframe tbody tr th:only-of-type {\n",
       "        vertical-align: middle;\n",
       "    }\n",
       "\n",
       "    .dataframe tbody tr th {\n",
       "        vertical-align: top;\n",
       "    }\n",
       "\n",
       "    .dataframe thead th {\n",
       "        text-align: right;\n",
       "    }\n",
       "</style>\n",
       "<table border=\"1\" class=\"dataframe\">\n",
       "  <thead>\n",
       "    <tr style=\"text-align: right;\">\n",
       "      <th></th>\n",
       "      <th>count</th>\n",
       "      <th>mean</th>\n",
       "      <th>std</th>\n",
       "      <th>min</th>\n",
       "      <th>25%</th>\n",
       "      <th>50%</th>\n",
       "      <th>75%</th>\n",
       "      <th>max</th>\n",
       "    </tr>\n",
       "  </thead>\n",
       "  <tbody>\n",
       "    <tr>\n",
       "      <th>age</th>\n",
       "      <td>242.0</td>\n",
       "      <td>54.805785</td>\n",
       "      <td>9.110177</td>\n",
       "      <td>29.0</td>\n",
       "      <td>48.0</td>\n",
       "      <td>56.00</td>\n",
       "      <td>61.75</td>\n",
       "      <td>77.0</td>\n",
       "    </tr>\n",
       "    <tr>\n",
       "      <th>trestbps</th>\n",
       "      <td>242.0</td>\n",
       "      <td>132.289256</td>\n",
       "      <td>18.208993</td>\n",
       "      <td>94.0</td>\n",
       "      <td>120.0</td>\n",
       "      <td>130.00</td>\n",
       "      <td>140.00</td>\n",
       "      <td>200.0</td>\n",
       "    </tr>\n",
       "    <tr>\n",
       "      <th>chol</th>\n",
       "      <td>242.0</td>\n",
       "      <td>245.619835</td>\n",
       "      <td>48.262982</td>\n",
       "      <td>126.0</td>\n",
       "      <td>212.0</td>\n",
       "      <td>240.00</td>\n",
       "      <td>272.50</td>\n",
       "      <td>417.0</td>\n",
       "    </tr>\n",
       "    <tr>\n",
       "      <th>thalach</th>\n",
       "      <td>242.0</td>\n",
       "      <td>150.099174</td>\n",
       "      <td>22.470970</td>\n",
       "      <td>71.0</td>\n",
       "      <td>136.0</td>\n",
       "      <td>152.50</td>\n",
       "      <td>166.75</td>\n",
       "      <td>202.0</td>\n",
       "    </tr>\n",
       "    <tr>\n",
       "      <th>oldpeak</th>\n",
       "      <td>242.0</td>\n",
       "      <td>1.035537</td>\n",
       "      <td>1.187861</td>\n",
       "      <td>0.0</td>\n",
       "      <td>0.0</td>\n",
       "      <td>0.75</td>\n",
       "      <td>1.60</td>\n",
       "      <td>6.2</td>\n",
       "    </tr>\n",
       "  </tbody>\n",
       "</table>\n",
       "</div>"
      ],
      "text/plain": [
       "          count        mean        std    min    25%     50%     75%    max\n",
       "age       242.0   54.805785   9.110177   29.0   48.0   56.00   61.75   77.0\n",
       "trestbps  242.0  132.289256  18.208993   94.0  120.0  130.00  140.00  200.0\n",
       "chol      242.0  245.619835  48.262982  126.0  212.0  240.00  272.50  417.0\n",
       "thalach   242.0  150.099174  22.470970   71.0  136.0  152.50  166.75  202.0\n",
       "oldpeak   242.0    1.035537   1.187861    0.0    0.0    0.75    1.60    6.2"
      ]
     },
     "execution_count": 44,
     "metadata": {},
     "output_type": "execute_result"
    }
   ],
   "source": [
    "x_train_concat.describe().T"
   ]
  },
  {
   "cell_type": "code",
   "execution_count": 45,
   "metadata": {},
   "outputs": [],
   "source": [
    "# x_train.isnull().any()"
   ]
  },
  {
   "cell_type": "code",
   "execution_count": 46,
   "metadata": {},
   "outputs": [
    {
     "data": {
      "image/png": "[encoded data removed]",
      "text/plain": [
       "<Figure size 720x1008 with 12 Axes>"
      ]
     },
     "metadata": {
      "needs_background": "light"
     },
     "output_type": "display_data"
    }
   ],
   "source": [
    "# Visualisasi distribusi data input\n",
    "# Import library untuk memvisualisasi\n",
    "\n",
    "import matplotlib.pyplot as plt\n",
    "import seaborn as sns\n",
    "\n",
    "# Buat kolom- kolom tertentu untuk divisualisasikan\n",
    "columns = ['trestbps','chol','thalach','oldpeak', 'ca', 'thal']\n",
    "\n",
    "a = len(columns) # jumlah baris\n",
    "b = 2 # jumlah kolom\n",
    "c = 1 # inisial plot counter\n",
    "\n",
    "fig = plt.figure(figsize=(10,14))\n",
    "plt.suptitle(\"Visualisasi distribusi data dan boxplot\", fontsize=18)\n",
    "\n",
    "# Iterasi melalui kolom-kolom dan membuat boxplot\n",
    "for i in columns:\n",
    "    plt.subplot(a, b, c)\n",
    "    plt.title('{} (dist)'.format(i,))\n",
    "    plt.xlabel(i)\n",
    "    sns.histplot(data=x_train, x=i,kde=True)\n",
    "    c = c + 1\n",
    "\n",
    "    plt.subplot(a, b, c)\n",
    "    plt.title('{} (boxplot)'.format(i,))\n",
    "    plt.xlabel(i)\n",
    "    sns.boxplot(data=x_train, x=i)\n",
    "    c = c + 1\n",
    "   \n",
    "plt.tight_layout()\n",
    "plt.show()"
   ]
  },
  {
   "cell_type": "markdown",
   "metadata": {},
   "source": [
    ">Insight / Wawasan\n",
    "1. trestbps (Resting Blood Pressure):\n",
    "    - Mean: 131.69\n",
    "    - Std Dev: 17.60\n",
    "    - Min: 94.0\n",
    "    - Max: 200.0\n",
    "    - Nilai maksimum 200.0 terlihat cukup jauh dari rata-rata 131.69, menunjukkan adanya kemungkinan outlier di data tekanan darah ini.\n",
    "\n",
    "2. chol (Serum Cholestoral):\n",
    "    - Mean: 246.69\n",
    "    - Std Dev: 51.78\n",
    "    - Min: 126.0\n",
    "    - Max: 564.0\n",
    "    - Cholesterol maksimal 564.0 sangat jauh dari mean 246.69, ini juga mengindikasikan adanya outlier.\n",
    "\n",
    "3. thalach (Maximum Heart Rate Achieved):\n",
    "    - Mean: 149.61\n",
    "    - Std Dev: 22.88\n",
    "    - Min: 71.0\n",
    "    - Max: 202.0\n",
    "    - Nilai minimum 71.0 jauh lebih rendah dari nilai mean dan Q1, yang mengindikasikan kemungkinan outlier di sisi bawah.\n",
    "\n",
    "4. oldpeak (ST Depression Induced by Exercise):\n",
    "    - Mean: 1.04\n",
    "    - Std Dev: 1.16\n",
    "    - Min: 0.0\n",
    "    - Max: 6.2\n",
    "    - Nilai oldpeak maksimal 6.2 juga cukup jauh dari rata-rata dan bahkan Q3 (1.6), yang mungkin menunjukkan adanya outlier.\n",
    "\n",
    "5. ca (Number of Major Vessels Colored by Fluoroscopy):\n",
    "    - Mean: 0.66\n",
    "    - Std Dev: 0.93\n",
    "    - Min: 0.0\n",
    "    - Max: 3.0\n",
    "    - Walaupun distribusi ca terlihat lebih wajar, standar deviasi yang besar menunjukkan bahwa ada variasi yang cukup tinggi, yang mungkin mengindikasikan beberapa nilai outlier.\n",
    "\n",
    "6. thal (Thalassemia):\n",
    "    - Mean: 4.72\n",
    "    - Std Dev: 1.94\n",
    "    - Min: 3.0\n",
    "    - Max: 7.0\n",
    "    - Nilai thal dengan standar deviasi yang cukup besar dan range dari 3.0 sampai 7.0 mengindikasikan adanya perbedaan signifikan dalam distribusi, dan kemungkinan adanya outliers di ujung nilai yang lebih tinggi."
   ]
  },
  {
   "cell_type": "markdown",
   "metadata": {},
   "source": [
    ">**Dari insight diatas kita bisa lihat ada beberapa outlier dalam semua fitur kategorik**"
   ]
  },
  {
   "cell_type": "markdown",
   "metadata": {},
   "source": [
    "### Standardizing Variables\n",
    "- Menyamakan skala dari variable input\n",
    "- `fit` : imputer agar mengetahui mean dan standar deviasi dari setiap kolom\n",
    "- `transform` : isi data dngan value yang sudah di normalisasi\n",
    "- output dari transform berupa pandas dataframe\n",
    "- normalize dikeluarkan karena akan digunakan pada data test\n"
   ]
  },
  {
   "cell_type": "code",
   "execution_count": 47,
   "metadata": {},
   "outputs": [
    {
     "data": {
      "text/plain": [
       "age            False\n",
       "trestbps       False\n",
       "chol           False\n",
       "thalach        False\n",
       "oldpeak        False\n",
       "sex_0.0        False\n",
       "sex_1.0        False\n",
       "cp_1.0         False\n",
       "cp_2.0         False\n",
       "cp_3.0         False\n",
       "cp_4.0         False\n",
       "fbs_0.0        False\n",
       "fbs_1.0        False\n",
       "restecg_0.0    False\n",
       "restecg_1.0    False\n",
       "restecg_2.0    False\n",
       "exang_0.0      False\n",
       "exang_1.0      False\n",
       "slope_1.0      False\n",
       "slope_2.0      False\n",
       "slope_3.0      False\n",
       "thal_3.0       False\n",
       "thal_6.0       False\n",
       "thal_7.0       False\n",
       "thal_KOSONG    False\n",
       "dtype: bool"
      ]
     },
     "execution_count": 47,
     "metadata": {},
     "output_type": "execute_result"
    }
   ],
   "source": [
    "x_train_concat.isnull().any()"
   ]
  },
  {
   "cell_type": "code",
   "execution_count": 48,
   "metadata": {},
   "outputs": [],
   "source": [
    "from sklearn.preprocessing import RobustScaler\n",
    "# from sklearn.preprocessing import StandardScaler\n",
    "\n",
    "data_columns = x_train_concat.columns\n",
    "data_index = x_train_concat.index\n",
    "\n",
    "\n",
    "scaler = RobustScaler()\n",
    "x_train_scaled = scaler.fit_transform(x_train_concat)\n",
    "x_train_scaled = pd.DataFrame(x_train_scaled)\n",
    "x_train_scaled.columns = data_columns\n",
    "x_train_scaled.index = data_index\n",
    "# x_train_scaled.shape"
   ]
  },
  {
   "cell_type": "code",
   "execution_count": 49,
   "metadata": {},
   "outputs": [
    {
     "data": {
      "text/html": [
       "<div>\n",
       "<style scoped>\n",
       "    .dataframe tbody tr th:only-of-type {\n",
       "        vertical-align: middle;\n",
       "    }\n",
       "\n",
       "    .dataframe tbody tr th {\n",
       "        vertical-align: top;\n",
       "    }\n",
       "\n",
       "    .dataframe thead th {\n",
       "        text-align: right;\n",
       "    }\n",
       "</style>\n",
       "<table border=\"1\" class=\"dataframe\">\n",
       "  <thead>\n",
       "    <tr style=\"text-align: right;\">\n",
       "      <th></th>\n",
       "      <th>age</th>\n",
       "      <th>trestbps</th>\n",
       "      <th>chol</th>\n",
       "      <th>thalach</th>\n",
       "      <th>oldpeak</th>\n",
       "      <th>sex_0.0</th>\n",
       "      <th>sex_1.0</th>\n",
       "      <th>cp_1.0</th>\n",
       "      <th>cp_2.0</th>\n",
       "      <th>cp_3.0</th>\n",
       "      <th>...</th>\n",
       "      <th>restecg_2.0</th>\n",
       "      <th>exang_0.0</th>\n",
       "      <th>exang_1.0</th>\n",
       "      <th>slope_1.0</th>\n",
       "      <th>slope_2.0</th>\n",
       "      <th>slope_3.0</th>\n",
       "      <th>thal_3.0</th>\n",
       "      <th>thal_6.0</th>\n",
       "      <th>thal_7.0</th>\n",
       "      <th>thal_KOSONG</th>\n",
       "    </tr>\n",
       "  </thead>\n",
       "  <tbody>\n",
       "    <tr>\n",
       "      <th>132</th>\n",
       "      <td>-1.963636</td>\n",
       "      <td>0.0</td>\n",
       "      <td>-0.595041</td>\n",
       "      <td>1.609756</td>\n",
       "      <td>-0.46875</td>\n",
       "      <td>0.0</td>\n",
       "      <td>0.0</td>\n",
       "      <td>0.0</td>\n",
       "      <td>1.0</td>\n",
       "      <td>0.0</td>\n",
       "      <td>...</td>\n",
       "      <td>1.0</td>\n",
       "      <td>0.0</td>\n",
       "      <td>0.0</td>\n",
       "      <td>1.0</td>\n",
       "      <td>0.0</td>\n",
       "      <td>0.0</td>\n",
       "      <td>0.0</td>\n",
       "      <td>0.0</td>\n",
       "      <td>0.0</td>\n",
       "      <td>0.0</td>\n",
       "    </tr>\n",
       "    <tr>\n",
       "      <th>202</th>\n",
       "      <td>0.072727</td>\n",
       "      <td>1.0</td>\n",
       "      <td>-1.884298</td>\n",
       "      <td>0.666667</td>\n",
       "      <td>-0.34375</td>\n",
       "      <td>0.0</td>\n",
       "      <td>0.0</td>\n",
       "      <td>0.0</td>\n",
       "      <td>0.0</td>\n",
       "      <td>1.0</td>\n",
       "      <td>...</td>\n",
       "      <td>0.0</td>\n",
       "      <td>0.0</td>\n",
       "      <td>0.0</td>\n",
       "      <td>1.0</td>\n",
       "      <td>0.0</td>\n",
       "      <td>0.0</td>\n",
       "      <td>-1.0</td>\n",
       "      <td>0.0</td>\n",
       "      <td>1.0</td>\n",
       "      <td>0.0</td>\n",
       "    </tr>\n",
       "    <tr>\n",
       "      <th>196</th>\n",
       "      <td>0.945455</td>\n",
       "      <td>1.5</td>\n",
       "      <td>-0.099174</td>\n",
       "      <td>-0.699187</td>\n",
       "      <td>-0.40625</td>\n",
       "      <td>0.0</td>\n",
       "      <td>0.0</td>\n",
       "      <td>1.0</td>\n",
       "      <td>0.0</td>\n",
       "      <td>0.0</td>\n",
       "      <td>...</td>\n",
       "      <td>1.0</td>\n",
       "      <td>0.0</td>\n",
       "      <td>0.0</td>\n",
       "      <td>0.0</td>\n",
       "      <td>1.0</td>\n",
       "      <td>0.0</td>\n",
       "      <td>0.0</td>\n",
       "      <td>0.0</td>\n",
       "      <td>0.0</td>\n",
       "      <td>0.0</td>\n",
       "    </tr>\n",
       "    <tr>\n",
       "      <th>75</th>\n",
       "      <td>0.654545</td>\n",
       "      <td>1.5</td>\n",
       "      <td>1.983471</td>\n",
       "      <td>-0.048780</td>\n",
       "      <td>0.03125</td>\n",
       "      <td>1.0</td>\n",
       "      <td>-1.0</td>\n",
       "      <td>0.0</td>\n",
       "      <td>0.0</td>\n",
       "      <td>1.0</td>\n",
       "      <td>...</td>\n",
       "      <td>1.0</td>\n",
       "      <td>0.0</td>\n",
       "      <td>0.0</td>\n",
       "      <td>1.0</td>\n",
       "      <td>0.0</td>\n",
       "      <td>0.0</td>\n",
       "      <td>0.0</td>\n",
       "      <td>0.0</td>\n",
       "      <td>0.0</td>\n",
       "      <td>0.0</td>\n",
       "    </tr>\n",
       "    <tr>\n",
       "      <th>176</th>\n",
       "      <td>-0.290909</td>\n",
       "      <td>-1.1</td>\n",
       "      <td>-0.115702</td>\n",
       "      <td>-0.178862</td>\n",
       "      <td>-0.40625</td>\n",
       "      <td>0.0</td>\n",
       "      <td>0.0</td>\n",
       "      <td>0.0</td>\n",
       "      <td>0.0</td>\n",
       "      <td>0.0</td>\n",
       "      <td>...</td>\n",
       "      <td>0.0</td>\n",
       "      <td>0.0</td>\n",
       "      <td>0.0</td>\n",
       "      <td>1.0</td>\n",
       "      <td>0.0</td>\n",
       "      <td>0.0</td>\n",
       "      <td>-1.0</td>\n",
       "      <td>0.0</td>\n",
       "      <td>1.0</td>\n",
       "      <td>0.0</td>\n",
       "    </tr>\n",
       "  </tbody>\n",
       "</table>\n",
       "<p>5 rows × 25 columns</p>\n",
       "</div>"
      ],
      "text/plain": [
       "          age  trestbps      chol   thalach  oldpeak  sex_0.0  sex_1.0  \\\n",
       "132 -1.963636       0.0 -0.595041  1.609756 -0.46875      0.0      0.0   \n",
       "202  0.072727       1.0 -1.884298  0.666667 -0.34375      0.0      0.0   \n",
       "196  0.945455       1.5 -0.099174 -0.699187 -0.40625      0.0      0.0   \n",
       "75   0.654545       1.5  1.983471 -0.048780  0.03125      1.0     -1.0   \n",
       "176 -0.290909      -1.1 -0.115702 -0.178862 -0.40625      0.0      0.0   \n",
       "\n",
       "     cp_1.0  cp_2.0  cp_3.0  ...  restecg_2.0  exang_0.0  exang_1.0  \\\n",
       "132     0.0     1.0     0.0  ...          1.0        0.0        0.0   \n",
       "202     0.0     0.0     1.0  ...          0.0        0.0        0.0   \n",
       "196     1.0     0.0     0.0  ...          1.0        0.0        0.0   \n",
       "75      0.0     0.0     1.0  ...          1.0        0.0        0.0   \n",
       "176     0.0     0.0     0.0  ...          0.0        0.0        0.0   \n",
       "\n",
       "     slope_1.0  slope_2.0  slope_3.0  thal_3.0  thal_6.0  thal_7.0  \\\n",
       "132        1.0        0.0        0.0       0.0       0.0       0.0   \n",
       "202        1.0        0.0        0.0      -1.0       0.0       1.0   \n",
       "196        0.0        1.0        0.0       0.0       0.0       0.0   \n",
       "75         1.0        0.0        0.0       0.0       0.0       0.0   \n",
       "176        1.0        0.0        0.0      -1.0       0.0       1.0   \n",
       "\n",
       "     thal_KOSONG  \n",
       "132          0.0  \n",
       "202          0.0  \n",
       "196          0.0  \n",
       "75           0.0  \n",
       "176          0.0  \n",
       "\n",
       "[5 rows x 25 columns]"
      ]
     },
     "execution_count": 49,
     "metadata": {},
     "output_type": "execute_result"
    }
   ],
   "source": [
    "x_train_scaled.head()"
   ]
  },
  {
   "cell_type": "markdown",
   "metadata": {},
   "source": [
    "## <b><font color='orange'> 3. Training Machine Learning:</font></b>\n",
    "---\n",
    "        - Kita harus mengalahkan benchmark"
   ]
  },
  {
   "cell_type": "markdown",
   "metadata": {},
   "source": [
    "**Benchmark / Baseline**\n",
    "- Baseline untuk evaluasi nanti\n",
    "- Karena ini klarifikasi, bisa kita ambil dari proporsi kelas target yang terbesar"
   ]
  },
  {
   "cell_type": "code",
   "execution_count": 50,
   "metadata": {},
   "outputs": [
    {
     "data": {
      "text/plain": [
       "target\n",
       "0    0.557851\n",
       "1    0.177686\n",
       "3    0.115702\n",
       "2    0.111570\n",
       "4    0.037190\n",
       "Name: proportion, dtype: float64"
      ]
     },
     "execution_count": 50,
     "metadata": {},
     "output_type": "execute_result"
    }
   ],
   "source": [
    "benchmark = y_train.value_counts(normalize=True)\n",
    "benchmark"
   ]
  },
  {
   "cell_type": "markdown",
   "metadata": {},
   "source": [
    "### 1. Import Model\n",
    "- Kita akan gunakan 3 model ML untuk klarifikasi:\n",
    "    - K-nearest neighbor (K-NN)\n",
    "    - Logistic Regression\n",
    "    - Random Forest\n",
    "    - Adaboost\n",
    "    - SVC\n",
    "    "
   ]
  },
  {
   "cell_type": "code",
   "execution_count": 51,
   "metadata": {},
   "outputs": [],
   "source": [
    "from sklearn.linear_model import LogisticRegression\n",
    "from sklearn.neighbors import KNeighborsClassifier\n",
    "from sklearn.ensemble import RandomForestClassifier\n",
    "from sklearn.ensemble import AdaBoostClassifier\n",
    "from sklearn.svm import SVC\n",
    "from sklearn.metrics import accuracy_score, classification_report\n"
   ]
  },
  {
   "cell_type": "markdown",
   "metadata": {},
   "source": [
    "### 2. Fitting Model, Cek Performa & Prediksi\n",
    "- Cara fitting / training model mengikuti yang dokumentasi model"
   ]
  },
  {
   "cell_type": "code",
   "execution_count": 52,
   "metadata": {},
   "outputs": [
    {
     "name": "stdout",
     "output_type": "stream",
     "text": [
      "Akurasi pada data training : 0.6570247933884298\n",
      "Classification report      :\n",
      "               precision    recall  f1-score   support\n",
      "\n",
      "           0       0.78      0.92      0.85       135\n",
      "           1       0.34      0.26      0.29        43\n",
      "           2       0.38      0.33      0.35        27\n",
      "           3       0.56      0.54      0.55        28\n",
      "           4       0.00      0.00      0.00         9\n",
      "\n",
      "    accuracy                           0.66       242\n",
      "   macro avg       0.41      0.41      0.41       242\n",
      "weighted avg       0.61      0.66      0.63       242\n",
      "\n"
     ]
    }
   ],
   "source": [
    "# Model Logistic Regression\n",
    "logreg = LogisticRegression(random_state=123)\n",
    "logreg.fit(x_train_scaled, y_train) # Latih model menggunakan data yang sudah di-scalling\n",
    "\n",
    "y_pred_logreg = logreg.predict(x_train_scaled)\n",
    "print('Akurasi pada data training :',accuracy_score(y_train, y_pred_logreg))\n",
    "print('Classification report      :\\n',classification_report(y_train, y_pred_logreg))"
   ]
  },
  {
   "cell_type": "markdown",
   "metadata": {},
   "source": [
    "**Insight**\n",
    "\n",
    "Logistic Regression:\n",
    "- Akurasi: 65.7%\n",
    "- Model ini memiliki akurasi yang moderat namun rendah dalam menangani kelas minoritas, seperti kelas 1 dan 4 yang memiliki precision dan recall yang rendah. Ini umum terjadi karena Logistic Regression adalah model linier yang bisa kesulitan menangani hubungan yang kompleks di dalam data.\n",
    "- Kesimpulan: Logistic Regression tidak bekerja dengan baik pada dataset ini, terutama pada kelas yang kurang terwakili."
   ]
  },
  {
   "cell_type": "code",
   "execution_count": 53,
   "metadata": {},
   "outputs": [
    {
     "name": "stdout",
     "output_type": "stream",
     "text": [
      "Akurasi pada data training : 0.7024793388429752\n",
      "Classification report      :\n",
      "               precision    recall  f1-score   support\n",
      "\n",
      "           0       0.80      0.95      0.87       135\n",
      "           1       0.52      0.56      0.54        43\n",
      "           2       0.48      0.41      0.44        27\n",
      "           3       0.50      0.21      0.30        28\n",
      "           4       1.00      0.11      0.20         9\n",
      "\n",
      "    accuracy                           0.70       242\n",
      "   macro avg       0.66      0.45      0.47       242\n",
      "weighted avg       0.69      0.70      0.67       242\n",
      "\n"
     ]
    }
   ],
   "source": [
    "# Model K-nearst neighbor (KNN)\n",
    "knn = KNeighborsClassifier()\n",
    "knn.fit(x_train_scaled, y_train)\n",
    "\n",
    "y_pred_knn = knn.predict(x_train_scaled)\n",
    "print('Akurasi pada data training :',accuracy_score(y_train, y_pred_knn))\n",
    "print('Classification report      :\\n',classification_report(y_train, y_pred_knn))"
   ]
  },
  {
   "cell_type": "markdown",
   "metadata": {},
   "source": [
    "**Insight**\n",
    "\n",
    "K-Nearest Neighbors (KNN):\n",
    "- Akurasi: 70.2%\n",
    "- Model ini memberikan performa yang lebih baik dibandingkan Logistic Regression, terutama pada kelas 1 dan 2, namun kelas 3 dan 4 masih memiliki kinerja yang rendah. Ini disebabkan oleh sifat KNN yang bisa terpengaruh oleh distribusi data yang tidak seimbang.\n",
    "- Kesimpulan: KNN bisa menangani dataset ini dengan lebih baik dari Logistic Regression, tapi masih sensitif terhadap outlier dan kelas yang tidak seimbang."
   ]
  },
  {
   "cell_type": "code",
   "execution_count": 54,
   "metadata": {},
   "outputs": [
    {
     "name": "stdout",
     "output_type": "stream",
     "text": [
      "Akurasi pada data training : 1.0\n",
      "Classification report      :\n",
      "               precision    recall  f1-score   support\n",
      "\n",
      "           0       1.00      1.00      1.00       135\n",
      "           1       1.00      1.00      1.00        43\n",
      "           2       1.00      1.00      1.00        27\n",
      "           3       1.00      1.00      1.00        28\n",
      "           4       1.00      1.00      1.00         9\n",
      "\n",
      "    accuracy                           1.00       242\n",
      "   macro avg       1.00      1.00      1.00       242\n",
      "weighted avg       1.00      1.00      1.00       242\n",
      "\n"
     ]
    }
   ],
   "source": [
    "# Model Random Forest\n",
    "random_forest = RandomForestClassifier(random_state=123)\n",
    "random_forest.fit(x_train_scaled, y_train)\n",
    "\n",
    "y_pred_rf = random_forest.predict(x_train_scaled)\n",
    "print('Akurasi pada data training :',accuracy_score(y_train, y_pred_rf))\n",
    "print('Classification report      :\\n',classification_report(y_train, y_pred_rf))\n"
   ]
  },
  {
   "cell_type": "markdown",
   "metadata": {},
   "source": [
    "**Insight**\n",
    "\n",
    "Random Forest:\n",
    "\n",
    "- Akurasi: 100%\n",
    "- Model ini overfitting pada data training karena mencapai akurasi 100%, yang sangat jarang terjadi dalam model yang generalis. Ini bisa menjadi tanda bahwa model terlalu mempelajari detail kecil pada data training, dan mungkin akan mengalami penurunan performa pada data uji.\n",
    "- Kesimpulan: Random Forest mempelajari data training dengan sangat baik, tetapi kemungkinan besar tidak akan generalisasi dengan baik pada data uji."
   ]
  },
  {
   "cell_type": "code",
   "execution_count": 55,
   "metadata": {},
   "outputs": [
    {
     "name": "stdout",
     "output_type": "stream",
     "text": [
      "Akurasi pada data training : 0.6652892561983471\n",
      "Classification report      :\n",
      "               precision    recall  f1-score   support\n",
      "\n",
      "           0       0.83      0.81      0.82       135\n",
      "           1       0.43      0.51      0.47        43\n",
      "           2       0.38      0.30      0.33        27\n",
      "           3       0.48      0.54      0.51        28\n",
      "           4       0.86      0.67      0.75         9\n",
      "\n",
      "    accuracy                           0.67       242\n",
      "   macro avg       0.60      0.57      0.58       242\n",
      "weighted avg       0.67      0.67      0.67       242\n",
      "\n"
     ]
    }
   ],
   "source": [
    "# Model AdaBosst\n",
    "adaboost = AdaBoostClassifier(random_state=123)\n",
    "adaboost.fit(x_train_scaled, y_train)\n",
    "\n",
    "y_pred_ada = adaboost.predict(x_train_scaled)\n",
    "print('Akurasi pada data training :',accuracy_score(y_train, y_pred_ada))\n",
    "print('Classification report      :\\n',classification_report(y_train, y_pred_ada))"
   ]
  },
  {
   "cell_type": "markdown",
   "metadata": {},
   "source": [
    "**Insight**\n",
    "\n",
    "AdaBoost:\n",
    "\n",
    "- Akurasi: 66.5%\n",
    "- Performa serupa dengan Logistic Regression dan KNN, namun sedikit lebih baik dalam menangani kelas 1 dan 4. Model ini bekerja dengan baik untuk kelas mayoritas (kelas 0), namun kelas minoritas masih memiliki recall yang rendah, seperti pada kelas 2 dan 3.\n",
    "- Kesimpulan: AdaBoost memiliki performa yang stabil, tetapi bisa lebih baik jika dilakukan balancing data atau feature engineering tambahan."
   ]
  },
  {
   "cell_type": "code",
   "execution_count": 56,
   "metadata": {},
   "outputs": [
    {
     "name": "stdout",
     "output_type": "stream",
     "text": [
      "Akurasi pada data training : 0.7520661157024794\n",
      "Classification report      :\n",
      "               precision    recall  f1-score   support\n",
      "\n",
      "           0       0.77      0.99      0.86       135\n",
      "           1       0.58      0.42      0.49        43\n",
      "           2       0.87      0.48      0.62        27\n",
      "           3       0.81      0.61      0.69        28\n",
      "           4       0.00      0.00      0.00         9\n",
      "\n",
      "    accuracy                           0.75       242\n",
      "   macro avg       0.60      0.50      0.53       242\n",
      "weighted avg       0.72      0.75      0.72       242\n",
      "\n"
     ]
    }
   ],
   "source": [
    "# Model Support Vector Classification\n",
    "svc = SVC(kernel='rbf')\n",
    "svc.fit(x_train_scaled, y_train)\n",
    "\n",
    "y_pred_svc = svc.predict(x_train_scaled)\n",
    "print('Akurasi pada data training :',accuracy_score(y_train, y_pred_svc))\n",
    "print('Classification report      :\\n',classification_report(y_train, y_pred_svc))"
   ]
  },
  {
   "cell_type": "markdown",
   "metadata": {},
   "source": [
    "**Insight**\n",
    "\n",
    "Support Vector Classification (SVC):\n",
    "\n",
    "- Akurasi: 75.2%\n",
    "- Model ini memiliki kinerja terbaik dari segi akurasi. Precision dan recall cukup baik untuk kelas mayoritas, namun kelas minoritas seperti kelas 4 memiliki precision dan recall yang sangat rendah. Hal ini mungkin disebabkan oleh distribusi kelas yang tidak seimbang.\n",
    "- Kesimpulan: SVC memberikan hasil yang paling baik di antara model-model lain, namun masih membutuhkan perbaikan dalam hal penanganan kelas minoritas."
   ]
  },
  {
   "cell_type": "code",
   "execution_count": 57,
   "metadata": {},
   "outputs": [],
   "source": [
    "# # KNN Hyperparameter Tuning\n",
    "# knn = KNeighborsClassifier()\n",
    "# knn_params = {\n",
    "#     'n_neighbors': [3, 5, 7, 9], # Jumlah tetangga yang dipertimbangkan\n",
    "#     'weights': ['uniform', 'distance'], # Bobot untuk tetangga\n",
    "#     'metric': ['euclidean', 'manhattan', 'minkowski'] # Jenis jarak\n",
    "# }\n",
    "\n",
    "# knn_grid = GridSearchCV(knn, param_grid=knn_params, cv=5, scoring='accuracy') # Atau gunakan RandomizedSearchCV\n",
    "# knn_grid.fit(x_train_scaled, y_train)\n",
    "# print('Best Params for KNN:', knn_grid.best_params_)\n",
    "# print('Best KNN Accuracy:', knn_grid.best_score_)\n",
    "\n",
    "# # Random Forest Hyperparameter Tuning\n",
    "# random_forest = RandomForestClassifier(random_state=123)\n",
    "# rf_params = {\n",
    "#     'n_estimators': [100, 200, 300], # Jumlah trees\n",
    "#     'max_depth': [None, 10, 20, 30], # Kedalaman tree\n",
    "#     'min_samples_split': [2, 5, 10], # Minimum sampel untuk split\n",
    "#     'min_samples_leaf': [1, 2, 4] # Minimum sampel di leaf node\n",
    "# }\n",
    "\n",
    "# rf_grid = GridSearchCV(random_forest, param_grid=rf_params, cv=5, scoring='accuracy') # Atau gunakan RandomizedSearchCV\n",
    "# rf_grid.fit(x_train_scaled, y_train)\n",
    "# print('Best Params for Random Forest:', rf_grid.best_params_)\n",
    "# print('Best Random Forest Accuracy:', rf_grid.best_score_)\n",
    "\n",
    "# # AdaBoost Hyperparameter Tuning\n",
    "# adaboost = AdaBoostClassifier(random_state=123)\n",
    "# adaboost_params = {\n",
    "#     'n_estimators': [50, 100, 200], # Jumlah estimator\n",
    "#     'learning_rate': [0.01, 0.1, 1, 10] # Kecepatan belajar\n",
    "# }\n",
    "\n",
    "# adaboost_grid = GridSearchCV(adaboost, param_grid=adaboost_params, cv=5, scoring='accuracy') # Atau gunakan RandomizedSearchCV\n",
    "# adaboost_grid.fit(x_train_scaled, y_train)\n",
    "# print('Best Params for AdaBoost:', adaboost_grid.best_params_)\n",
    "# print('Best AdaBoost Accuracy:', adaboost_grid.best_score_)\n",
    "\n",
    "# # SVC Hyperparameter Tuning\n",
    "# svc = SVC()\n",
    "# svc_params = {\n",
    "#     'C': [0.1, 1, 10, 100], # Regularisasi\n",
    "#     'kernel': ['linear', 'poly', 'rbf', 'sigmoid'], # Kernel function\n",
    "#     'gamma': ['scale', 'auto'] # Kernel coefficient\n",
    "# }\n",
    "\n",
    "# svc_grid = GridSearchCV(svc, param_grid=svc_params, cv=5, scoring='accuracy') # Atau gunakan RandomizedSearchCV\n",
    "# svc_grid.fit(x_train_scaled, y_train)\n",
    "# print('Best Params for SVC:', svc_grid.best_params_)\n",
    "# print('Best SVC Accuracy:', svc_grid.best_score_)"
   ]
  },
  {
   "cell_type": "markdown",
   "metadata": {},
   "source": [
    "### 3. Simpan model ke file pickle"
   ]
  },
  {
   "cell_type": "code",
   "execution_count": 58,
   "metadata": {},
   "outputs": [
    {
     "data": {
      "text/plain": [
       "['svc.pkl']"
      ]
     },
     "execution_count": 58,
     "metadata": {},
     "output_type": "execute_result"
    }
   ],
   "source": [
    "import joblib\n",
    "\n",
    "# Simpan model logreg ke dalam folder yang sama dengan notebook\n",
    "# dengan nama logreg.pkl\n",
    "joblib.dump(knn, 'knn.pkl')\n",
    "joblib.dump(logreg, 'logreg.pkl')\n",
    "joblib.dump(random_forest, 'rf.pkl')\n",
    "joblib.dump(adaboost, 'ada.pkl')\n",
    "joblib.dump(svc, 'svc.pkl')"
   ]
  },
  {
   "cell_type": "markdown",
   "metadata": {},
   "source": [
    "### 4. Test Prediction\n",
    "1. Siapkan file test dataset\n",
    "2. Lakukan preprocessing yang sama dengan yang dilakukan di train dataset\n",
    "3. Gunakan `imputer_numerical` jika ada data yang kosong dan `standarizer` yang telah di fit di train dataset"
   ]
  },
  {
   "cell_type": "code",
   "execution_count": 59,
   "metadata": {},
   "outputs": [
    {
     "data": {
      "text/html": [
       "<div>\n",
       "<style scoped>\n",
       "    .dataframe tbody tr th:only-of-type {\n",
       "        vertical-align: middle;\n",
       "    }\n",
       "\n",
       "    .dataframe tbody tr th {\n",
       "        vertical-align: top;\n",
       "    }\n",
       "\n",
       "    .dataframe thead th {\n",
       "        text-align: right;\n",
       "    }\n",
       "</style>\n",
       "<table border=\"1\" class=\"dataframe\">\n",
       "  <thead>\n",
       "    <tr style=\"text-align: right;\">\n",
       "      <th></th>\n",
       "      <th>age</th>\n",
       "      <th>sex</th>\n",
       "      <th>cp</th>\n",
       "      <th>trestbps</th>\n",
       "      <th>chol</th>\n",
       "      <th>fbs</th>\n",
       "      <th>restecg</th>\n",
       "      <th>thalach</th>\n",
       "      <th>exang</th>\n",
       "      <th>oldpeak</th>\n",
       "      <th>slope</th>\n",
       "      <th>ca</th>\n",
       "      <th>thal</th>\n",
       "    </tr>\n",
       "  </thead>\n",
       "  <tbody>\n",
       "    <tr>\n",
       "      <th>179</th>\n",
       "      <td>53.0</td>\n",
       "      <td>1.0</td>\n",
       "      <td>3.0</td>\n",
       "      <td>130.0</td>\n",
       "      <td>246.0</td>\n",
       "      <td>1.0</td>\n",
       "      <td>2.0</td>\n",
       "      <td>173.0</td>\n",
       "      <td>0.0</td>\n",
       "      <td>0.0</td>\n",
       "      <td>1.0</td>\n",
       "      <td>3.0</td>\n",
       "      <td>3.0</td>\n",
       "    </tr>\n",
       "    <tr>\n",
       "      <th>228</th>\n",
       "      <td>54.0</td>\n",
       "      <td>1.0</td>\n",
       "      <td>4.0</td>\n",
       "      <td>110.0</td>\n",
       "      <td>206.0</td>\n",
       "      <td>0.0</td>\n",
       "      <td>2.0</td>\n",
       "      <td>108.0</td>\n",
       "      <td>1.0</td>\n",
       "      <td>0.0</td>\n",
       "      <td>2.0</td>\n",
       "      <td>1.0</td>\n",
       "      <td>3.0</td>\n",
       "    </tr>\n",
       "    <tr>\n",
       "      <th>111</th>\n",
       "      <td>56.0</td>\n",
       "      <td>1.0</td>\n",
       "      <td>4.0</td>\n",
       "      <td>125.0</td>\n",
       "      <td>249.0</td>\n",
       "      <td>1.0</td>\n",
       "      <td>2.0</td>\n",
       "      <td>144.0</td>\n",
       "      <td>1.0</td>\n",
       "      <td>1.2</td>\n",
       "      <td>2.0</td>\n",
       "      <td>1.0</td>\n",
       "      <td>3.0</td>\n",
       "    </tr>\n",
       "    <tr>\n",
       "      <th>246</th>\n",
       "      <td>58.0</td>\n",
       "      <td>1.0</td>\n",
       "      <td>4.0</td>\n",
       "      <td>100.0</td>\n",
       "      <td>234.0</td>\n",
       "      <td>0.0</td>\n",
       "      <td>0.0</td>\n",
       "      <td>156.0</td>\n",
       "      <td>0.0</td>\n",
       "      <td>0.1</td>\n",
       "      <td>1.0</td>\n",
       "      <td>1.0</td>\n",
       "      <td>7.0</td>\n",
       "    </tr>\n",
       "    <tr>\n",
       "      <th>60</th>\n",
       "      <td>51.0</td>\n",
       "      <td>0.0</td>\n",
       "      <td>4.0</td>\n",
       "      <td>130.0</td>\n",
       "      <td>305.0</td>\n",
       "      <td>0.0</td>\n",
       "      <td>0.0</td>\n",
       "      <td>142.0</td>\n",
       "      <td>1.0</td>\n",
       "      <td>1.2</td>\n",
       "      <td>2.0</td>\n",
       "      <td>0.0</td>\n",
       "      <td>7.0</td>\n",
       "    </tr>\n",
       "  </tbody>\n",
       "</table>\n",
       "</div>"
      ],
      "text/plain": [
       "      age  sex   cp  trestbps   chol  fbs  restecg  thalach  exang  oldpeak  \\\n",
       "179  53.0  1.0  3.0     130.0  246.0  1.0      2.0    173.0    0.0      0.0   \n",
       "228  54.0  1.0  4.0     110.0  206.0  0.0      2.0    108.0    1.0      0.0   \n",
       "111  56.0  1.0  4.0     125.0  249.0  1.0      2.0    144.0    1.0      1.2   \n",
       "246  58.0  1.0  4.0     100.0  234.0  0.0      0.0    156.0    0.0      0.1   \n",
       "60   51.0  0.0  4.0     130.0  305.0  0.0      0.0    142.0    1.0      1.2   \n",
       "\n",
       "     slope   ca thal  \n",
       "179    1.0  3.0  3.0  \n",
       "228    2.0  1.0  3.0  \n",
       "111    2.0  1.0  3.0  \n",
       "246    1.0  1.0  7.0  \n",
       "60     2.0  0.0  7.0  "
      ]
     },
     "execution_count": 59,
     "metadata": {},
     "output_type": "execute_result"
    }
   ],
   "source": [
    "x_test.head()"
   ]
  },
  {
   "cell_type": "code",
   "execution_count": 60,
   "metadata": {},
   "outputs": [],
   "source": [
    "# Seleksi dataframe x_test_categorical dan x_test_numerical\n",
    "x_test_numerical = x_test[numerical_column]\n",
    "x_test_categorical = x_test[categorical_column]"
   ]
  },
  {
   "cell_type": "code",
   "execution_count": 61,
   "metadata": {},
   "outputs": [
    {
     "data": {
      "text/plain": [
       "sex        False\n",
       "cp         False\n",
       "fbs        False\n",
       "restecg    False\n",
       "exang      False\n",
       "slope      False\n",
       "thal       False\n",
       "dtype: bool"
      ]
     },
     "execution_count": 61,
     "metadata": {},
     "output_type": "execute_result"
    }
   ],
   "source": [
    "x_test_categorical.isnull().any()"
   ]
  },
  {
   "cell_type": "code",
   "execution_count": 62,
   "metadata": {},
   "outputs": [
    {
     "data": {
      "text/plain": [
       "age         False\n",
       "trestbps    False\n",
       "chol        False\n",
       "thalach     False\n",
       "oldpeak     False\n",
       "dtype: bool"
      ]
     },
     "execution_count": 62,
     "metadata": {},
     "output_type": "execute_result"
    }
   ],
   "source": [
    "x_test_numerical.isnull().any()"
   ]
  },
  {
   "cell_type": "code",
   "execution_count": 64,
   "metadata": {},
   "outputs": [],
   "source": [
    "# Pastikan sudah melakukan one-hot encoding pada data kategorikal untuk x_test\n",
    "x_test_categorical_ohe = pd.get_dummies(x_test[categorical_column],\n",
    "                                        drop_first=True)"
   ]
  },
  {
   "cell_type": "code",
   "execution_count": 68,
   "metadata": {},
   "outputs": [],
   "source": [
    "# Gabungkan data numerikal dan data kategorikal yang sudah di-encode\n",
    "x_test_concat = pd.concat([x_test_numerical, x_test_categorical_ohe], axis=1)\n",
    "\n",
    "# Pastikan urutan kolom sama dengan data training\n",
    "x_test_concat = x_test_concat[x_test_concat.columns]"
   ]
  },
  {
   "cell_type": "code",
   "execution_count": 71,
   "metadata": {},
   "outputs": [
    {
     "name": "stdout",
     "output_type": "stream",
     "text": [
      "Jumlah kolom di x_train: 25\n",
      "Jumlah kolom di x_test: 13\n"
     ]
    }
   ],
   "source": [
    "# Cek apakah jumlah kolom sama\n",
    "print(f\"Jumlah kolom di x_train: {x_train_concat.shape[1]}\")\n",
    "print(f\"Jumlah kolom di x_test: {x_test_concat.shape[1]}\")"
   ]
  },
  {
   "cell_type": "code",
   "execution_count": 69,
   "metadata": {},
   "outputs": [
    {
     "data": {
      "text/html": [
       "<div>\n",
       "<style scoped>\n",
       "    .dataframe tbody tr th:only-of-type {\n",
       "        vertical-align: middle;\n",
       "    }\n",
       "\n",
       "    .dataframe tbody tr th {\n",
       "        vertical-align: top;\n",
       "    }\n",
       "\n",
       "    .dataframe thead th {\n",
       "        text-align: right;\n",
       "    }\n",
       "</style>\n",
       "<table border=\"1\" class=\"dataframe\">\n",
       "  <thead>\n",
       "    <tr style=\"text-align: right;\">\n",
       "      <th></th>\n",
       "      <th>age</th>\n",
       "      <th>trestbps</th>\n",
       "      <th>chol</th>\n",
       "      <th>thalach</th>\n",
       "      <th>oldpeak</th>\n",
       "      <th>sex</th>\n",
       "      <th>cp</th>\n",
       "      <th>fbs</th>\n",
       "      <th>restecg</th>\n",
       "      <th>exang</th>\n",
       "      <th>slope</th>\n",
       "      <th>thal_6.0</th>\n",
       "      <th>thal_7.0</th>\n",
       "    </tr>\n",
       "  </thead>\n",
       "  <tbody>\n",
       "    <tr>\n",
       "      <th>179</th>\n",
       "      <td>53.0</td>\n",
       "      <td>130.0</td>\n",
       "      <td>246.0</td>\n",
       "      <td>173.0</td>\n",
       "      <td>0.0</td>\n",
       "      <td>1.0</td>\n",
       "      <td>3.0</td>\n",
       "      <td>1.0</td>\n",
       "      <td>2.0</td>\n",
       "      <td>0.0</td>\n",
       "      <td>1.0</td>\n",
       "      <td>False</td>\n",
       "      <td>False</td>\n",
       "    </tr>\n",
       "    <tr>\n",
       "      <th>228</th>\n",
       "      <td>54.0</td>\n",
       "      <td>110.0</td>\n",
       "      <td>206.0</td>\n",
       "      <td>108.0</td>\n",
       "      <td>0.0</td>\n",
       "      <td>1.0</td>\n",
       "      <td>4.0</td>\n",
       "      <td>0.0</td>\n",
       "      <td>2.0</td>\n",
       "      <td>1.0</td>\n",
       "      <td>2.0</td>\n",
       "      <td>False</td>\n",
       "      <td>False</td>\n",
       "    </tr>\n",
       "    <tr>\n",
       "      <th>111</th>\n",
       "      <td>56.0</td>\n",
       "      <td>125.0</td>\n",
       "      <td>249.0</td>\n",
       "      <td>144.0</td>\n",
       "      <td>1.2</td>\n",
       "      <td>1.0</td>\n",
       "      <td>4.0</td>\n",
       "      <td>1.0</td>\n",
       "      <td>2.0</td>\n",
       "      <td>1.0</td>\n",
       "      <td>2.0</td>\n",
       "      <td>False</td>\n",
       "      <td>False</td>\n",
       "    </tr>\n",
       "    <tr>\n",
       "      <th>246</th>\n",
       "      <td>58.0</td>\n",
       "      <td>100.0</td>\n",
       "      <td>234.0</td>\n",
       "      <td>156.0</td>\n",
       "      <td>0.1</td>\n",
       "      <td>1.0</td>\n",
       "      <td>4.0</td>\n",
       "      <td>0.0</td>\n",
       "      <td>0.0</td>\n",
       "      <td>0.0</td>\n",
       "      <td>1.0</td>\n",
       "      <td>False</td>\n",
       "      <td>True</td>\n",
       "    </tr>\n",
       "    <tr>\n",
       "      <th>60</th>\n",
       "      <td>51.0</td>\n",
       "      <td>130.0</td>\n",
       "      <td>305.0</td>\n",
       "      <td>142.0</td>\n",
       "      <td>1.2</td>\n",
       "      <td>0.0</td>\n",
       "      <td>4.0</td>\n",
       "      <td>0.0</td>\n",
       "      <td>0.0</td>\n",
       "      <td>1.0</td>\n",
       "      <td>2.0</td>\n",
       "      <td>False</td>\n",
       "      <td>True</td>\n",
       "    </tr>\n",
       "  </tbody>\n",
       "</table>\n",
       "</div>"
      ],
      "text/plain": [
       "      age  trestbps   chol  thalach  oldpeak  sex   cp  fbs  restecg  exang  \\\n",
       "179  53.0     130.0  246.0    173.0      0.0  1.0  3.0  1.0      2.0    0.0   \n",
       "228  54.0     110.0  206.0    108.0      0.0  1.0  4.0  0.0      2.0    1.0   \n",
       "111  56.0     125.0  249.0    144.0      1.2  1.0  4.0  1.0      2.0    1.0   \n",
       "246  58.0     100.0  234.0    156.0      0.1  1.0  4.0  0.0      0.0    0.0   \n",
       "60   51.0     130.0  305.0    142.0      1.2  0.0  4.0  0.0      0.0    1.0   \n",
       "\n",
       "     slope  thal_6.0  thal_7.0  \n",
       "179    1.0     False     False  \n",
       "228    2.0     False     False  \n",
       "111    2.0     False     False  \n",
       "246    1.0     False      True  \n",
       "60     2.0     False      True  "
      ]
     },
     "execution_count": 69,
     "metadata": {},
     "output_type": "execute_result"
    }
   ],
   "source": [
    "x_test_concat.head()"
   ]
  },
  {
   "cell_type": "code",
   "execution_count": null,
   "metadata": {},
   "outputs": [],
   "source": [
    "# Lakukan standarisasi dengan scaler yang sudah di-fit sebelumnya\n",
    "x_test_scaled = pd.DataFrame(scaler.transform(x_test_concat),\n",
    "                             columns=x_test_concat.columns)"
   ]
  },
  {
   "cell_type": "code",
   "execution_count": 75,
   "metadata": {},
   "outputs": [],
   "source": [
    "# # Panggil fungsi untuk melakukan encoding\n",
    "# x_test_categorical_ohe = extractCategorical(data=x_test_categorical, categorical_column=categorical_column)"
   ]
  },
  {
   "cell_type": "code",
   "execution_count": 96,
   "metadata": {},
   "outputs": [],
   "source": [
    "# # Lakukan penggabungan data numerik dan data kategorik yang sudah di encoded\n",
    "# x_test_concat = pd.concat([x_train_numerical, x_train_categorical_ohe],\n",
    "#                           axis=1)"
   ]
  },
  {
   "cell_type": "code",
   "execution_count": 100,
   "metadata": {},
   "outputs": [],
   "source": [
    "# Standarisasi data test set\n",
    "data_columns_test = x_test_concat.columns\n",
    "data_index_test = x_test_concat.index\n",
    "\n",
    "x_test_scaled = scaler.transform(x_test_concat)\n",
    "x_test_scaled = pd.DataFrame(x_test_concat)\n",
    "x_test_scaled.columns = data_columns_test\n",
    "x_test_scaled.index = data_index_test"
   ]
  },
  {
   "cell_type": "code",
   "execution_count": null,
   "metadata": {},
   "outputs": [],
   "source": [
    "x_test_scaled.head()"
   ]
  },
  {
   "cell_type": "code",
   "execution_count": null,
   "metadata": {},
   "outputs": [],
   "source": [
    "print(\"Ukuran x_test_scaled:\", x_test_scaled.shape)\n",
    "print(\"Ukuran y_test:\", y_test.shape)"
   ]
  },
  {
   "cell_type": "code",
   "execution_count": null,
   "metadata": {},
   "outputs": [],
   "source": [
    "# Model Logistic Regression\n",
    "logreg = LogisticRegression(random_state=123)\n",
    "logreg.fit(x_train_scaled, y_train) # Latih model menggunakan data yang sudah di-scalling\n",
    "\n",
    "y_pred_test_logreg = logreg.predict(x_test_scaled)\n",
    "print('Akurasi pada data training :',accuracy_score(y_test, y_pred_test_logreg))\n",
    "print('Classification report      :\\n',classification_report(y_test, y_pred_test_logreg))"
   ]
  }
 ],
 "metadata": {
  "kernelspec": {
   "display_name": "base",
   "language": "python",
   "name": "python3"
  },
  "language_info": {
   "codemirror_mode": {
    "name": "ipython",
    "version": 3
   },
   "file_extension": ".py",
   "mimetype": "text/x-python",
   "name": "python",
   "nbconvert_exporter": "python",
   "pygments_lexer": "ipython3",
   "version": "3.9.12"
  }
 },
 "nbformat": 4,
 "nbformat_minor": 2
}
