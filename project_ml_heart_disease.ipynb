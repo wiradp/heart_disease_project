{
 "cells": [
  {
   "cell_type": "markdown",
   "metadata": {},
   "source": [
    "# Machine Learning Workflow\n",
    "\n",
    "### 1. Importing Data to Python\n",
    "* Drop Duplicates\n",
    "### 2. Data Preprocessing\n",
    "* Input-output Split\n",
    "* Train - Test Split\n",
    "* Imputation\n",
    "* Processing Categorical\n",
    "* Normalization\n",
    "### 3. Training Machine Learning\n",
    "* Choose Score to optimize and Hyperparameter Space"
   ]
  },
  {
   "cell_type": "markdown",
   "metadata": {},
   "source": [
    "## **Heart Disease Analysis**\n",
    "* Task : Classification\n",
    "* Objective : Prediksi pasien yang berpotensi kena serangan jantung"
   ]
  },
  {
   "cell_type": "markdown",
   "metadata": {},
   "source": [
    "### Data Description\n",
    "**Informasi tambahan:**\n",
    "\n",
    "Database ini memiliki 76 atribut, namun semua eksperimen yang dipublikasikan hanya menggunakan subset dari 14 atribut tersebut. Secara khusus, database Cleveland adalah satu-satunya yang telah digunakan oleh peneliti machine learning hingga saat ini. Kolom \"target\" mengacu pada keberadaan penyakit jantung pada pasien, dengan nilai integer dari 0 (tidak ada penyakit) hingga 4 (kehadiran penyakit). Eksperimen yang dilakukan dengan database Cleveland berfokus pada usaha untuk membedakan antara keberadaan penyakit (nilai 1, 2, 3, 4) dengan tidak adanya penyakit (nilai 0).\n",
    "\n",
    "**Dataset Atribut**\n",
    "\n",
    "| Atribut    | Type         | Deskripsi                        |\n",
    "|------------|--------------|----------------------------------|\n",
    "| age        | Integer      | Usia pasien                      |\n",
    "| sex        | Categorical  | Jenis kelamin pasien *(0=wanita, 1=pria)*|\n",
    "| cp         | Categorical  | Tipe nyeri dada *(1=angina tipikal, 2=angina atipikal, 3=nyeri non-angina, 4=tanpa gejala)*             |\n",
    "| trestbps   | Integer      | Tekanan darah istirahat (mm Hg)  |\n",
    "| chol       | Integer      | Kolesterol serum (mg/dl)         |\n",
    "| fbs        | Categorical  | Gula darah puasa >120 mg/dl (1=benar, 0=salah)|\n",
    "| restecg    | Categorical  | Hasil elektrokardiografi istirahat *(0=normal, 1=memiliki kelainan gelombang ST-T (inversi gelombang T dan/atau elevasi atau depresi ST > 0,05 mV), 2=menunjukkan hipertrofi ventrikel kiri yang mungkin atau pasti berdasarkan kriteria Estes)*|\n",
    "| thalach    | Integer      | Denyut jantung max yang dicapai|\n",
    "| exang      | Categorical  | Angina yang disebabkan oleh olahraga *(1=ya, 0=tidak)*|\n",
    "| oldpeak    | Integer      | Depresi ST yang diinduksi oleh olahraga relatif terhadap istirahat|\n",
    "| slope      | Categorical  | Kemiringan segmen ST puncak latihan (0-2)|\n",
    "| ca         | Integer      | Jumlah pembuluh besar yang diwarnai oleh fluoroskopi (0-3)|\n",
    "| thal       | Categorical  | Thalassemia *(1 = normal; 2 = cacat tetap; 3 = cacat reversibel)*|\n",
    "| target     | Integer      | Diagnosa penyakit jantung *(0=tidak ada, 1-4=ada)*|\n",
    "\n"
   ]
  },
  {
   "cell_type": "markdown",
   "metadata": {},
   "source": [
    "## <b><font color='orange'> 1. Importing Data to Python </b>"
   ]
  },
  {
   "cell_type": "code",
   "execution_count": 1,
   "metadata": {},
   "outputs": [],
   "source": [
    "# Import library pengolahan struktur data\n",
    "import pandas as pd\n",
    "\n",
    "# Import library pengolahan angka\n",
    "import numpy as np\n",
    "\n",
    "# Import library untuk visualisasi\n",
    "import matplotlib.pyplot as plt\n",
    "import seaborn as sns\n",
    "\n",
    "import warnings\n",
    "warnings.filterwarnings(\"ignore\")"
   ]
  },
  {
   "cell_type": "code",
   "execution_count": 2,
   "metadata": {},
   "outputs": [],
   "source": [
    "# Buat fungsi untuk mengimpor dataset\n",
    "def ImportData(data_file):\n",
    "    \"\"\"\n",
    "    Fungsi untuk import data & hapus duplikat\n",
    "    :param data_file: <string> nama file input (format .data)\n",
    "    :return heart_df: <pandas> sample data\n",
    "    \"\"\"\n",
    "    # Definisikan nama kolom sesuai dengan dokumentasi dataset\n",
    "    column_names = ['age', 'sex', 'cp', 'trestbps', 'chol', 'fbs', 'restecg', 'thalach', 'exang', 'oldpeak', 'slope', 'ca', 'thal', 'target']\n",
    "\n",
    "    # baca data\n",
    "    heart_df = pd.read_csv(data_file, names=column_names)\n",
    "\n",
    "    # cetak bentuk data\n",
    "    print('Data asli:',heart_df.shape, '-(#Observasi, #kolom)')\n",
    "    print('Jumlah baris',heart_df.shape[0], 'dan jumlah kolom',heart_df.shape[1])\n",
    "\n",
    "    # Cek data duplikat\n",
    "    duplicate_status = heart_df.duplicated(keep='first')\n",
    "\n",
    "    if duplicate_status.sum() == 0:\n",
    "        print('Tidak ada data duplikat')\n",
    "    else:\n",
    "        heart_df = heart_df.drop_duplicates()\n",
    "        print('Data setelah di-drop :', heart_df.shape, '-(#observasi, #kolom)')\n",
    "\n",
    "    return heart_df\n",
    "\n",
    "# (data_file) adalah argumen\n",
    "# Argumen adalah sebuah variable\n",
    "# Jika fungsi tersebut diberi argumen data_file = \"processed.cleveland.data\",\n",
    "# maka semua variable 'data_file' didalam fungsi akan berubah menjadi 'processed.cleveland.data'"
   ]
  },
  {
   "cell_type": "code",
   "execution_count": 3,
   "metadata": {},
   "outputs": [
    {
     "name": "stdout",
     "output_type": "stream",
     "text": [
      "Data asli: (303, 14) -(#Observasi, #kolom)\n",
      "Jumlah baris 303 dan jumlah kolom 14\n",
      "Tidak ada data duplikat\n"
     ]
    }
   ],
   "source": [
    "# Input argumen\n",
    "data_file = 'processed.cleveland.data'\n",
    "\n",
    "# Panggil fungsi\n",
    "heart_df = ImportData(data_file)"
   ]
  },
  {
   "cell_type": "code",
   "execution_count": 4,
   "metadata": {},
   "outputs": [
    {
     "data": {
      "text/html": [
       "<div>\n",
       "<style scoped>\n",
       "    .dataframe tbody tr th:only-of-type {\n",
       "        vertical-align: middle;\n",
       "    }\n",
       "\n",
       "    .dataframe tbody tr th {\n",
       "        vertical-align: top;\n",
       "    }\n",
       "\n",
       "    .dataframe thead th {\n",
       "        text-align: right;\n",
       "    }\n",
       "</style>\n",
       "<table border=\"1\" class=\"dataframe\">\n",
       "  <thead>\n",
       "    <tr style=\"text-align: right;\">\n",
       "      <th></th>\n",
       "      <th>count</th>\n",
       "      <th>mean</th>\n",
       "      <th>std</th>\n",
       "      <th>min</th>\n",
       "      <th>25%</th>\n",
       "      <th>50%</th>\n",
       "      <th>75%</th>\n",
       "      <th>max</th>\n",
       "    </tr>\n",
       "  </thead>\n",
       "  <tbody>\n",
       "    <tr>\n",
       "      <th>age</th>\n",
       "      <td>303.0</td>\n",
       "      <td>54.438944</td>\n",
       "      <td>9.038662</td>\n",
       "      <td>29.0</td>\n",
       "      <td>48.0</td>\n",
       "      <td>56.0</td>\n",
       "      <td>61.0</td>\n",
       "      <td>77.0</td>\n",
       "    </tr>\n",
       "    <tr>\n",
       "      <th>sex</th>\n",
       "      <td>303.0</td>\n",
       "      <td>0.679868</td>\n",
       "      <td>0.467299</td>\n",
       "      <td>0.0</td>\n",
       "      <td>0.0</td>\n",
       "      <td>1.0</td>\n",
       "      <td>1.0</td>\n",
       "      <td>1.0</td>\n",
       "    </tr>\n",
       "    <tr>\n",
       "      <th>cp</th>\n",
       "      <td>303.0</td>\n",
       "      <td>3.158416</td>\n",
       "      <td>0.960126</td>\n",
       "      <td>1.0</td>\n",
       "      <td>3.0</td>\n",
       "      <td>3.0</td>\n",
       "      <td>4.0</td>\n",
       "      <td>4.0</td>\n",
       "    </tr>\n",
       "    <tr>\n",
       "      <th>trestbps</th>\n",
       "      <td>303.0</td>\n",
       "      <td>131.689769</td>\n",
       "      <td>17.599748</td>\n",
       "      <td>94.0</td>\n",
       "      <td>120.0</td>\n",
       "      <td>130.0</td>\n",
       "      <td>140.0</td>\n",
       "      <td>200.0</td>\n",
       "    </tr>\n",
       "    <tr>\n",
       "      <th>chol</th>\n",
       "      <td>303.0</td>\n",
       "      <td>246.693069</td>\n",
       "      <td>51.776918</td>\n",
       "      <td>126.0</td>\n",
       "      <td>211.0</td>\n",
       "      <td>241.0</td>\n",
       "      <td>275.0</td>\n",
       "      <td>564.0</td>\n",
       "    </tr>\n",
       "    <tr>\n",
       "      <th>fbs</th>\n",
       "      <td>303.0</td>\n",
       "      <td>0.148515</td>\n",
       "      <td>0.356198</td>\n",
       "      <td>0.0</td>\n",
       "      <td>0.0</td>\n",
       "      <td>0.0</td>\n",
       "      <td>0.0</td>\n",
       "      <td>1.0</td>\n",
       "    </tr>\n",
       "    <tr>\n",
       "      <th>restecg</th>\n",
       "      <td>303.0</td>\n",
       "      <td>0.990099</td>\n",
       "      <td>0.994971</td>\n",
       "      <td>0.0</td>\n",
       "      <td>0.0</td>\n",
       "      <td>1.0</td>\n",
       "      <td>2.0</td>\n",
       "      <td>2.0</td>\n",
       "    </tr>\n",
       "    <tr>\n",
       "      <th>thalach</th>\n",
       "      <td>303.0</td>\n",
       "      <td>149.607261</td>\n",
       "      <td>22.875003</td>\n",
       "      <td>71.0</td>\n",
       "      <td>133.5</td>\n",
       "      <td>153.0</td>\n",
       "      <td>166.0</td>\n",
       "      <td>202.0</td>\n",
       "    </tr>\n",
       "    <tr>\n",
       "      <th>exang</th>\n",
       "      <td>303.0</td>\n",
       "      <td>0.326733</td>\n",
       "      <td>0.469794</td>\n",
       "      <td>0.0</td>\n",
       "      <td>0.0</td>\n",
       "      <td>0.0</td>\n",
       "      <td>1.0</td>\n",
       "      <td>1.0</td>\n",
       "    </tr>\n",
       "    <tr>\n",
       "      <th>oldpeak</th>\n",
       "      <td>303.0</td>\n",
       "      <td>1.039604</td>\n",
       "      <td>1.161075</td>\n",
       "      <td>0.0</td>\n",
       "      <td>0.0</td>\n",
       "      <td>0.8</td>\n",
       "      <td>1.6</td>\n",
       "      <td>6.2</td>\n",
       "    </tr>\n",
       "    <tr>\n",
       "      <th>slope</th>\n",
       "      <td>303.0</td>\n",
       "      <td>1.600660</td>\n",
       "      <td>0.616226</td>\n",
       "      <td>1.0</td>\n",
       "      <td>1.0</td>\n",
       "      <td>2.0</td>\n",
       "      <td>2.0</td>\n",
       "      <td>3.0</td>\n",
       "    </tr>\n",
       "    <tr>\n",
       "      <th>target</th>\n",
       "      <td>303.0</td>\n",
       "      <td>0.937294</td>\n",
       "      <td>1.228536</td>\n",
       "      <td>0.0</td>\n",
       "      <td>0.0</td>\n",
       "      <td>0.0</td>\n",
       "      <td>2.0</td>\n",
       "      <td>4.0</td>\n",
       "    </tr>\n",
       "  </tbody>\n",
       "</table>\n",
       "</div>"
      ],
      "text/plain": [
       "          count        mean        std    min    25%    50%    75%    max\n",
       "age       303.0   54.438944   9.038662   29.0   48.0   56.0   61.0   77.0\n",
       "sex       303.0    0.679868   0.467299    0.0    0.0    1.0    1.0    1.0\n",
       "cp        303.0    3.158416   0.960126    1.0    3.0    3.0    4.0    4.0\n",
       "trestbps  303.0  131.689769  17.599748   94.0  120.0  130.0  140.0  200.0\n",
       "chol      303.0  246.693069  51.776918  126.0  211.0  241.0  275.0  564.0\n",
       "fbs       303.0    0.148515   0.356198    0.0    0.0    0.0    0.0    1.0\n",
       "restecg   303.0    0.990099   0.994971    0.0    0.0    1.0    2.0    2.0\n",
       "thalach   303.0  149.607261  22.875003   71.0  133.5  153.0  166.0  202.0\n",
       "exang     303.0    0.326733   0.469794    0.0    0.0    0.0    1.0    1.0\n",
       "oldpeak   303.0    1.039604   1.161075    0.0    0.0    0.8    1.6    6.2\n",
       "slope     303.0    1.600660   0.616226    1.0    1.0    2.0    2.0    3.0\n",
       "target    303.0    0.937294   1.228536    0.0    0.0    0.0    2.0    4.0"
      ]
     },
     "execution_count": 4,
     "metadata": {},
     "output_type": "execute_result"
    }
   ],
   "source": [
    "# Cek statistical data\n",
    "heart_df.describe().T"
   ]
  },
  {
   "cell_type": "code",
   "execution_count": 5,
   "metadata": {},
   "outputs": [
    {
     "data": {
      "text/html": [
       "<div>\n",
       "<style scoped>\n",
       "    .dataframe tbody tr th:only-of-type {\n",
       "        vertical-align: middle;\n",
       "    }\n",
       "\n",
       "    .dataframe tbody tr th {\n",
       "        vertical-align: top;\n",
       "    }\n",
       "\n",
       "    .dataframe thead th {\n",
       "        text-align: right;\n",
       "    }\n",
       "</style>\n",
       "<table border=\"1\" class=\"dataframe\">\n",
       "  <thead>\n",
       "    <tr style=\"text-align: right;\">\n",
       "      <th></th>\n",
       "      <th>Jumlah Nilai</th>\n",
       "      <th>Nilai Unik</th>\n",
       "    </tr>\n",
       "  </thead>\n",
       "  <tbody>\n",
       "    <tr>\n",
       "      <th>age</th>\n",
       "      <td>41</td>\n",
       "      <td>[63.0, 67.0, 37.0, 41.0, 56.0, 62.0, 57.0, 53....</td>\n",
       "    </tr>\n",
       "    <tr>\n",
       "      <th>sex</th>\n",
       "      <td>2</td>\n",
       "      <td>[1.0, 0.0]</td>\n",
       "    </tr>\n",
       "    <tr>\n",
       "      <th>cp</th>\n",
       "      <td>4</td>\n",
       "      <td>[1.0, 4.0, 3.0, 2.0]</td>\n",
       "    </tr>\n",
       "    <tr>\n",
       "      <th>trestbps</th>\n",
       "      <td>50</td>\n",
       "      <td>[145.0, 160.0, 120.0, 130.0, 140.0, 172.0, 150...</td>\n",
       "    </tr>\n",
       "    <tr>\n",
       "      <th>chol</th>\n",
       "      <td>152</td>\n",
       "      <td>[233.0, 286.0, 229.0, 250.0, 204.0, 236.0, 268...</td>\n",
       "    </tr>\n",
       "    <tr>\n",
       "      <th>fbs</th>\n",
       "      <td>2</td>\n",
       "      <td>[1.0, 0.0]</td>\n",
       "    </tr>\n",
       "    <tr>\n",
       "      <th>restecg</th>\n",
       "      <td>3</td>\n",
       "      <td>[2.0, 0.0, 1.0]</td>\n",
       "    </tr>\n",
       "    <tr>\n",
       "      <th>thalach</th>\n",
       "      <td>91</td>\n",
       "      <td>[150.0, 108.0, 129.0, 187.0, 172.0, 178.0, 160...</td>\n",
       "    </tr>\n",
       "    <tr>\n",
       "      <th>exang</th>\n",
       "      <td>2</td>\n",
       "      <td>[0.0, 1.0]</td>\n",
       "    </tr>\n",
       "    <tr>\n",
       "      <th>oldpeak</th>\n",
       "      <td>40</td>\n",
       "      <td>[2.3, 1.5, 2.6, 3.5, 1.4, 0.8, 3.6, 0.6, 3.1, ...</td>\n",
       "    </tr>\n",
       "    <tr>\n",
       "      <th>slope</th>\n",
       "      <td>3</td>\n",
       "      <td>[3.0, 2.0, 1.0]</td>\n",
       "    </tr>\n",
       "    <tr>\n",
       "      <th>ca</th>\n",
       "      <td>5</td>\n",
       "      <td>[0.0, 3.0, 2.0, 1.0, ?]</td>\n",
       "    </tr>\n",
       "    <tr>\n",
       "      <th>thal</th>\n",
       "      <td>4</td>\n",
       "      <td>[6.0, 3.0, 7.0, ?]</td>\n",
       "    </tr>\n",
       "    <tr>\n",
       "      <th>target</th>\n",
       "      <td>5</td>\n",
       "      <td>[0, 2, 1, 3, 4]</td>\n",
       "    </tr>\n",
       "  </tbody>\n",
       "</table>\n",
       "</div>"
      ],
      "text/plain": [
       "         Jumlah Nilai                                         Nilai Unik\n",
       "age                41  [63.0, 67.0, 37.0, 41.0, 56.0, 62.0, 57.0, 53....\n",
       "sex                 2                                         [1.0, 0.0]\n",
       "cp                  4                               [1.0, 4.0, 3.0, 2.0]\n",
       "trestbps           50  [145.0, 160.0, 120.0, 130.0, 140.0, 172.0, 150...\n",
       "chol              152  [233.0, 286.0, 229.0, 250.0, 204.0, 236.0, 268...\n",
       "fbs                 2                                         [1.0, 0.0]\n",
       "restecg             3                                    [2.0, 0.0, 1.0]\n",
       "thalach            91  [150.0, 108.0, 129.0, 187.0, 172.0, 178.0, 160...\n",
       "exang               2                                         [0.0, 1.0]\n",
       "oldpeak            40  [2.3, 1.5, 2.6, 3.5, 1.4, 0.8, 3.6, 0.6, 3.1, ...\n",
       "slope               3                                    [3.0, 2.0, 1.0]\n",
       "ca                  5                            [0.0, 3.0, 2.0, 1.0, ?]\n",
       "thal                4                                 [6.0, 3.0, 7.0, ?]\n",
       "target              5                                    [0, 2, 1, 3, 4]"
      ]
     },
     "execution_count": 5,
     "metadata": {},
     "output_type": "execute_result"
    }
   ],
   "source": [
    "# Cek Jumlah nilai dan nilai unik pada setip kolom\n",
    "summary_dict = {}\n",
    "for i in list(heart_df.columns):\n",
    "    summary_dict[i] = {\n",
    "        'Jumlah Nilai': heart_df[i].value_counts().shape[0],\n",
    "        'Nilai Unik': heart_df[i].unique()\n",
    "    }\n",
    "summary_df = pd.DataFrame(summary_dict).T\n",
    "\n",
    "summary_df"
   ]
  },
  {
   "cell_type": "markdown",
   "metadata": {},
   "source": [
    ">Terdapat nilai **'?'** pada kolom `ca` dan `thal`. Kita perlu merubah nilai tersebut menjadi NA/NaN"
   ]
  },
  {
   "cell_type": "code",
   "execution_count": 6,
   "metadata": {},
   "outputs": [
    {
     "name": "stdout",
     "output_type": "stream",
     "text": [
      "Jumlah nilai \"?\" pada kolom ca   : 4\n",
      "Jumlah nilai \"?\" pada kolom thal : 2\n"
     ]
    }
   ],
   "source": [
    "print('Jumlah nilai \"?\" pada kolom ca   :', (heart_df['ca'] == '?').sum())\n",
    "print('Jumlah nilai \"?\" pada kolom thal :', (heart_df['thal'] == '?').sum())"
   ]
  },
  {
   "cell_type": "code",
   "execution_count": 7,
   "metadata": {},
   "outputs": [
    {
     "data": {
      "text/html": [
       "<div>\n",
       "<style scoped>\n",
       "    .dataframe tbody tr th:only-of-type {\n",
       "        vertical-align: middle;\n",
       "    }\n",
       "\n",
       "    .dataframe tbody tr th {\n",
       "        vertical-align: top;\n",
       "    }\n",
       "\n",
       "    .dataframe thead th {\n",
       "        text-align: right;\n",
       "    }\n",
       "</style>\n",
       "<table border=\"1\" class=\"dataframe\">\n",
       "  <thead>\n",
       "    <tr style=\"text-align: right;\">\n",
       "      <th></th>\n",
       "      <th>age</th>\n",
       "      <th>sex</th>\n",
       "      <th>cp</th>\n",
       "      <th>trestbps</th>\n",
       "      <th>chol</th>\n",
       "      <th>fbs</th>\n",
       "      <th>restecg</th>\n",
       "      <th>thalach</th>\n",
       "      <th>exang</th>\n",
       "      <th>oldpeak</th>\n",
       "      <th>slope</th>\n",
       "      <th>ca</th>\n",
       "      <th>thal</th>\n",
       "      <th>target</th>\n",
       "    </tr>\n",
       "  </thead>\n",
       "  <tbody>\n",
       "    <tr>\n",
       "      <th>87</th>\n",
       "      <td>53.0</td>\n",
       "      <td>0.0</td>\n",
       "      <td>3.0</td>\n",
       "      <td>128.0</td>\n",
       "      <td>216.0</td>\n",
       "      <td>0.0</td>\n",
       "      <td>2.0</td>\n",
       "      <td>115.0</td>\n",
       "      <td>0.0</td>\n",
       "      <td>0.0</td>\n",
       "      <td>1.0</td>\n",
       "      <td>0.0</td>\n",
       "      <td>?</td>\n",
       "      <td>0</td>\n",
       "    </tr>\n",
       "    <tr>\n",
       "      <th>166</th>\n",
       "      <td>52.0</td>\n",
       "      <td>1.0</td>\n",
       "      <td>3.0</td>\n",
       "      <td>138.0</td>\n",
       "      <td>223.0</td>\n",
       "      <td>0.0</td>\n",
       "      <td>0.0</td>\n",
       "      <td>169.0</td>\n",
       "      <td>0.0</td>\n",
       "      <td>0.0</td>\n",
       "      <td>1.0</td>\n",
       "      <td>?</td>\n",
       "      <td>3.0</td>\n",
       "      <td>0</td>\n",
       "    </tr>\n",
       "    <tr>\n",
       "      <th>192</th>\n",
       "      <td>43.0</td>\n",
       "      <td>1.0</td>\n",
       "      <td>4.0</td>\n",
       "      <td>132.0</td>\n",
       "      <td>247.0</td>\n",
       "      <td>1.0</td>\n",
       "      <td>2.0</td>\n",
       "      <td>143.0</td>\n",
       "      <td>1.0</td>\n",
       "      <td>0.1</td>\n",
       "      <td>2.0</td>\n",
       "      <td>?</td>\n",
       "      <td>7.0</td>\n",
       "      <td>1</td>\n",
       "    </tr>\n",
       "    <tr>\n",
       "      <th>266</th>\n",
       "      <td>52.0</td>\n",
       "      <td>1.0</td>\n",
       "      <td>4.0</td>\n",
       "      <td>128.0</td>\n",
       "      <td>204.0</td>\n",
       "      <td>1.0</td>\n",
       "      <td>0.0</td>\n",
       "      <td>156.0</td>\n",
       "      <td>1.0</td>\n",
       "      <td>1.0</td>\n",
       "      <td>2.0</td>\n",
       "      <td>0.0</td>\n",
       "      <td>?</td>\n",
       "      <td>2</td>\n",
       "    </tr>\n",
       "    <tr>\n",
       "      <th>287</th>\n",
       "      <td>58.0</td>\n",
       "      <td>1.0</td>\n",
       "      <td>2.0</td>\n",
       "      <td>125.0</td>\n",
       "      <td>220.0</td>\n",
       "      <td>0.0</td>\n",
       "      <td>0.0</td>\n",
       "      <td>144.0</td>\n",
       "      <td>0.0</td>\n",
       "      <td>0.4</td>\n",
       "      <td>2.0</td>\n",
       "      <td>?</td>\n",
       "      <td>7.0</td>\n",
       "      <td>0</td>\n",
       "    </tr>\n",
       "    <tr>\n",
       "      <th>302</th>\n",
       "      <td>38.0</td>\n",
       "      <td>1.0</td>\n",
       "      <td>3.0</td>\n",
       "      <td>138.0</td>\n",
       "      <td>175.0</td>\n",
       "      <td>0.0</td>\n",
       "      <td>0.0</td>\n",
       "      <td>173.0</td>\n",
       "      <td>0.0</td>\n",
       "      <td>0.0</td>\n",
       "      <td>1.0</td>\n",
       "      <td>?</td>\n",
       "      <td>3.0</td>\n",
       "      <td>0</td>\n",
       "    </tr>\n",
       "  </tbody>\n",
       "</table>\n",
       "</div>"
      ],
      "text/plain": [
       "      age  sex   cp  trestbps   chol  fbs  restecg  thalach  exang  oldpeak  \\\n",
       "87   53.0  0.0  3.0     128.0  216.0  0.0      2.0    115.0    0.0      0.0   \n",
       "166  52.0  1.0  3.0     138.0  223.0  0.0      0.0    169.0    0.0      0.0   \n",
       "192  43.0  1.0  4.0     132.0  247.0  1.0      2.0    143.0    1.0      0.1   \n",
       "266  52.0  1.0  4.0     128.0  204.0  1.0      0.0    156.0    1.0      1.0   \n",
       "287  58.0  1.0  2.0     125.0  220.0  0.0      0.0    144.0    0.0      0.4   \n",
       "302  38.0  1.0  3.0     138.0  175.0  0.0      0.0    173.0    0.0      0.0   \n",
       "\n",
       "     slope   ca thal  target  \n",
       "87     1.0  0.0    ?       0  \n",
       "166    1.0    ?  3.0       0  \n",
       "192    2.0    ?  7.0       1  \n",
       "266    2.0  0.0    ?       2  \n",
       "287    2.0    ?  7.0       0  \n",
       "302    1.0    ?  3.0       0  "
      ]
     },
     "execution_count": 7,
     "metadata": {},
     "output_type": "execute_result"
    }
   ],
   "source": [
    "# Lihat semua kolom yang mengandung nilai '?'\n",
    "heart_df_unique = heart_df[heart_df.isin(['?']).any(axis=1)]\n",
    "heart_df_unique"
   ]
  },
  {
   "cell_type": "code",
   "execution_count": 8,
   "metadata": {},
   "outputs": [],
   "source": [
    "\n",
    "# sns.histplot(heart_df['ca'])\n",
    "# plt.show()"
   ]
  },
  {
   "cell_type": "code",
   "execution_count": 9,
   "metadata": {},
   "outputs": [],
   "source": [
    "# sns.histplot(heart_df['thal'])\n",
    "# plt.show()"
   ]
  },
  {
   "cell_type": "code",
   "execution_count": 10,
   "metadata": {},
   "outputs": [],
   "source": [
    "# Penganganan missing value\n",
    "def handle_missing_value(df):\n",
    "    \"\"\"\n",
    "    Fungsi untuk menangani missing value yang ditandai dengan '?'\n",
    "    param df: <pandas dataframe> data input\n",
    "    return df: <pandas dataframe> data dengan missing value yang sudah diganti\n",
    "    \"\"\"\n",
    "    # Ganti '?' dengan NaN\n",
    "    df.replace('?', np.NaN, inplace=True)\n",
    "\n",
    "    # Tampilkan jumlah missing value per kolom\n",
    "    print('Jumlah missing value per kolom:\\n', df.isnull().sum())\n",
    "\n",
    "    return df"
   ]
  },
  {
   "cell_type": "code",
   "execution_count": 11,
   "metadata": {},
   "outputs": [
    {
     "name": "stdout",
     "output_type": "stream",
     "text": [
      "Jumlah missing value per kolom:\n",
      " age         0\n",
      "sex         0\n",
      "cp          0\n",
      "trestbps    0\n",
      "chol        0\n",
      "fbs         0\n",
      "restecg     0\n",
      "thalach     0\n",
      "exang       0\n",
      "oldpeak     0\n",
      "slope       0\n",
      "ca          4\n",
      "thal        2\n",
      "target      0\n",
      "dtype: int64\n"
     ]
    }
   ],
   "source": [
    "# Panggil fungsi untuk menangai missing value\n",
    "heart_df = handle_missing_value(heart_df)"
   ]
  },
  {
   "cell_type": "code",
   "execution_count": 12,
   "metadata": {},
   "outputs": [
    {
     "data": {
      "text/html": [
       "<div>\n",
       "<style scoped>\n",
       "    .dataframe tbody tr th:only-of-type {\n",
       "        vertical-align: middle;\n",
       "    }\n",
       "\n",
       "    .dataframe tbody tr th {\n",
       "        vertical-align: top;\n",
       "    }\n",
       "\n",
       "    .dataframe thead th {\n",
       "        text-align: right;\n",
       "    }\n",
       "</style>\n",
       "<table border=\"1\" class=\"dataframe\">\n",
       "  <thead>\n",
       "    <tr style=\"text-align: right;\">\n",
       "      <th></th>\n",
       "      <th>age</th>\n",
       "      <th>sex</th>\n",
       "      <th>cp</th>\n",
       "      <th>trestbps</th>\n",
       "      <th>chol</th>\n",
       "      <th>fbs</th>\n",
       "      <th>restecg</th>\n",
       "      <th>thalach</th>\n",
       "      <th>exang</th>\n",
       "      <th>oldpeak</th>\n",
       "      <th>slope</th>\n",
       "      <th>ca</th>\n",
       "      <th>thal</th>\n",
       "      <th>target</th>\n",
       "    </tr>\n",
       "  </thead>\n",
       "  <tbody>\n",
       "    <tr>\n",
       "      <th>0</th>\n",
       "      <td>63.0</td>\n",
       "      <td>1.0</td>\n",
       "      <td>1.0</td>\n",
       "      <td>145.0</td>\n",
       "      <td>233.0</td>\n",
       "      <td>1.0</td>\n",
       "      <td>2.0</td>\n",
       "      <td>150.0</td>\n",
       "      <td>0.0</td>\n",
       "      <td>2.3</td>\n",
       "      <td>3.0</td>\n",
       "      <td>0.0</td>\n",
       "      <td>6.0</td>\n",
       "      <td>0</td>\n",
       "    </tr>\n",
       "    <tr>\n",
       "      <th>1</th>\n",
       "      <td>67.0</td>\n",
       "      <td>1.0</td>\n",
       "      <td>4.0</td>\n",
       "      <td>160.0</td>\n",
       "      <td>286.0</td>\n",
       "      <td>0.0</td>\n",
       "      <td>2.0</td>\n",
       "      <td>108.0</td>\n",
       "      <td>1.0</td>\n",
       "      <td>1.5</td>\n",
       "      <td>2.0</td>\n",
       "      <td>3.0</td>\n",
       "      <td>3.0</td>\n",
       "      <td>2</td>\n",
       "    </tr>\n",
       "    <tr>\n",
       "      <th>2</th>\n",
       "      <td>67.0</td>\n",
       "      <td>1.0</td>\n",
       "      <td>4.0</td>\n",
       "      <td>120.0</td>\n",
       "      <td>229.0</td>\n",
       "      <td>0.0</td>\n",
       "      <td>2.0</td>\n",
       "      <td>129.0</td>\n",
       "      <td>1.0</td>\n",
       "      <td>2.6</td>\n",
       "      <td>2.0</td>\n",
       "      <td>2.0</td>\n",
       "      <td>7.0</td>\n",
       "      <td>1</td>\n",
       "    </tr>\n",
       "    <tr>\n",
       "      <th>3</th>\n",
       "      <td>37.0</td>\n",
       "      <td>1.0</td>\n",
       "      <td>3.0</td>\n",
       "      <td>130.0</td>\n",
       "      <td>250.0</td>\n",
       "      <td>0.0</td>\n",
       "      <td>0.0</td>\n",
       "      <td>187.0</td>\n",
       "      <td>0.0</td>\n",
       "      <td>3.5</td>\n",
       "      <td>3.0</td>\n",
       "      <td>0.0</td>\n",
       "      <td>3.0</td>\n",
       "      <td>0</td>\n",
       "    </tr>\n",
       "    <tr>\n",
       "      <th>4</th>\n",
       "      <td>41.0</td>\n",
       "      <td>0.0</td>\n",
       "      <td>2.0</td>\n",
       "      <td>130.0</td>\n",
       "      <td>204.0</td>\n",
       "      <td>0.0</td>\n",
       "      <td>2.0</td>\n",
       "      <td>172.0</td>\n",
       "      <td>0.0</td>\n",
       "      <td>1.4</td>\n",
       "      <td>1.0</td>\n",
       "      <td>0.0</td>\n",
       "      <td>3.0</td>\n",
       "      <td>0</td>\n",
       "    </tr>\n",
       "  </tbody>\n",
       "</table>\n",
       "</div>"
      ],
      "text/plain": [
       "    age  sex   cp  trestbps   chol  fbs  restecg  thalach  exang  oldpeak  \\\n",
       "0  63.0  1.0  1.0     145.0  233.0  1.0      2.0    150.0    0.0      2.3   \n",
       "1  67.0  1.0  4.0     160.0  286.0  0.0      2.0    108.0    1.0      1.5   \n",
       "2  67.0  1.0  4.0     120.0  229.0  0.0      2.0    129.0    1.0      2.6   \n",
       "3  37.0  1.0  3.0     130.0  250.0  0.0      0.0    187.0    0.0      3.5   \n",
       "4  41.0  0.0  2.0     130.0  204.0  0.0      2.0    172.0    0.0      1.4   \n",
       "\n",
       "   slope   ca thal  target  \n",
       "0    3.0  0.0  6.0       0  \n",
       "1    2.0  3.0  3.0       2  \n",
       "2    2.0  2.0  7.0       1  \n",
       "3    3.0  0.0  3.0       0  \n",
       "4    1.0  0.0  3.0       0  "
      ]
     },
     "execution_count": 12,
     "metadata": {},
     "output_type": "execute_result"
    }
   ],
   "source": [
    "heart_df.head()"
   ]
  },
  {
   "cell_type": "code",
   "execution_count": 13,
   "metadata": {},
   "outputs": [],
   "source": [
    "# sns.histplot(heart_df['ca'])\n",
    "# plt.show()"
   ]
  },
  {
   "cell_type": "code",
   "execution_count": 14,
   "metadata": {},
   "outputs": [],
   "source": [
    "# sns.histplot(heart_df['thal'])\n",
    "# plt.show()"
   ]
  },
  {
   "cell_type": "code",
   "execution_count": 15,
   "metadata": {},
   "outputs": [
    {
     "name": "stdout",
     "output_type": "stream",
     "text": [
      "Nilai unik kolom ca   : ['0.0' '3.0' '2.0' '1.0' nan]\n",
      "Nilai unik kolom thal : ['6.0' '3.0' '7.0' nan]\n"
     ]
    }
   ],
   "source": [
    "print('Nilai unik kolom ca   :', heart_df['ca'].unique())\n",
    "print('Nilai unik kolom thal :', heart_df['thal'].unique())"
   ]
  },
  {
   "cell_type": "markdown",
   "metadata": {},
   "source": [
    "## Data Visualisasi"
   ]
  },
  {
   "cell_type": "code",
   "execution_count": 16,
   "metadata": {},
   "outputs": [],
   "source": [
    "# sns.countplot(data=heart_df, x='sex', hue='sex')\n",
    "# plt.show()"
   ]
  },
  {
   "cell_type": "markdown",
   "metadata": {},
   "source": [
    "Insight:\n",
    "- Pria = 1, Wanita = 0\n",
    "- Jumlah pria lebih banyak daripada wanita"
   ]
  },
  {
   "cell_type": "code",
   "execution_count": 17,
   "metadata": {},
   "outputs": [],
   "source": [
    "# sns.countplot(data=heart_df, x='cp')\n",
    "# plt.show()"
   ]
  },
  {
   "cell_type": "markdown",
   "metadata": {},
   "source": [
    "## <b><font color='orange'> 2. Data Preprocessing:</font></b>\n",
    "---\n",
    "* Input-Output Split, Train-Test Split\n",
    "* Processing Categorical\n",
    "* Imputation, Normalization, Drop Duplicates"
   ]
  },
  {
   "cell_type": "markdown",
   "metadata": {},
   "source": [
    "### **Input-Output Split**\n",
    "\n",
    "- Fitur `y` adalah output variabel dari target\n",
    "- yang lainnya menjadi input"
   ]
  },
  {
   "cell_type": "markdown",
   "metadata": {},
   "source": [
    "Buat output data"
   ]
  },
  {
   "cell_type": "code",
   "execution_count": 18,
   "metadata": {},
   "outputs": [
    {
     "data": {
      "text/plain": [
       "0    0\n",
       "1    2\n",
       "2    1\n",
       "3    0\n",
       "4    0\n",
       "Name: target, dtype: int64"
      ]
     },
     "execution_count": 18,
     "metadata": {},
     "output_type": "execute_result"
    }
   ],
   "source": [
    "# Buat data yang berisikan data target\n",
    "# Pilih data dengan nama kolom 'target' sebagai output data\n",
    "output_data = heart_df['target']\n",
    "\n",
    "output_data.head()"
   ]
  },
  {
   "cell_type": "markdown",
   "metadata": {},
   "source": [
    "**Buat data input**\n",
    "\n",
    "- DATA = INPUT + OUTPUT\n",
    "- DATA - OUTPUT = INPUT\n",
    "- Jadi kalau dari data, kita drop VARIABLE OUTPUT, maka tersisa hanya variabel INPUT."
   ]
  },
  {
   "cell_type": "code",
   "execution_count": 19,
   "metadata": {},
   "outputs": [],
   "source": [
    "def extractInputOutput(data, output_column_name, column_to_drop=None):\n",
    "    \"\"\"\n",
    "    Fungsi untuk memisahkan data input dan output\n",
    "    :param data: <pandas dataframe> data seluruh sample\n",
    "    :param output_column_name: <string> nama kolom output\n",
    "    :param column_to_drop: daftar nama kolom yang ingin dihapus sebelum memisahkan\n",
    "    :return input_data: <pandas dataframe> data input, <pandas series> data output\n",
    "    \"\"\"\n",
    "    # drop data yang tidak diperlukan jika ada\n",
    "    if column_to_drop:\n",
    "        data = data.drop(columns=column_to_drop)\n",
    "\n",
    "    # pisahkan data output\n",
    "    output_data = data[output_column_name]\n",
    "\n",
    "    # drop kolom output dari data untuk mendapatkan input_dataa\n",
    "    input_data = data.drop(columns=output_column_name, axis=1)\n",
    "\n",
    "    return input_data, output_data\n",
    "\n",
    "# (data, output_column_name) adalah argumen\n",
    "# Argumen adalah sebuah variable\n",
    "# Jika fungsi tsb diberi argumen data = heart_df\n",
    "# maka semua variable 'data' didalam fungsi akan berubah menjadi heart_data"
   ]
  },
  {
   "cell_type": "code",
   "execution_count": 20,
   "metadata": {},
   "outputs": [],
   "source": [
    "# input_data, output_data = extractInputOutput(heart_df, 'target')\n",
    "x, y = extractInputOutput(heart_df, 'target')"
   ]
  },
  {
   "cell_type": "markdown",
   "metadata": {},
   "source": [
    "**Selalu sanity check**"
   ]
  },
  {
   "cell_type": "code",
   "execution_count": 21,
   "metadata": {},
   "outputs": [
    {
     "data": {
      "text/html": [
       "<div>\n",
       "<style scoped>\n",
       "    .dataframe tbody tr th:only-of-type {\n",
       "        vertical-align: middle;\n",
       "    }\n",
       "\n",
       "    .dataframe tbody tr th {\n",
       "        vertical-align: top;\n",
       "    }\n",
       "\n",
       "    .dataframe thead th {\n",
       "        text-align: right;\n",
       "    }\n",
       "</style>\n",
       "<table border=\"1\" class=\"dataframe\">\n",
       "  <thead>\n",
       "    <tr style=\"text-align: right;\">\n",
       "      <th></th>\n",
       "      <th>age</th>\n",
       "      <th>sex</th>\n",
       "      <th>cp</th>\n",
       "      <th>trestbps</th>\n",
       "      <th>chol</th>\n",
       "      <th>fbs</th>\n",
       "      <th>restecg</th>\n",
       "      <th>thalach</th>\n",
       "      <th>exang</th>\n",
       "      <th>oldpeak</th>\n",
       "      <th>slope</th>\n",
       "      <th>ca</th>\n",
       "      <th>thal</th>\n",
       "    </tr>\n",
       "  </thead>\n",
       "  <tbody>\n",
       "    <tr>\n",
       "      <th>0</th>\n",
       "      <td>63.0</td>\n",
       "      <td>1.0</td>\n",
       "      <td>1.0</td>\n",
       "      <td>145.0</td>\n",
       "      <td>233.0</td>\n",
       "      <td>1.0</td>\n",
       "      <td>2.0</td>\n",
       "      <td>150.0</td>\n",
       "      <td>0.0</td>\n",
       "      <td>2.3</td>\n",
       "      <td>3.0</td>\n",
       "      <td>0.0</td>\n",
       "      <td>6.0</td>\n",
       "    </tr>\n",
       "    <tr>\n",
       "      <th>1</th>\n",
       "      <td>67.0</td>\n",
       "      <td>1.0</td>\n",
       "      <td>4.0</td>\n",
       "      <td>160.0</td>\n",
       "      <td>286.0</td>\n",
       "      <td>0.0</td>\n",
       "      <td>2.0</td>\n",
       "      <td>108.0</td>\n",
       "      <td>1.0</td>\n",
       "      <td>1.5</td>\n",
       "      <td>2.0</td>\n",
       "      <td>3.0</td>\n",
       "      <td>3.0</td>\n",
       "    </tr>\n",
       "    <tr>\n",
       "      <th>2</th>\n",
       "      <td>67.0</td>\n",
       "      <td>1.0</td>\n",
       "      <td>4.0</td>\n",
       "      <td>120.0</td>\n",
       "      <td>229.0</td>\n",
       "      <td>0.0</td>\n",
       "      <td>2.0</td>\n",
       "      <td>129.0</td>\n",
       "      <td>1.0</td>\n",
       "      <td>2.6</td>\n",
       "      <td>2.0</td>\n",
       "      <td>2.0</td>\n",
       "      <td>7.0</td>\n",
       "    </tr>\n",
       "    <tr>\n",
       "      <th>3</th>\n",
       "      <td>37.0</td>\n",
       "      <td>1.0</td>\n",
       "      <td>3.0</td>\n",
       "      <td>130.0</td>\n",
       "      <td>250.0</td>\n",
       "      <td>0.0</td>\n",
       "      <td>0.0</td>\n",
       "      <td>187.0</td>\n",
       "      <td>0.0</td>\n",
       "      <td>3.5</td>\n",
       "      <td>3.0</td>\n",
       "      <td>0.0</td>\n",
       "      <td>3.0</td>\n",
       "    </tr>\n",
       "    <tr>\n",
       "      <th>4</th>\n",
       "      <td>41.0</td>\n",
       "      <td>0.0</td>\n",
       "      <td>2.0</td>\n",
       "      <td>130.0</td>\n",
       "      <td>204.0</td>\n",
       "      <td>0.0</td>\n",
       "      <td>2.0</td>\n",
       "      <td>172.0</td>\n",
       "      <td>0.0</td>\n",
       "      <td>1.4</td>\n",
       "      <td>1.0</td>\n",
       "      <td>0.0</td>\n",
       "      <td>3.0</td>\n",
       "    </tr>\n",
       "  </tbody>\n",
       "</table>\n",
       "</div>"
      ],
      "text/plain": [
       "    age  sex   cp  trestbps   chol  fbs  restecg  thalach  exang  oldpeak  \\\n",
       "0  63.0  1.0  1.0     145.0  233.0  1.0      2.0    150.0    0.0      2.3   \n",
       "1  67.0  1.0  4.0     160.0  286.0  0.0      2.0    108.0    1.0      1.5   \n",
       "2  67.0  1.0  4.0     120.0  229.0  0.0      2.0    129.0    1.0      2.6   \n",
       "3  37.0  1.0  3.0     130.0  250.0  0.0      0.0    187.0    0.0      3.5   \n",
       "4  41.0  0.0  2.0     130.0  204.0  0.0      2.0    172.0    0.0      1.4   \n",
       "\n",
       "   slope   ca thal  \n",
       "0    3.0  0.0  6.0  \n",
       "1    2.0  3.0  3.0  \n",
       "2    2.0  2.0  7.0  \n",
       "3    3.0  0.0  3.0  \n",
       "4    1.0  0.0  3.0  "
      ]
     },
     "execution_count": 21,
     "metadata": {},
     "output_type": "execute_result"
    }
   ],
   "source": [
    "x.head()"
   ]
  },
  {
   "cell_type": "code",
   "execution_count": 22,
   "metadata": {},
   "outputs": [
    {
     "data": {
      "text/plain": [
       "0    0\n",
       "1    2\n",
       "2    1\n",
       "3    0\n",
       "4    0\n",
       "Name: target, dtype: int64"
      ]
     },
     "execution_count": 22,
     "metadata": {},
     "output_type": "execute_result"
    }
   ],
   "source": [
    "y.head()"
   ]
  },
  {
   "cell_type": "markdown",
   "metadata": {},
   "source": [
    "**Check count value data**"
   ]
  },
  {
   "cell_type": "code",
   "execution_count": 23,
   "metadata": {},
   "outputs": [
    {
     "data": {
      "text/html": [
       "<div>\n",
       "<style scoped>\n",
       "    .dataframe tbody tr th:only-of-type {\n",
       "        vertical-align: middle;\n",
       "    }\n",
       "\n",
       "    .dataframe tbody tr th {\n",
       "        vertical-align: top;\n",
       "    }\n",
       "\n",
       "    .dataframe thead th {\n",
       "        text-align: right;\n",
       "    }\n",
       "</style>\n",
       "<table border=\"1\" class=\"dataframe\">\n",
       "  <thead>\n",
       "    <tr style=\"text-align: right;\">\n",
       "      <th></th>\n",
       "      <th>Jumlah Nilai</th>\n",
       "      <th>Nilai Unik</th>\n",
       "    </tr>\n",
       "  </thead>\n",
       "  <tbody>\n",
       "    <tr>\n",
       "      <th>age</th>\n",
       "      <td>41</td>\n",
       "      <td>[63.0, 67.0, 37.0, 41.0, 56.0, 62.0, 57.0, 53....</td>\n",
       "    </tr>\n",
       "    <tr>\n",
       "      <th>sex</th>\n",
       "      <td>2</td>\n",
       "      <td>[1.0, 0.0]</td>\n",
       "    </tr>\n",
       "    <tr>\n",
       "      <th>cp</th>\n",
       "      <td>4</td>\n",
       "      <td>[1.0, 4.0, 3.0, 2.0]</td>\n",
       "    </tr>\n",
       "    <tr>\n",
       "      <th>trestbps</th>\n",
       "      <td>50</td>\n",
       "      <td>[145.0, 160.0, 120.0, 130.0, 140.0, 172.0, 150...</td>\n",
       "    </tr>\n",
       "    <tr>\n",
       "      <th>chol</th>\n",
       "      <td>152</td>\n",
       "      <td>[233.0, 286.0, 229.0, 250.0, 204.0, 236.0, 268...</td>\n",
       "    </tr>\n",
       "    <tr>\n",
       "      <th>fbs</th>\n",
       "      <td>2</td>\n",
       "      <td>[1.0, 0.0]</td>\n",
       "    </tr>\n",
       "    <tr>\n",
       "      <th>restecg</th>\n",
       "      <td>3</td>\n",
       "      <td>[2.0, 0.0, 1.0]</td>\n",
       "    </tr>\n",
       "    <tr>\n",
       "      <th>thalach</th>\n",
       "      <td>91</td>\n",
       "      <td>[150.0, 108.0, 129.0, 187.0, 172.0, 178.0, 160...</td>\n",
       "    </tr>\n",
       "    <tr>\n",
       "      <th>exang</th>\n",
       "      <td>2</td>\n",
       "      <td>[0.0, 1.0]</td>\n",
       "    </tr>\n",
       "    <tr>\n",
       "      <th>oldpeak</th>\n",
       "      <td>40</td>\n",
       "      <td>[2.3, 1.5, 2.6, 3.5, 1.4, 0.8, 3.6, 0.6, 3.1, ...</td>\n",
       "    </tr>\n",
       "    <tr>\n",
       "      <th>slope</th>\n",
       "      <td>3</td>\n",
       "      <td>[3.0, 2.0, 1.0]</td>\n",
       "    </tr>\n",
       "    <tr>\n",
       "      <th>ca</th>\n",
       "      <td>4</td>\n",
       "      <td>[0.0, 3.0, 2.0, 1.0, nan]</td>\n",
       "    </tr>\n",
       "    <tr>\n",
       "      <th>thal</th>\n",
       "      <td>3</td>\n",
       "      <td>[6.0, 3.0, 7.0, nan]</td>\n",
       "    </tr>\n",
       "  </tbody>\n",
       "</table>\n",
       "</div>"
      ],
      "text/plain": [
       "         Jumlah Nilai                                         Nilai Unik\n",
       "age                41  [63.0, 67.0, 37.0, 41.0, 56.0, 62.0, 57.0, 53....\n",
       "sex                 2                                         [1.0, 0.0]\n",
       "cp                  4                               [1.0, 4.0, 3.0, 2.0]\n",
       "trestbps           50  [145.0, 160.0, 120.0, 130.0, 140.0, 172.0, 150...\n",
       "chol              152  [233.0, 286.0, 229.0, 250.0, 204.0, 236.0, 268...\n",
       "fbs                 2                                         [1.0, 0.0]\n",
       "restecg             3                                    [2.0, 0.0, 1.0]\n",
       "thalach            91  [150.0, 108.0, 129.0, 187.0, 172.0, 178.0, 160...\n",
       "exang               2                                         [0.0, 1.0]\n",
       "oldpeak            40  [2.3, 1.5, 2.6, 3.5, 1.4, 0.8, 3.6, 0.6, 3.1, ...\n",
       "slope               3                                    [3.0, 2.0, 1.0]\n",
       "ca                  4                          [0.0, 3.0, 2.0, 1.0, nan]\n",
       "thal                3                               [6.0, 3.0, 7.0, nan]"
      ]
     },
     "execution_count": 23,
     "metadata": {},
     "output_type": "execute_result"
    }
   ],
   "source": [
    "# Cek Jumlah nilai dan nilai unik pada input_data (x)\n",
    "summary_dict = {}\n",
    "for i in list(x.columns):\n",
    "    summary_dict[i] = {\n",
    "        'Jumlah Nilai': x[i].value_counts().shape[0],\n",
    "        'Nilai Unik': x[i].unique()\n",
    "    }\n",
    "summary_df = pd.DataFrame(summary_dict).T\n",
    "\n",
    "summary_df"
   ]
  },
  {
   "cell_type": "markdown",
   "metadata": {},
   "source": [
    "### **Train-Test Split**\n",
    "\n",
    "- **Kenapa?**\n",
    "  - Karena tidak mau overfit data training\n",
    "  - Test data akan menjadi future data\n",
    "  - Kita akan latih model ML di data training, dengan CV (Cross-validation)\n",
    "  - Selanjutnya melakukan evaluasi di data testing"
   ]
  },
  {
   "cell_type": "code",
   "execution_count": 24,
   "metadata": {},
   "outputs": [],
   "source": [
    "# Import train-test splitting library dari sklearn\n",
    "from sklearn.model_selection import train_test_split"
   ]
  },
  {
   "cell_type": "markdown",
   "metadata": {},
   "source": [
    "**Train Test Split Function**\n",
    "1. `X` adalah input\n",
    "2. `y` adalah output (target)\n",
    "3. `test_size` adalah seberapa besar proporsi data test dari keseluruhan data. Contoh `test_size = 0.2` artinya data test akan berisi 20% data.\n",
    "4. `random_state` adalah kunci untuk random. Harus di-setting sama. Misal `random_state = 12`.\n",
    "5. Output:\n",
    "   - `x_train` = input dari data training\n",
    "   - `x_test` = input dari data testing\n",
    "   - `y_train` = output dari data training\n",
    "   - `y_test` = output dari data testing\n",
    "6. Urutan outputnya: `x_train, x_test, y_train, y_test`. Tidak boleh terbalik\n",
    "\n",
    "> Readmore: https://scikit-learn.org/stable/modules/generated/sklearn.model_selection.train_test_split.html"
   ]
  },
  {
   "cell_type": "code",
   "execution_count": 25,
   "metadata": {},
   "outputs": [],
   "source": [
    "# Train Test Split\n",
    "x_train, x_test, y_train, y_test = train_test_split(x, y, test_size=0.25,\n",
    "                                                    random_state=12)"
   ]
  },
  {
   "cell_type": "code",
   "execution_count": 26,
   "metadata": {},
   "outputs": [
    {
     "name": "stdout",
     "output_type": "stream",
     "text": [
      "Bentuk dari x_train adalah : (227, 13)\n",
      "Bentuk dari x_test adalah  : (76, 13)\n",
      "Bentuk dari y_train adalah : (227,)\n",
      "Bentuk dari y_test adalah  : (76,)\n"
     ]
    }
   ],
   "source": [
    "print('Bentuk dari x_train adalah :', x_train.shape)\n",
    "print('Bentuk dari x_test adalah  :', x_test.shape)\n",
    "print('Bentuk dari y_train adalah :', y_train.shape)\n",
    "print('Bentuk dari y_test adalah  :', y_test.shape)"
   ]
  },
  {
   "cell_type": "code",
   "execution_count": 27,
   "metadata": {},
   "outputs": [
    {
     "data": {
      "text/plain": [
       "0.2508250825082508"
      ]
     },
     "execution_count": 27,
     "metadata": {},
     "output_type": "execute_result"
    }
   ],
   "source": [
    "# Ratio\n",
    "x_test.shape[0] / x.shape[0]\n",
    "\n",
    "# Hasil 0.25 --> sudah sesuai dengan test_size"
   ]
  },
  {
   "cell_type": "markdown",
   "metadata": {},
   "source": [
    "**Congrats kita sudah punya data train & test**"
   ]
  },
  {
   "cell_type": "markdown",
   "metadata": {},
   "source": [
    "### **Data Imputation**\n",
    "\n",
    "- Proses pengisian data yang kosong (NaN)\n",
    "- Ada 2 hal yang diperhatikan:\n",
    "  - Numerical Imputation\n",
    "  - Categorical Imputation"
   ]
  },
  {
   "cell_type": "code",
   "execution_count": 28,
   "metadata": {},
   "outputs": [
    {
     "data": {
      "text/plain": [
       "age         0.000000\n",
       "sex         0.000000\n",
       "cp          0.000000\n",
       "trestbps    0.000000\n",
       "chol        0.000000\n",
       "fbs         0.000000\n",
       "restecg     0.000000\n",
       "thalach     0.000000\n",
       "exang       0.000000\n",
       "oldpeak     0.000000\n",
       "slope       0.000000\n",
       "ca          1.762115\n",
       "thal        0.881057\n",
       "dtype: float64"
      ]
     },
     "execution_count": 28,
     "metadata": {},
     "output_type": "execute_result"
    }
   ],
   "source": [
    "# Cek data x_train yang kosong\n",
    "x_train.isnull().sum() / x_train.shape[0]*100"
   ]
  },
  {
   "cell_type": "markdown",
   "metadata": {},
   "source": [
    "**Bedakan antara data categorical dan numerical**"
   ]
  },
  {
   "cell_type": "code",
   "execution_count": 29,
   "metadata": {},
   "outputs": [
    {
     "data": {
      "text/html": [
       "<div>\n",
       "<style scoped>\n",
       "    .dataframe tbody tr th:only-of-type {\n",
       "        vertical-align: middle;\n",
       "    }\n",
       "\n",
       "    .dataframe tbody tr th {\n",
       "        vertical-align: top;\n",
       "    }\n",
       "\n",
       "    .dataframe thead th {\n",
       "        text-align: right;\n",
       "    }\n",
       "</style>\n",
       "<table border=\"1\" class=\"dataframe\">\n",
       "  <thead>\n",
       "    <tr style=\"text-align: right;\">\n",
       "      <th></th>\n",
       "      <th>age</th>\n",
       "      <th>sex</th>\n",
       "      <th>cp</th>\n",
       "      <th>trestbps</th>\n",
       "      <th>chol</th>\n",
       "      <th>fbs</th>\n",
       "      <th>restecg</th>\n",
       "      <th>thalach</th>\n",
       "      <th>exang</th>\n",
       "      <th>oldpeak</th>\n",
       "      <th>slope</th>\n",
       "      <th>ca</th>\n",
       "      <th>thal</th>\n",
       "    </tr>\n",
       "  </thead>\n",
       "  <tbody>\n",
       "    <tr>\n",
       "      <th>255</th>\n",
       "      <td>42.0</td>\n",
       "      <td>0.0</td>\n",
       "      <td>3.0</td>\n",
       "      <td>120.0</td>\n",
       "      <td>209.0</td>\n",
       "      <td>0.0</td>\n",
       "      <td>0.0</td>\n",
       "      <td>173.0</td>\n",
       "      <td>0.0</td>\n",
       "      <td>0.0</td>\n",
       "      <td>2.0</td>\n",
       "      <td>0.0</td>\n",
       "      <td>3.0</td>\n",
       "    </tr>\n",
       "    <tr>\n",
       "      <th>250</th>\n",
       "      <td>57.0</td>\n",
       "      <td>1.0</td>\n",
       "      <td>4.0</td>\n",
       "      <td>110.0</td>\n",
       "      <td>201.0</td>\n",
       "      <td>0.0</td>\n",
       "      <td>0.0</td>\n",
       "      <td>126.0</td>\n",
       "      <td>1.0</td>\n",
       "      <td>1.5</td>\n",
       "      <td>2.0</td>\n",
       "      <td>0.0</td>\n",
       "      <td>6.0</td>\n",
       "    </tr>\n",
       "    <tr>\n",
       "      <th>38</th>\n",
       "      <td>55.0</td>\n",
       "      <td>1.0</td>\n",
       "      <td>4.0</td>\n",
       "      <td>132.0</td>\n",
       "      <td>353.0</td>\n",
       "      <td>0.0</td>\n",
       "      <td>0.0</td>\n",
       "      <td>132.0</td>\n",
       "      <td>1.0</td>\n",
       "      <td>1.2</td>\n",
       "      <td>2.0</td>\n",
       "      <td>1.0</td>\n",
       "      <td>7.0</td>\n",
       "    </tr>\n",
       "    <tr>\n",
       "      <th>24</th>\n",
       "      <td>60.0</td>\n",
       "      <td>1.0</td>\n",
       "      <td>4.0</td>\n",
       "      <td>130.0</td>\n",
       "      <td>206.0</td>\n",
       "      <td>0.0</td>\n",
       "      <td>2.0</td>\n",
       "      <td>132.0</td>\n",
       "      <td>1.0</td>\n",
       "      <td>2.4</td>\n",
       "      <td>2.0</td>\n",
       "      <td>2.0</td>\n",
       "      <td>7.0</td>\n",
       "    </tr>\n",
       "    <tr>\n",
       "      <th>247</th>\n",
       "      <td>47.0</td>\n",
       "      <td>1.0</td>\n",
       "      <td>4.0</td>\n",
       "      <td>110.0</td>\n",
       "      <td>275.0</td>\n",
       "      <td>0.0</td>\n",
       "      <td>2.0</td>\n",
       "      <td>118.0</td>\n",
       "      <td>1.0</td>\n",
       "      <td>1.0</td>\n",
       "      <td>2.0</td>\n",
       "      <td>1.0</td>\n",
       "      <td>3.0</td>\n",
       "    </tr>\n",
       "  </tbody>\n",
       "</table>\n",
       "</div>"
      ],
      "text/plain": [
       "      age  sex   cp  trestbps   chol  fbs  restecg  thalach  exang  oldpeak  \\\n",
       "255  42.0  0.0  3.0     120.0  209.0  0.0      0.0    173.0    0.0      0.0   \n",
       "250  57.0  1.0  4.0     110.0  201.0  0.0      0.0    126.0    1.0      1.5   \n",
       "38   55.0  1.0  4.0     132.0  353.0  0.0      0.0    132.0    1.0      1.2   \n",
       "24   60.0  1.0  4.0     130.0  206.0  0.0      2.0    132.0    1.0      2.4   \n",
       "247  47.0  1.0  4.0     110.0  275.0  0.0      2.0    118.0    1.0      1.0   \n",
       "\n",
       "     slope   ca thal  \n",
       "255    2.0  0.0  3.0  \n",
       "250    2.0  0.0  6.0  \n",
       "38     2.0  1.0  7.0  \n",
       "24     2.0  2.0  7.0  \n",
       "247    2.0  1.0  3.0  "
      ]
     },
     "execution_count": 29,
     "metadata": {},
     "output_type": "execute_result"
    }
   ],
   "source": [
    "x_train.head()"
   ]
  },
  {
   "cell_type": "markdown",
   "metadata": {},
   "source": [
    "**Data Categorical**\n",
    "- sex\n",
    "- cp\n",
    "- fbs\n",
    "- restecg\n",
    "- exang\n",
    "\n",
    "Sisanya adalah numerical"
   ]
  },
  {
   "cell_type": "code",
   "execution_count": 30,
   "metadata": {},
   "outputs": [
    {
     "data": {
      "text/plain": [
       "Index(['age', 'sex', 'cp', 'trestbps', 'chol', 'fbs', 'restecg', 'thalach',\n",
       "       'exang', 'oldpeak', 'slope', 'ca', 'thal'],\n",
       "      dtype='object')"
      ]
     },
     "execution_count": 30,
     "metadata": {},
     "output_type": "execute_result"
    }
   ],
   "source": [
    "# Lihat kolom pada x_train\n",
    "x_train.columns"
   ]
  },
  {
   "cell_type": "code",
   "execution_count": 31,
   "metadata": {},
   "outputs": [],
   "source": [
    "# Buat kolom numerical dan categorical\n",
    "categorical_column = ['sex', 'cp', 'fbs', 'restecg', 'exang']\n",
    "\n",
    "numerical_column = ['age', 'trestbps', 'chol', 'thalach', 'oldpeak',\n",
    "                    'slope', 'ca', 'thal']"
   ]
  },
  {
   "cell_type": "code",
   "execution_count": 32,
   "metadata": {},
   "outputs": [
    {
     "name": "stdout",
     "output_type": "stream",
     "text": [
      "['sex', 'cp', 'fbs', 'restecg', 'exang']\n",
      "['age', 'trestbps', 'chol', 'thalach', 'oldpeak', 'slope', 'ca', 'thal']\n"
     ]
    }
   ],
   "source": [
    "# Lihat hasil pengkategorian\n",
    "print(categorical_column)\n",
    "print(numerical_column)"
   ]
  },
  {
   "cell_type": "code",
   "execution_count": 33,
   "metadata": {},
   "outputs": [],
   "source": [
    "# Seleksi dataframe x_train numerikal\n",
    "x_train_numerical = x_train[numerical_column]"
   ]
  },
  {
   "cell_type": "code",
   "execution_count": 34,
   "metadata": {},
   "outputs": [
    {
     "data": {
      "text/html": [
       "<div>\n",
       "<style scoped>\n",
       "    .dataframe tbody tr th:only-of-type {\n",
       "        vertical-align: middle;\n",
       "    }\n",
       "\n",
       "    .dataframe tbody tr th {\n",
       "        vertical-align: top;\n",
       "    }\n",
       "\n",
       "    .dataframe thead th {\n",
       "        text-align: right;\n",
       "    }\n",
       "</style>\n",
       "<table border=\"1\" class=\"dataframe\">\n",
       "  <thead>\n",
       "    <tr style=\"text-align: right;\">\n",
       "      <th></th>\n",
       "      <th>age</th>\n",
       "      <th>trestbps</th>\n",
       "      <th>chol</th>\n",
       "      <th>thalach</th>\n",
       "      <th>oldpeak</th>\n",
       "      <th>slope</th>\n",
       "      <th>ca</th>\n",
       "      <th>thal</th>\n",
       "    </tr>\n",
       "  </thead>\n",
       "  <tbody>\n",
       "    <tr>\n",
       "      <th>255</th>\n",
       "      <td>42.0</td>\n",
       "      <td>120.0</td>\n",
       "      <td>209.0</td>\n",
       "      <td>173.0</td>\n",
       "      <td>0.0</td>\n",
       "      <td>2.0</td>\n",
       "      <td>0.0</td>\n",
       "      <td>3.0</td>\n",
       "    </tr>\n",
       "    <tr>\n",
       "      <th>250</th>\n",
       "      <td>57.0</td>\n",
       "      <td>110.0</td>\n",
       "      <td>201.0</td>\n",
       "      <td>126.0</td>\n",
       "      <td>1.5</td>\n",
       "      <td>2.0</td>\n",
       "      <td>0.0</td>\n",
       "      <td>6.0</td>\n",
       "    </tr>\n",
       "    <tr>\n",
       "      <th>38</th>\n",
       "      <td>55.0</td>\n",
       "      <td>132.0</td>\n",
       "      <td>353.0</td>\n",
       "      <td>132.0</td>\n",
       "      <td>1.2</td>\n",
       "      <td>2.0</td>\n",
       "      <td>1.0</td>\n",
       "      <td>7.0</td>\n",
       "    </tr>\n",
       "    <tr>\n",
       "      <th>24</th>\n",
       "      <td>60.0</td>\n",
       "      <td>130.0</td>\n",
       "      <td>206.0</td>\n",
       "      <td>132.0</td>\n",
       "      <td>2.4</td>\n",
       "      <td>2.0</td>\n",
       "      <td>2.0</td>\n",
       "      <td>7.0</td>\n",
       "    </tr>\n",
       "    <tr>\n",
       "      <th>247</th>\n",
       "      <td>47.0</td>\n",
       "      <td>110.0</td>\n",
       "      <td>275.0</td>\n",
       "      <td>118.0</td>\n",
       "      <td>1.0</td>\n",
       "      <td>2.0</td>\n",
       "      <td>1.0</td>\n",
       "      <td>3.0</td>\n",
       "    </tr>\n",
       "  </tbody>\n",
       "</table>\n",
       "</div>"
      ],
      "text/plain": [
       "      age  trestbps   chol  thalach  oldpeak  slope   ca thal\n",
       "255  42.0     120.0  209.0    173.0      0.0    2.0  0.0  3.0\n",
       "250  57.0     110.0  201.0    126.0      1.5    2.0  0.0  6.0\n",
       "38   55.0     132.0  353.0    132.0      1.2    2.0  1.0  7.0\n",
       "24   60.0     130.0  206.0    132.0      2.4    2.0  2.0  7.0\n",
       "247  47.0     110.0  275.0    118.0      1.0    2.0  1.0  3.0"
      ]
     },
     "execution_count": 34,
     "metadata": {},
     "output_type": "execute_result"
    }
   ],
   "source": [
    "x_train_numerical.head()"
   ]
  },
  {
   "cell_type": "markdown",
   "metadata": {},
   "source": [
    "**Cek apakah ada data numerical yang kosong**"
   ]
  },
  {
   "cell_type": "code",
   "execution_count": 35,
   "metadata": {},
   "outputs": [
    {
     "data": {
      "text/plain": [
       "age         False\n",
       "trestbps    False\n",
       "chol        False\n",
       "thalach     False\n",
       "oldpeak     False\n",
       "slope       False\n",
       "ca           True\n",
       "thal         True\n",
       "dtype: bool"
      ]
     },
     "execution_count": 35,
     "metadata": {},
     "output_type": "execute_result"
    }
   ],
   "source": [
    "x_train_numerical.isnull().any()\n"
   ]
  },
  {
   "cell_type": "markdown",
   "metadata": {},
   "source": [
    ">Terdapat dua kolom yang mempunyai nilai kosong yaitu ca dan thal"
   ]
  },
  {
   "cell_type": "markdown",
   "metadata": {},
   "source": [
    "**Gunakan Imputer dari sklearn untuk data Imputation numerik saja**"
   ]
  },
  {
   "cell_type": "markdown",
   "metadata": {},
   "source": [
    "- fit : imputer agar mengetahui mean atau median dari tiap kolom\n",
    "- transform : isi data dengan median atau mean\n",
    "- output dari transform adalah pandas dataframe\n",
    "- kembalikan dataFrame yang sudah memiliki kolom dan indeks yang sama seperti data asli"
   ]
  },
  {
   "cell_type": "code",
   "execution_count": 36,
   "metadata": {},
   "outputs": [],
   "source": [
    "# Import library untuk melakukan impute\n",
    "from sklearn.impute import SimpleImputer"
   ]
  },
  {
   "cell_type": "code",
   "execution_count": 37,
   "metadata": {},
   "outputs": [],
   "source": [
    "def impute_missing_values(data, strategy=\"median\"):\n",
    "    \"\"\"\n",
    "    Fungsi untuk melakukan imputasi missing value pada data numerik\n",
    "    param data: <pandas dataframe> Data numerik yang ingin di imputasi\n",
    "    param strategy: <string> Strategi imputasi, default adalah \"median\"\n",
    "                    Pilihan lain: \"mean\", \"most_frequent\", \"constant\"\n",
    "    return data_imputed: <pandas dataframe> Data numerik dengan missing values yang sudah diimputasi\n",
    "    \"\"\"\n",
    "    # Inisialisasi SimpeImputer dengan strategi yang dipilih\n",
    "    imputer = SimpleImputer(missing_values=np.NaN, strategy=\"median\")\n",
    "\n",
    "    # Fit imputer pada data dan trasformasi\n",
    "    imputed_data = imputer.fit_transform(data)\n",
    "\n",
    "    # Konversi hasil transformasi kembali ke dataframe\n",
    "    data_imputed = pd.DataFrame(imputed_data, columns=data.columns, index=data.index)\n",
    "\n",
    "    return data_imputed"
   ]
  },
  {
   "cell_type": "code",
   "execution_count": 38,
   "metadata": {},
   "outputs": [],
   "source": [
    "# Jalankan fungsi\n",
    "x_train_numerical_imputed = impute_missing_values(x_train_numerical)"
   ]
  },
  {
   "cell_type": "code",
   "execution_count": 39,
   "metadata": {},
   "outputs": [
    {
     "data": {
      "text/plain": [
       "age         False\n",
       "trestbps    False\n",
       "chol        False\n",
       "thalach     False\n",
       "oldpeak     False\n",
       "slope       False\n",
       "ca          False\n",
       "thal        False\n",
       "dtype: bool"
      ]
     },
     "execution_count": 39,
     "metadata": {},
     "output_type": "execute_result"
    }
   ],
   "source": [
    "# Cek missing value setelah di impute\n",
    "x_train_numerical_imputed.isnull().any()"
   ]
  },
  {
   "cell_type": "markdown",
   "metadata": {},
   "source": [
    ">Setelah di impute tidak ada lagi data yang kosong"
   ]
  },
  {
   "cell_type": "code",
   "execution_count": 40,
   "metadata": {},
   "outputs": [],
   "source": [
    "# Seleksi dataframe x_train kategorical\n",
    "x_train_categorical = x_train[categorical_column]"
   ]
  },
  {
   "cell_type": "code",
   "execution_count": 41,
   "metadata": {},
   "outputs": [
    {
     "data": {
      "text/html": [
       "<div>\n",
       "<style scoped>\n",
       "    .dataframe tbody tr th:only-of-type {\n",
       "        vertical-align: middle;\n",
       "    }\n",
       "\n",
       "    .dataframe tbody tr th {\n",
       "        vertical-align: top;\n",
       "    }\n",
       "\n",
       "    .dataframe thead th {\n",
       "        text-align: right;\n",
       "    }\n",
       "</style>\n",
       "<table border=\"1\" class=\"dataframe\">\n",
       "  <thead>\n",
       "    <tr style=\"text-align: right;\">\n",
       "      <th></th>\n",
       "      <th>sex</th>\n",
       "      <th>cp</th>\n",
       "      <th>fbs</th>\n",
       "      <th>restecg</th>\n",
       "      <th>exang</th>\n",
       "    </tr>\n",
       "  </thead>\n",
       "  <tbody>\n",
       "    <tr>\n",
       "      <th>255</th>\n",
       "      <td>0.0</td>\n",
       "      <td>3.0</td>\n",
       "      <td>0.0</td>\n",
       "      <td>0.0</td>\n",
       "      <td>0.0</td>\n",
       "    </tr>\n",
       "    <tr>\n",
       "      <th>250</th>\n",
       "      <td>1.0</td>\n",
       "      <td>4.0</td>\n",
       "      <td>0.0</td>\n",
       "      <td>0.0</td>\n",
       "      <td>1.0</td>\n",
       "    </tr>\n",
       "    <tr>\n",
       "      <th>38</th>\n",
       "      <td>1.0</td>\n",
       "      <td>4.0</td>\n",
       "      <td>0.0</td>\n",
       "      <td>0.0</td>\n",
       "      <td>1.0</td>\n",
       "    </tr>\n",
       "    <tr>\n",
       "      <th>24</th>\n",
       "      <td>1.0</td>\n",
       "      <td>4.0</td>\n",
       "      <td>0.0</td>\n",
       "      <td>2.0</td>\n",
       "      <td>1.0</td>\n",
       "    </tr>\n",
       "    <tr>\n",
       "      <th>247</th>\n",
       "      <td>1.0</td>\n",
       "      <td>4.0</td>\n",
       "      <td>0.0</td>\n",
       "      <td>2.0</td>\n",
       "      <td>1.0</td>\n",
       "    </tr>\n",
       "  </tbody>\n",
       "</table>\n",
       "</div>"
      ],
      "text/plain": [
       "     sex   cp  fbs  restecg  exang\n",
       "255  0.0  3.0  0.0      0.0    0.0\n",
       "250  1.0  4.0  0.0      0.0    1.0\n",
       "38   1.0  4.0  0.0      0.0    1.0\n",
       "24   1.0  4.0  0.0      2.0    1.0\n",
       "247  1.0  4.0  0.0      2.0    1.0"
      ]
     },
     "execution_count": 41,
     "metadata": {},
     "output_type": "execute_result"
    }
   ],
   "source": [
    "x_train_categorical.head()"
   ]
  },
  {
   "cell_type": "code",
   "execution_count": 42,
   "metadata": {},
   "outputs": [
    {
     "data": {
      "text/plain": [
       "sex        0\n",
       "cp         0\n",
       "fbs        0\n",
       "restecg    0\n",
       "exang      0\n",
       "dtype: int64"
      ]
     },
     "execution_count": 42,
     "metadata": {},
     "output_type": "execute_result"
    }
   ],
   "source": [
    "# Cek missing value pada data kategorikal\n",
    "x_train_categorical.isnull().sum()"
   ]
  },
  {
   "cell_type": "markdown",
   "metadata": {},
   "source": [
    ">Tidak ada missing value pada data kategorikal"
   ]
  },
  {
   "cell_type": "markdown",
   "metadata": {},
   "source": [
    "**Preprocessing Categorical Variables**\n",
    "- Kita tidak bisa memasukkan data categorical jika tidak diubah menjadi numerical\n",
    "- Solusi --> One Hot Encoding (OHE)"
   ]
  },
  {
   "cell_type": "code",
   "execution_count": 43,
   "metadata": {},
   "outputs": [],
   "source": [
    "def extractCategorical(data, categorical_column):\n",
    "    \"\"\"\n",
    "    Fungsi untuk ekstrak data kategorikal dengan One Hot Encoding (OHE)\n",
    "    :param data: <pandas dataframe> data sample\n",
    "    :param categorical_column: <list> list kolom kategorik\n",
    "    :param categorical_ohe: <pandas dataframe> data sample dengan OHE\n",
    "    :return result_data: <pandas dataframe> hasil penggabungan data sample dengan data ketegorik OHE\n",
    "    \"\"\"\n",
    "    # Lakukan One-Hot Encoding pada kolom kategorikal\n",
    "    # categorical_ohe = pd.get_dummies(data[categorical_column])\n",
    "    categorical_ohe = pd.get_dummies(x_train_categorical)\n",
    "    \n",
    "    # Gabungkan hasil OHE dengan kolom lainnya (jika ada)\n",
    "    # result_data = pd.concat([data.drop(columns=categorical_column), categorical_ohe], axis=1)\n",
    "    \n",
    "    return categorical_ohe"
   ]
  },
  {
   "cell_type": "code",
   "execution_count": 44,
   "metadata": {},
   "outputs": [],
   "source": [
    "# Panggil fungsi untuk melakukan encoding\n",
    "x_train_categorical_ohe = extractCategorical(data=x_train_categorical, categorical_column=categorical_column)"
   ]
  },
  {
   "cell_type": "code",
   "execution_count": 45,
   "metadata": {},
   "outputs": [
    {
     "data": {
      "text/html": [
       "<div>\n",
       "<style scoped>\n",
       "    .dataframe tbody tr th:only-of-type {\n",
       "        vertical-align: middle;\n",
       "    }\n",
       "\n",
       "    .dataframe tbody tr th {\n",
       "        vertical-align: top;\n",
       "    }\n",
       "\n",
       "    .dataframe thead th {\n",
       "        text-align: right;\n",
       "    }\n",
       "</style>\n",
       "<table border=\"1\" class=\"dataframe\">\n",
       "  <thead>\n",
       "    <tr style=\"text-align: right;\">\n",
       "      <th></th>\n",
       "      <th>sex</th>\n",
       "      <th>cp</th>\n",
       "      <th>fbs</th>\n",
       "      <th>restecg</th>\n",
       "      <th>exang</th>\n",
       "    </tr>\n",
       "  </thead>\n",
       "  <tbody>\n",
       "    <tr>\n",
       "      <th>255</th>\n",
       "      <td>0.0</td>\n",
       "      <td>3.0</td>\n",
       "      <td>0.0</td>\n",
       "      <td>0.0</td>\n",
       "      <td>0.0</td>\n",
       "    </tr>\n",
       "    <tr>\n",
       "      <th>250</th>\n",
       "      <td>1.0</td>\n",
       "      <td>4.0</td>\n",
       "      <td>0.0</td>\n",
       "      <td>0.0</td>\n",
       "      <td>1.0</td>\n",
       "    </tr>\n",
       "    <tr>\n",
       "      <th>38</th>\n",
       "      <td>1.0</td>\n",
       "      <td>4.0</td>\n",
       "      <td>0.0</td>\n",
       "      <td>0.0</td>\n",
       "      <td>1.0</td>\n",
       "    </tr>\n",
       "    <tr>\n",
       "      <th>24</th>\n",
       "      <td>1.0</td>\n",
       "      <td>4.0</td>\n",
       "      <td>0.0</td>\n",
       "      <td>2.0</td>\n",
       "      <td>1.0</td>\n",
       "    </tr>\n",
       "    <tr>\n",
       "      <th>247</th>\n",
       "      <td>1.0</td>\n",
       "      <td>4.0</td>\n",
       "      <td>0.0</td>\n",
       "      <td>2.0</td>\n",
       "      <td>1.0</td>\n",
       "    </tr>\n",
       "  </tbody>\n",
       "</table>\n",
       "</div>"
      ],
      "text/plain": [
       "     sex   cp  fbs  restecg  exang\n",
       "255  0.0  3.0  0.0      0.0    0.0\n",
       "250  1.0  4.0  0.0      0.0    1.0\n",
       "38   1.0  4.0  0.0      0.0    1.0\n",
       "24   1.0  4.0  0.0      2.0    1.0\n",
       "247  1.0  4.0  0.0      2.0    1.0"
      ]
     },
     "execution_count": 45,
     "metadata": {},
     "output_type": "execute_result"
    }
   ],
   "source": [
    "x_train_categorical_ohe.head()"
   ]
  },
  {
   "cell_type": "code",
   "execution_count": 46,
   "metadata": {},
   "outputs": [],
   "source": [
    "# Simpan kolom OHE untuk diimplementasikan dalam testing data\n",
    "# Agar shape nya konsisten\n",
    "ohe_columns = x_train_categorical_ohe.columns"
   ]
  },
  {
   "cell_type": "markdown",
   "metadata": {},
   "source": [
    "### Join data Numerical dan Categorical\n",
    "- Data numerik & kategorik harus digabungkan kembali\n",
    "- Penggabungan dengan `pd.concat`"
   ]
  },
  {
   "cell_type": "code",
   "execution_count": 47,
   "metadata": {},
   "outputs": [],
   "source": [
    "# Lakukan penggabungan data numerik dan data kategorik yang sudah di encoded\n",
    "x_train_concat = pd.concat([x_train_numerical_imputed, x_train_categorical_ohe], axis=1)"
   ]
  },
  {
   "cell_type": "code",
   "execution_count": 48,
   "metadata": {},
   "outputs": [
    {
     "data": {
      "text/html": [
       "<div>\n",
       "<style scoped>\n",
       "    .dataframe tbody tr th:only-of-type {\n",
       "        vertical-align: middle;\n",
       "    }\n",
       "\n",
       "    .dataframe tbody tr th {\n",
       "        vertical-align: top;\n",
       "    }\n",
       "\n",
       "    .dataframe thead th {\n",
       "        text-align: right;\n",
       "    }\n",
       "</style>\n",
       "<table border=\"1\" class=\"dataframe\">\n",
       "  <thead>\n",
       "    <tr style=\"text-align: right;\">\n",
       "      <th></th>\n",
       "      <th>age</th>\n",
       "      <th>trestbps</th>\n",
       "      <th>chol</th>\n",
       "      <th>thalach</th>\n",
       "      <th>oldpeak</th>\n",
       "      <th>slope</th>\n",
       "      <th>ca</th>\n",
       "      <th>thal</th>\n",
       "      <th>sex</th>\n",
       "      <th>cp</th>\n",
       "      <th>fbs</th>\n",
       "      <th>restecg</th>\n",
       "      <th>exang</th>\n",
       "    </tr>\n",
       "  </thead>\n",
       "  <tbody>\n",
       "    <tr>\n",
       "      <th>255</th>\n",
       "      <td>42.0</td>\n",
       "      <td>120.0</td>\n",
       "      <td>209.0</td>\n",
       "      <td>173.0</td>\n",
       "      <td>0.0</td>\n",
       "      <td>2.0</td>\n",
       "      <td>0.0</td>\n",
       "      <td>3.0</td>\n",
       "      <td>0.0</td>\n",
       "      <td>3.0</td>\n",
       "      <td>0.0</td>\n",
       "      <td>0.0</td>\n",
       "      <td>0.0</td>\n",
       "    </tr>\n",
       "    <tr>\n",
       "      <th>250</th>\n",
       "      <td>57.0</td>\n",
       "      <td>110.0</td>\n",
       "      <td>201.0</td>\n",
       "      <td>126.0</td>\n",
       "      <td>1.5</td>\n",
       "      <td>2.0</td>\n",
       "      <td>0.0</td>\n",
       "      <td>6.0</td>\n",
       "      <td>1.0</td>\n",
       "      <td>4.0</td>\n",
       "      <td>0.0</td>\n",
       "      <td>0.0</td>\n",
       "      <td>1.0</td>\n",
       "    </tr>\n",
       "    <tr>\n",
       "      <th>38</th>\n",
       "      <td>55.0</td>\n",
       "      <td>132.0</td>\n",
       "      <td>353.0</td>\n",
       "      <td>132.0</td>\n",
       "      <td>1.2</td>\n",
       "      <td>2.0</td>\n",
       "      <td>1.0</td>\n",
       "      <td>7.0</td>\n",
       "      <td>1.0</td>\n",
       "      <td>4.0</td>\n",
       "      <td>0.0</td>\n",
       "      <td>0.0</td>\n",
       "      <td>1.0</td>\n",
       "    </tr>\n",
       "    <tr>\n",
       "      <th>24</th>\n",
       "      <td>60.0</td>\n",
       "      <td>130.0</td>\n",
       "      <td>206.0</td>\n",
       "      <td>132.0</td>\n",
       "      <td>2.4</td>\n",
       "      <td>2.0</td>\n",
       "      <td>2.0</td>\n",
       "      <td>7.0</td>\n",
       "      <td>1.0</td>\n",
       "      <td>4.0</td>\n",
       "      <td>0.0</td>\n",
       "      <td>2.0</td>\n",
       "      <td>1.0</td>\n",
       "    </tr>\n",
       "    <tr>\n",
       "      <th>247</th>\n",
       "      <td>47.0</td>\n",
       "      <td>110.0</td>\n",
       "      <td>275.0</td>\n",
       "      <td>118.0</td>\n",
       "      <td>1.0</td>\n",
       "      <td>2.0</td>\n",
       "      <td>1.0</td>\n",
       "      <td>3.0</td>\n",
       "      <td>1.0</td>\n",
       "      <td>4.0</td>\n",
       "      <td>0.0</td>\n",
       "      <td>2.0</td>\n",
       "      <td>1.0</td>\n",
       "    </tr>\n",
       "  </tbody>\n",
       "</table>\n",
       "</div>"
      ],
      "text/plain": [
       "      age  trestbps   chol  thalach  oldpeak  slope   ca  thal  sex   cp  fbs  \\\n",
       "255  42.0     120.0  209.0    173.0      0.0    2.0  0.0   3.0  0.0  3.0  0.0   \n",
       "250  57.0     110.0  201.0    126.0      1.5    2.0  0.0   6.0  1.0  4.0  0.0   \n",
       "38   55.0     132.0  353.0    132.0      1.2    2.0  1.0   7.0  1.0  4.0  0.0   \n",
       "24   60.0     130.0  206.0    132.0      2.4    2.0  2.0   7.0  1.0  4.0  0.0   \n",
       "247  47.0     110.0  275.0    118.0      1.0    2.0  1.0   3.0  1.0  4.0  0.0   \n",
       "\n",
       "     restecg  exang  \n",
       "255      0.0    0.0  \n",
       "250      0.0    1.0  \n",
       "38       0.0    1.0  \n",
       "24       2.0    1.0  \n",
       "247      2.0    1.0  "
      ]
     },
     "execution_count": 48,
     "metadata": {},
     "output_type": "execute_result"
    }
   ],
   "source": [
    "# Lihat hasilnya\n",
    "x_train_concat.head()"
   ]
  },
  {
   "cell_type": "code",
   "execution_count": 49,
   "metadata": {},
   "outputs": [
    {
     "data": {
      "text/plain": [
       "age         0\n",
       "trestbps    0\n",
       "chol        0\n",
       "thalach     0\n",
       "oldpeak     0\n",
       "slope       0\n",
       "ca          0\n",
       "thal        0\n",
       "sex         0\n",
       "cp          0\n",
       "fbs         0\n",
       "restecg     0\n",
       "exang       0\n",
       "dtype: int64"
      ]
     },
     "execution_count": 49,
     "metadata": {},
     "output_type": "execute_result"
    }
   ],
   "source": [
    "x_train_concat.isnull().sum()"
   ]
  },
  {
   "cell_type": "markdown",
   "metadata": {},
   "source": [
    ">Tidak ada missing value pada penggabungan data numerik dan data kategorik"
   ]
  },
  {
   "cell_type": "markdown",
   "metadata": {},
   "source": [
    "### Standardizing Variables\n",
    "- Menyamakan skala dari variable input\n",
    "- `fit` : imputer agar mengetahui mean dan standar deviasi dari setiap kolom\n",
    "- `transform` : isi data dngan value yang sudah di normalisasi\n",
    "- output dari transform berupa pandas dataframe\n",
    "- normalize dikeluarkan karena akan digunakan pada data test\n"
   ]
  },
  {
   "cell_type": "code",
   "execution_count": 50,
   "metadata": {},
   "outputs": [],
   "source": [
    "from sklearn.preprocessing import StandardScaler\n",
    "\n",
    "def standardizerData(data):\n",
    "    \"\"\"\n",
    "    Fungsi untuk melakukan standarisasi data\n",
    "    :param data: <pandas dataframe> data sample\n",
    "    :return standardized_data: <pandas dataframe> data sample standart\n",
    "    :return standarizer: method untuk standarisasi data\n",
    "    \"\"\"\n",
    "    data_columns = data.columns # agar nama kolom tidak hilang\n",
    "    data_index = data.index # agar index tidak hilang\n",
    "\n",
    "    # Buat (fit) Standardizer\n",
    "    standarizer = StandardScaler()\n",
    "    standarizer.fit(data)\n",
    "\n",
    "    # Transform data\n",
    "    standarized_data_raw = standarizer.transform(data)\n",
    "    standarized_data = pd.DataFrame(standarized_data_raw)\n",
    "    standarized_data.columns = data_columns\n",
    "    standarized_data.index = data_index\n",
    "\n",
    "    return standarized_data, standarizer"
   ]
  },
  {
   "cell_type": "code",
   "execution_count": 51,
   "metadata": {},
   "outputs": [],
   "source": [
    "# Jalankan fungsi\n",
    "x_train_clean, standardizer = standardizerData(data=x_train_concat)"
   ]
  },
  {
   "cell_type": "code",
   "execution_count": 52,
   "metadata": {},
   "outputs": [
    {
     "data": {
      "text/html": [
       "<div>\n",
       "<style scoped>\n",
       "    .dataframe tbody tr th:only-of-type {\n",
       "        vertical-align: middle;\n",
       "    }\n",
       "\n",
       "    .dataframe tbody tr th {\n",
       "        vertical-align: top;\n",
       "    }\n",
       "\n",
       "    .dataframe thead th {\n",
       "        text-align: right;\n",
       "    }\n",
       "</style>\n",
       "<table border=\"1\" class=\"dataframe\">\n",
       "  <thead>\n",
       "    <tr style=\"text-align: right;\">\n",
       "      <th></th>\n",
       "      <th>age</th>\n",
       "      <th>trestbps</th>\n",
       "      <th>chol</th>\n",
       "      <th>thalach</th>\n",
       "      <th>oldpeak</th>\n",
       "      <th>slope</th>\n",
       "      <th>ca</th>\n",
       "      <th>thal</th>\n",
       "      <th>sex</th>\n",
       "      <th>cp</th>\n",
       "      <th>fbs</th>\n",
       "      <th>restecg</th>\n",
       "      <th>exang</th>\n",
       "    </tr>\n",
       "  </thead>\n",
       "  <tbody>\n",
       "    <tr>\n",
       "      <th>255</th>\n",
       "      <td>-1.367549</td>\n",
       "      <td>-0.611322</td>\n",
       "      <td>-0.734267</td>\n",
       "      <td>1.003189</td>\n",
       "      <td>-0.879338</td>\n",
       "      <td>0.649338</td>\n",
       "      <td>-0.702793</td>\n",
       "      <td>-0.946333</td>\n",
       "      <td>-1.545335</td>\n",
       "      <td>-0.152530</td>\n",
       "      <td>-0.419721</td>\n",
       "      <td>-1.000020</td>\n",
       "      <td>-0.674632</td>\n",
       "    </tr>\n",
       "    <tr>\n",
       "      <th>250</th>\n",
       "      <td>0.322039</td>\n",
       "      <td>-1.181688</td>\n",
       "      <td>-0.883387</td>\n",
       "      <td>-1.107861</td>\n",
       "      <td>0.355871</td>\n",
       "      <td>0.649338</td>\n",
       "      <td>-0.702793</td>\n",
       "      <td>0.591740</td>\n",
       "      <td>0.647109</td>\n",
       "      <td>0.896689</td>\n",
       "      <td>-0.419721</td>\n",
       "      <td>-1.000020</td>\n",
       "      <td>1.482290</td>\n",
       "    </tr>\n",
       "    <tr>\n",
       "      <th>38</th>\n",
       "      <td>0.096761</td>\n",
       "      <td>0.073117</td>\n",
       "      <td>1.949889</td>\n",
       "      <td>-0.838366</td>\n",
       "      <td>0.108829</td>\n",
       "      <td>0.649338</td>\n",
       "      <td>0.333142</td>\n",
       "      <td>1.104431</td>\n",
       "      <td>0.647109</td>\n",
       "      <td>0.896689</td>\n",
       "      <td>-0.419721</td>\n",
       "      <td>-1.000020</td>\n",
       "      <td>1.482290</td>\n",
       "    </tr>\n",
       "    <tr>\n",
       "      <th>24</th>\n",
       "      <td>0.659957</td>\n",
       "      <td>-0.040956</td>\n",
       "      <td>-0.790187</td>\n",
       "      <td>-0.838366</td>\n",
       "      <td>1.096996</td>\n",
       "      <td>0.649338</td>\n",
       "      <td>1.369078</td>\n",
       "      <td>1.104431</td>\n",
       "      <td>0.647109</td>\n",
       "      <td>0.896689</td>\n",
       "      <td>-0.419721</td>\n",
       "      <td>1.008869</td>\n",
       "      <td>1.482290</td>\n",
       "    </tr>\n",
       "    <tr>\n",
       "      <th>247</th>\n",
       "      <td>-0.804353</td>\n",
       "      <td>-1.181688</td>\n",
       "      <td>0.495971</td>\n",
       "      <td>-1.467189</td>\n",
       "      <td>-0.055866</td>\n",
       "      <td>0.649338</td>\n",
       "      <td>0.333142</td>\n",
       "      <td>-0.946333</td>\n",
       "      <td>0.647109</td>\n",
       "      <td>0.896689</td>\n",
       "      <td>-0.419721</td>\n",
       "      <td>1.008869</td>\n",
       "      <td>1.482290</td>\n",
       "    </tr>\n",
       "  </tbody>\n",
       "</table>\n",
       "</div>"
      ],
      "text/plain": [
       "          age  trestbps      chol   thalach   oldpeak     slope        ca  \\\n",
       "255 -1.367549 -0.611322 -0.734267  1.003189 -0.879338  0.649338 -0.702793   \n",
       "250  0.322039 -1.181688 -0.883387 -1.107861  0.355871  0.649338 -0.702793   \n",
       "38   0.096761  0.073117  1.949889 -0.838366  0.108829  0.649338  0.333142   \n",
       "24   0.659957 -0.040956 -0.790187 -0.838366  1.096996  0.649338  1.369078   \n",
       "247 -0.804353 -1.181688  0.495971 -1.467189 -0.055866  0.649338  0.333142   \n",
       "\n",
       "         thal       sex        cp       fbs   restecg     exang  \n",
       "255 -0.946333 -1.545335 -0.152530 -0.419721 -1.000020 -0.674632  \n",
       "250  0.591740  0.647109  0.896689 -0.419721 -1.000020  1.482290  \n",
       "38   1.104431  0.647109  0.896689 -0.419721 -1.000020  1.482290  \n",
       "24   1.104431  0.647109  0.896689 -0.419721  1.008869  1.482290  \n",
       "247 -0.946333  0.647109  0.896689 -0.419721  1.008869  1.482290  "
      ]
     },
     "execution_count": 52,
     "metadata": {},
     "output_type": "execute_result"
    }
   ],
   "source": [
    "x_train_clean.head()"
   ]
  },
  {
   "cell_type": "code",
   "execution_count": 53,
   "metadata": {},
   "outputs": [
    {
     "data": {
      "text/plain": [
       "age         0\n",
       "trestbps    0\n",
       "chol        0\n",
       "thalach     0\n",
       "oldpeak     0\n",
       "slope       0\n",
       "ca          0\n",
       "thal        0\n",
       "sex         0\n",
       "cp          0\n",
       "fbs         0\n",
       "restecg     0\n",
       "exang       0\n",
       "dtype: int64"
      ]
     },
     "execution_count": 53,
     "metadata": {},
     "output_type": "execute_result"
    }
   ],
   "source": [
    "# Cek missing value\n",
    "x_train_clean.isnull().sum()"
   ]
  },
  {
   "cell_type": "markdown",
   "metadata": {},
   "source": [
    ">Tidak ada missing value dari data yang sudah di standarisasi"
   ]
  },
  {
   "cell_type": "code",
   "execution_count": 82,
   "metadata": {},
   "outputs": [
    {
     "data": {
      "text/html": [
       "<div>\n",
       "<style scoped>\n",
       "    .dataframe tbody tr th:only-of-type {\n",
       "        vertical-align: middle;\n",
       "    }\n",
       "\n",
       "    .dataframe tbody tr th {\n",
       "        vertical-align: top;\n",
       "    }\n",
       "\n",
       "    .dataframe thead th {\n",
       "        text-align: right;\n",
       "    }\n",
       "</style>\n",
       "<table border=\"1\" class=\"dataframe\">\n",
       "  <thead>\n",
       "    <tr style=\"text-align: right;\">\n",
       "      <th></th>\n",
       "      <th>count</th>\n",
       "      <th>mean</th>\n",
       "      <th>std</th>\n",
       "      <th>min</th>\n",
       "      <th>25%</th>\n",
       "      <th>50%</th>\n",
       "      <th>75%</th>\n",
       "      <th>max</th>\n",
       "    </tr>\n",
       "  </thead>\n",
       "  <tbody>\n",
       "    <tr>\n",
       "      <th>age</th>\n",
       "      <td>227.0</td>\n",
       "      <td>-1.242276e-16</td>\n",
       "      <td>1.00221</td>\n",
       "      <td>-2.831859</td>\n",
       "      <td>-0.804353</td>\n",
       "      <td>0.096761</td>\n",
       "      <td>0.659957</td>\n",
       "      <td>2.574824</td>\n",
       "    </tr>\n",
       "    <tr>\n",
       "      <th>trestbps</th>\n",
       "      <td>227.0</td>\n",
       "      <td>-6.671120e-16</td>\n",
       "      <td>1.00221</td>\n",
       "      <td>-2.094274</td>\n",
       "      <td>-0.611322</td>\n",
       "      <td>-0.040956</td>\n",
       "      <td>0.529410</td>\n",
       "      <td>3.951608</td>\n",
       "    </tr>\n",
       "    <tr>\n",
       "      <th>chol</th>\n",
       "      <td>227.0</td>\n",
       "      <td>4.401765e-17</td>\n",
       "      <td>1.00221</td>\n",
       "      <td>-2.281385</td>\n",
       "      <td>-0.687667</td>\n",
       "      <td>-0.100508</td>\n",
       "      <td>0.579851</td>\n",
       "      <td>5.882923</td>\n",
       "    </tr>\n",
       "    <tr>\n",
       "      <th>thalach</th>\n",
       "      <td>227.0</td>\n",
       "      <td>6.377669e-16</td>\n",
       "      <td>1.00221</td>\n",
       "      <td>-3.578240</td>\n",
       "      <td>-0.523954</td>\n",
       "      <td>0.104870</td>\n",
       "      <td>0.756152</td>\n",
       "      <td>2.305753</td>\n",
       "    </tr>\n",
       "    <tr>\n",
       "      <th>oldpeak</th>\n",
       "      <td>227.0</td>\n",
       "      <td>-8.020995e-17</td>\n",
       "      <td>1.00221</td>\n",
       "      <td>-0.879338</td>\n",
       "      <td>-0.879338</td>\n",
       "      <td>-0.220560</td>\n",
       "      <td>0.602913</td>\n",
       "      <td>4.226193</td>\n",
       "    </tr>\n",
       "    <tr>\n",
       "      <th>slope</th>\n",
       "      <td>227.0</td>\n",
       "      <td>-1.565072e-17</td>\n",
       "      <td>1.00221</td>\n",
       "      <td>-0.970439</td>\n",
       "      <td>-0.970439</td>\n",
       "      <td>0.649338</td>\n",
       "      <td>0.649338</td>\n",
       "      <td>2.269114</td>\n",
       "    </tr>\n",
       "    <tr>\n",
       "      <th>ca</th>\n",
       "      <td>227.0</td>\n",
       "      <td>-2.543242e-17</td>\n",
       "      <td>1.00221</td>\n",
       "      <td>-0.702793</td>\n",
       "      <td>-0.702793</td>\n",
       "      <td>-0.702793</td>\n",
       "      <td>0.333142</td>\n",
       "      <td>2.405014</td>\n",
       "    </tr>\n",
       "    <tr>\n",
       "      <th>thal</th>\n",
       "      <td>227.0</td>\n",
       "      <td>-2.034594e-16</td>\n",
       "      <td>1.00221</td>\n",
       "      <td>-0.946333</td>\n",
       "      <td>-0.946333</td>\n",
       "      <td>-0.946333</td>\n",
       "      <td>1.104431</td>\n",
       "      <td>1.104431</td>\n",
       "    </tr>\n",
       "    <tr>\n",
       "      <th>sex</th>\n",
       "      <td>227.0</td>\n",
       "      <td>-8.999165e-17</td>\n",
       "      <td>1.00221</td>\n",
       "      <td>-1.545335</td>\n",
       "      <td>-1.545335</td>\n",
       "      <td>0.647109</td>\n",
       "      <td>0.647109</td>\n",
       "      <td>0.647109</td>\n",
       "    </tr>\n",
       "    <tr>\n",
       "      <th>cp</th>\n",
       "      <td>227.0</td>\n",
       "      <td>-4.401765e-18</td>\n",
       "      <td>1.00221</td>\n",
       "      <td>-2.250966</td>\n",
       "      <td>-0.152530</td>\n",
       "      <td>-0.152530</td>\n",
       "      <td>0.896689</td>\n",
       "      <td>0.896689</td>\n",
       "    </tr>\n",
       "    <tr>\n",
       "      <th>fbs</th>\n",
       "      <td>227.0</td>\n",
       "      <td>-5.869020e-17</td>\n",
       "      <td>1.00221</td>\n",
       "      <td>-0.419721</td>\n",
       "      <td>-0.419721</td>\n",
       "      <td>-0.419721</td>\n",
       "      <td>-0.419721</td>\n",
       "      <td>2.382534</td>\n",
       "    </tr>\n",
       "    <tr>\n",
       "      <th>restecg</th>\n",
       "      <td>227.0</td>\n",
       "      <td>5.477752e-17</td>\n",
       "      <td>1.00221</td>\n",
       "      <td>-1.000020</td>\n",
       "      <td>-1.000020</td>\n",
       "      <td>0.004425</td>\n",
       "      <td>1.008869</td>\n",
       "      <td>1.008869</td>\n",
       "    </tr>\n",
       "    <tr>\n",
       "      <th>exang</th>\n",
       "      <td>227.0</td>\n",
       "      <td>7.042824e-17</td>\n",
       "      <td>1.00221</td>\n",
       "      <td>-0.674632</td>\n",
       "      <td>-0.674632</td>\n",
       "      <td>-0.674632</td>\n",
       "      <td>1.482290</td>\n",
       "      <td>1.482290</td>\n",
       "    </tr>\n",
       "  </tbody>\n",
       "</table>\n",
       "</div>"
      ],
      "text/plain": [
       "          count          mean      std       min       25%       50%  \\\n",
       "age       227.0 -1.242276e-16  1.00221 -2.831859 -0.804353  0.096761   \n",
       "trestbps  227.0 -6.671120e-16  1.00221 -2.094274 -0.611322 -0.040956   \n",
       "chol      227.0  4.401765e-17  1.00221 -2.281385 -0.687667 -0.100508   \n",
       "thalach   227.0  6.377669e-16  1.00221 -3.578240 -0.523954  0.104870   \n",
       "oldpeak   227.0 -8.020995e-17  1.00221 -0.879338 -0.879338 -0.220560   \n",
       "slope     227.0 -1.565072e-17  1.00221 -0.970439 -0.970439  0.649338   \n",
       "ca        227.0 -2.543242e-17  1.00221 -0.702793 -0.702793 -0.702793   \n",
       "thal      227.0 -2.034594e-16  1.00221 -0.946333 -0.946333 -0.946333   \n",
       "sex       227.0 -8.999165e-17  1.00221 -1.545335 -1.545335  0.647109   \n",
       "cp        227.0 -4.401765e-18  1.00221 -2.250966 -0.152530 -0.152530   \n",
       "fbs       227.0 -5.869020e-17  1.00221 -0.419721 -0.419721 -0.419721   \n",
       "restecg   227.0  5.477752e-17  1.00221 -1.000020 -1.000020  0.004425   \n",
       "exang     227.0  7.042824e-17  1.00221 -0.674632 -0.674632 -0.674632   \n",
       "\n",
       "               75%       max  \n",
       "age       0.659957  2.574824  \n",
       "trestbps  0.529410  3.951608  \n",
       "chol      0.579851  5.882923  \n",
       "thalach   0.756152  2.305753  \n",
       "oldpeak   0.602913  4.226193  \n",
       "slope     0.649338  2.269114  \n",
       "ca        0.333142  2.405014  \n",
       "thal      1.104431  1.104431  \n",
       "sex       0.647109  0.647109  \n",
       "cp        0.896689  0.896689  \n",
       "fbs      -0.419721  2.382534  \n",
       "restecg   1.008869  1.008869  \n",
       "exang     1.482290  1.482290  "
      ]
     },
     "execution_count": 82,
     "metadata": {},
     "output_type": "execute_result"
    }
   ],
   "source": [
    "x_train_clean.describe().T"
   ]
  },
  {
   "cell_type": "markdown",
   "metadata": {},
   "source": [
    "## <b><font color='orange'> 3. Training Machine Learning </b>"
   ]
  },
  {
   "cell_type": "markdown",
   "metadata": {},
   "source": [
    "* Choose score to optimize and Hyperparameter Space\n",
    "* Cross-Validation: Random vs Grid Search CV\n",
    "* Kita  harus mengalahkan benchmark\n",
    "\n",
    "### **Benchmark / Baseline**\n",
    "- Baseline untuk evaluasi nanti\n",
    "- Karena inii klarifikasi, bisa kita ambil dari proporsi kelas target yang terbesar\n",
    "- Dengan kata lain, menebak hasil output marketing response dengan nilai \"no\" semua tanpa modeling"
   ]
  },
  {
   "cell_type": "code",
   "execution_count": 54,
   "metadata": {},
   "outputs": [
    {
     "data": {
      "text/plain": [
       "target\n",
       "0    0.528634\n",
       "1    0.198238\n",
       "3    0.123348\n",
       "2    0.110132\n",
       "4    0.039648\n",
       "Name: proportion, dtype: float64"
      ]
     },
     "execution_count": 54,
     "metadata": {},
     "output_type": "execute_result"
    }
   ],
   "source": [
    "y_train.value_counts(normalize=True)"
   ]
  },
  {
   "cell_type": "markdown",
   "metadata": {},
   "source": [
    "### 1. Import Model\n",
    "- Kita akan gunakan 3 model ML untuk klarifikasi:\n",
    "    - K-nearest neighbor (K-NN)\n",
    "    - Logistic Regression\n",
    "    - Random Forest"
   ]
  },
  {
   "cell_type": "code",
   "execution_count": 55,
   "metadata": {},
   "outputs": [],
   "source": [
    "from sklearn.linear_model import LogisticRegression\n",
    "from sklearn.neighbors import KNeighborsClassifier\n",
    "from sklearn.ensemble import RandomForestClassifier\n"
   ]
  },
  {
   "cell_type": "markdown",
   "metadata": {},
   "source": [
    "### 2. Fitting Model\n",
    "- Cara fitting / training model mengikuti yang dokumentasi model"
   ]
  },
  {
   "cell_type": "code",
   "execution_count": 56,
   "metadata": {},
   "outputs": [
    {
     "data": {
      "text/plain": [
       "KNeighborsClassifier()"
      ]
     },
     "execution_count": 56,
     "metadata": {},
     "output_type": "execute_result"
    }
   ],
   "source": [
    "# Model K-nearst neighbor (KNN)\n",
    "knn = KNeighborsClassifier()\n",
    "knn.fit(x_train_clean, y_train)"
   ]
  },
  {
   "cell_type": "code",
   "execution_count": 57,
   "metadata": {},
   "outputs": [
    {
     "data": {
      "text/plain": [
       "LogisticRegression(random_state=12)"
      ]
     },
     "execution_count": 57,
     "metadata": {},
     "output_type": "execute_result"
    }
   ],
   "source": [
    "# Model Logistic Regression\n",
    "logreg = LogisticRegression(random_state=12)\n",
    "logreg.fit(x_train_clean, y_train)"
   ]
  },
  {
   "cell_type": "code",
   "execution_count": 58,
   "metadata": {},
   "outputs": [
    {
     "data": {
      "text/plain": [
       "RandomForestClassifier(random_state=12)"
      ]
     },
     "execution_count": 58,
     "metadata": {},
     "output_type": "execute_result"
    }
   ],
   "source": [
    "# Model Random Forest\n",
    "random_forest = RandomForestClassifier(random_state=12)\n",
    "random_forest.fit(x_train_clean, y_train)"
   ]
  },
  {
   "cell_type": "code",
   "execution_count": 59,
   "metadata": {},
   "outputs": [
    {
     "data": {
      "text/plain": [
       "RandomForestClassifier(n_estimators=200, random_state=12)"
      ]
     },
     "execution_count": 59,
     "metadata": {},
     "output_type": "execute_result"
    }
   ],
   "source": [
    "# Model Random Forest Classifier 1\n",
    "# Ubah hyperparameter dari random forest --> n_estimator\n",
    "# Tambahkan n_estimator = 100\n",
    "random_forest_1 = RandomForestClassifier(random_state=12, n_estimators=200)\n",
    "random_forest_1.fit(x_train_clean, y_train)"
   ]
  },
  {
   "cell_type": "markdown",
   "metadata": {},
   "source": [
    "### 3. Prediction\n",
    "- Saatnya melakukan prediksi"
   ]
  },
  {
   "cell_type": "code",
   "execution_count": 60,
   "metadata": {},
   "outputs": [
    {
     "data": {
      "text/html": [
       "<div>\n",
       "<style scoped>\n",
       "    .dataframe tbody tr th:only-of-type {\n",
       "        vertical-align: middle;\n",
       "    }\n",
       "\n",
       "    .dataframe tbody tr th {\n",
       "        vertical-align: top;\n",
       "    }\n",
       "\n",
       "    .dataframe thead th {\n",
       "        text-align: right;\n",
       "    }\n",
       "</style>\n",
       "<table border=\"1\" class=\"dataframe\">\n",
       "  <thead>\n",
       "    <tr style=\"text-align: right;\">\n",
       "      <th></th>\n",
       "      <th>0</th>\n",
       "    </tr>\n",
       "  </thead>\n",
       "  <tbody>\n",
       "    <tr>\n",
       "      <th>0</th>\n",
       "      <td>0</td>\n",
       "    </tr>\n",
       "    <tr>\n",
       "      <th>1</th>\n",
       "      <td>2</td>\n",
       "    </tr>\n",
       "    <tr>\n",
       "      <th>2</th>\n",
       "      <td>2</td>\n",
       "    </tr>\n",
       "    <tr>\n",
       "      <th>3</th>\n",
       "      <td>1</td>\n",
       "    </tr>\n",
       "    <tr>\n",
       "      <th>4</th>\n",
       "      <td>1</td>\n",
       "    </tr>\n",
       "  </tbody>\n",
       "</table>\n",
       "</div>"
      ],
      "text/plain": [
       "   0\n",
       "0  0\n",
       "1  2\n",
       "2  2\n",
       "3  1\n",
       "4  1"
      ]
     },
     "execution_count": 60,
     "metadata": {},
     "output_type": "execute_result"
    }
   ],
   "source": [
    "# Prediksi KNN\n",
    "predicted_knn = pd.DataFrame(knn.predict(x_train_clean))\n",
    "predicted_knn.head()"
   ]
  },
  {
   "cell_type": "code",
   "execution_count": 61,
   "metadata": {},
   "outputs": [
    {
     "data": {
      "text/html": [
       "<div>\n",
       "<style scoped>\n",
       "    .dataframe tbody tr th:only-of-type {\n",
       "        vertical-align: middle;\n",
       "    }\n",
       "\n",
       "    .dataframe tbody tr th {\n",
       "        vertical-align: top;\n",
       "    }\n",
       "\n",
       "    .dataframe thead th {\n",
       "        text-align: right;\n",
       "    }\n",
       "</style>\n",
       "<table border=\"1\" class=\"dataframe\">\n",
       "  <thead>\n",
       "    <tr style=\"text-align: right;\">\n",
       "      <th></th>\n",
       "      <th>0</th>\n",
       "    </tr>\n",
       "  </thead>\n",
       "  <tbody>\n",
       "    <tr>\n",
       "      <th>0</th>\n",
       "      <td>0</td>\n",
       "    </tr>\n",
       "    <tr>\n",
       "      <th>1</th>\n",
       "      <td>0</td>\n",
       "    </tr>\n",
       "    <tr>\n",
       "      <th>2</th>\n",
       "      <td>2</td>\n",
       "    </tr>\n",
       "    <tr>\n",
       "      <th>3</th>\n",
       "      <td>3</td>\n",
       "    </tr>\n",
       "    <tr>\n",
       "      <th>4</th>\n",
       "      <td>1</td>\n",
       "    </tr>\n",
       "  </tbody>\n",
       "</table>\n",
       "</div>"
      ],
      "text/plain": [
       "   0\n",
       "0  0\n",
       "1  0\n",
       "2  2\n",
       "3  3\n",
       "4  1"
      ]
     },
     "execution_count": 61,
     "metadata": {},
     "output_type": "execute_result"
    }
   ],
   "source": [
    "# Prediksi Logistic Regression\n",
    "predicted_logreg = pd.DataFrame(logreg.predict(x_train_clean))\n",
    "predicted_logreg.head()"
   ]
  },
  {
   "cell_type": "code",
   "execution_count": 62,
   "metadata": {},
   "outputs": [
    {
     "data": {
      "text/html": [
       "<div>\n",
       "<style scoped>\n",
       "    .dataframe tbody tr th:only-of-type {\n",
       "        vertical-align: middle;\n",
       "    }\n",
       "\n",
       "    .dataframe tbody tr th {\n",
       "        vertical-align: top;\n",
       "    }\n",
       "\n",
       "    .dataframe thead th {\n",
       "        text-align: right;\n",
       "    }\n",
       "</style>\n",
       "<table border=\"1\" class=\"dataframe\">\n",
       "  <thead>\n",
       "    <tr style=\"text-align: right;\">\n",
       "      <th></th>\n",
       "      <th>0</th>\n",
       "    </tr>\n",
       "  </thead>\n",
       "  <tbody>\n",
       "    <tr>\n",
       "      <th>0</th>\n",
       "      <td>0</td>\n",
       "    </tr>\n",
       "    <tr>\n",
       "      <th>1</th>\n",
       "      <td>0</td>\n",
       "    </tr>\n",
       "    <tr>\n",
       "      <th>2</th>\n",
       "      <td>3</td>\n",
       "    </tr>\n",
       "    <tr>\n",
       "      <th>3</th>\n",
       "      <td>4</td>\n",
       "    </tr>\n",
       "    <tr>\n",
       "      <th>4</th>\n",
       "      <td>1</td>\n",
       "    </tr>\n",
       "  </tbody>\n",
       "</table>\n",
       "</div>"
      ],
      "text/plain": [
       "   0\n",
       "0  0\n",
       "1  0\n",
       "2  3\n",
       "3  4\n",
       "4  1"
      ]
     },
     "execution_count": 62,
     "metadata": {},
     "output_type": "execute_result"
    }
   ],
   "source": [
    "# Prediksi Random Forest\n",
    "predicted_random_forest = pd.DataFrame(random_forest.predict(x_train_clean))\n",
    "predicted_random_forest.head()"
   ]
  },
  {
   "cell_type": "code",
   "execution_count": 63,
   "metadata": {},
   "outputs": [
    {
     "data": {
      "text/html": [
       "<div>\n",
       "<style scoped>\n",
       "    .dataframe tbody tr th:only-of-type {\n",
       "        vertical-align: middle;\n",
       "    }\n",
       "\n",
       "    .dataframe tbody tr th {\n",
       "        vertical-align: top;\n",
       "    }\n",
       "\n",
       "    .dataframe thead th {\n",
       "        text-align: right;\n",
       "    }\n",
       "</style>\n",
       "<table border=\"1\" class=\"dataframe\">\n",
       "  <thead>\n",
       "    <tr style=\"text-align: right;\">\n",
       "      <th></th>\n",
       "      <th>0</th>\n",
       "    </tr>\n",
       "  </thead>\n",
       "  <tbody>\n",
       "    <tr>\n",
       "      <th>0</th>\n",
       "      <td>0</td>\n",
       "    </tr>\n",
       "    <tr>\n",
       "      <th>1</th>\n",
       "      <td>0</td>\n",
       "    </tr>\n",
       "    <tr>\n",
       "      <th>2</th>\n",
       "      <td>3</td>\n",
       "    </tr>\n",
       "    <tr>\n",
       "      <th>3</th>\n",
       "      <td>4</td>\n",
       "    </tr>\n",
       "    <tr>\n",
       "      <th>4</th>\n",
       "      <td>1</td>\n",
       "    </tr>\n",
       "  </tbody>\n",
       "</table>\n",
       "</div>"
      ],
      "text/plain": [
       "   0\n",
       "0  0\n",
       "1  0\n",
       "2  3\n",
       "3  4\n",
       "4  1"
      ]
     },
     "execution_count": 63,
     "metadata": {},
     "output_type": "execute_result"
    }
   ],
   "source": [
    "predicted_random_forest_1 = pd.DataFrame(random_forest_1.predict(x_train_clean))\n",
    "predicted_random_forest_1.head()"
   ]
  },
  {
   "cell_type": "markdown",
   "metadata": {},
   "source": [
    "### 4. Cek performa model di data training"
   ]
  },
  {
   "cell_type": "code",
   "execution_count": 64,
   "metadata": {},
   "outputs": [
    {
     "data": {
      "text/plain": [
       "target\n",
       "0    0.528634\n",
       "1    0.198238\n",
       "3    0.123348\n",
       "2    0.110132\n",
       "4    0.039648\n",
       "Name: proportion, dtype: float64"
      ]
     },
     "execution_count": 64,
     "metadata": {},
     "output_type": "execute_result"
    }
   ],
   "source": [
    "benchmark = y_train.value_counts(normalize=True)\n",
    "benchmark"
   ]
  },
  {
   "cell_type": "code",
   "execution_count": 65,
   "metadata": {},
   "outputs": [
    {
     "name": "stdout",
     "output_type": "stream",
     "text": [
      "Akurasi KNN                  : 0.6960352422907489\n",
      "Akurasi Logistric Regression : 0.6828193832599119\n",
      "Akurasi Random Forest        : 1.0\n",
      "Akurasi Random Forest 1      : 1.0\n"
     ]
    }
   ],
   "source": [
    "# Cek Akurasi tiap-tiap model\n",
    "print('Akurasi KNN                  :',knn.score(x_train_clean, y_train))\n",
    "print('Akurasi Logistric Regression :',logreg.score(x_train_clean, y_train))\n",
    "print('Akurasi Random Forest        :',random_forest.score(x_train_clean, y_train))\n",
    "print('Akurasi Random Forest 1      :',random_forest_1.score(x_train_clean, y_train))"
   ]
  },
  {
   "cell_type": "markdown",
   "metadata": {},
   "source": [
    "### 6. Test Prediction\n",
    "1. Siapkan file test dataset\n",
    "2. Lakukan preprocessing yang sama dengan yang dilakukan di train dataset\n",
    "3. Gunakan `imputer_numerical` dan `standarizer` yang telah di fit di train dataset"
   ]
  },
  {
   "cell_type": "code",
   "execution_count": 66,
   "metadata": {},
   "outputs": [
    {
     "data": {
      "text/plain": [
       "age         False\n",
       "sex         False\n",
       "cp          False\n",
       "trestbps    False\n",
       "chol        False\n",
       "fbs         False\n",
       "restecg     False\n",
       "thalach     False\n",
       "exang       False\n",
       "oldpeak     False\n",
       "slope       False\n",
       "ca          False\n",
       "thal        False\n",
       "dtype: bool"
      ]
     },
     "execution_count": 66,
     "metadata": {},
     "output_type": "execute_result"
    }
   ],
   "source": [
    "# Cek nilai kosong pada x_test\n",
    "x_test.isnull().any()"
   ]
  },
  {
   "cell_type": "code",
   "execution_count": 67,
   "metadata": {},
   "outputs": [
    {
     "data": {
      "text/plain": [
       "False"
      ]
     },
     "execution_count": 67,
     "metadata": {},
     "output_type": "execute_result"
    }
   ],
   "source": [
    "# Cek nilai kosong pada y_test\n",
    "y_test.isnull().any()"
   ]
  },
  {
   "cell_type": "code",
   "execution_count": 68,
   "metadata": {},
   "outputs": [],
   "source": [
    "# Fungsi untuk mengekstrak & membersihkan test data\n",
    "numerical_imputer = SimpleImputer(strategy='median')\n",
    "numerical_imputer.fit(x_train_numerical)\n",
    "\n",
    "def extractTest(data, numerical_column, categorical_column, ohe_columns,\n",
    "                numerical_imputer, standardizer):\n",
    "    \"\"\"\n",
    "    Fungsi untuk mengekstrak & membersihkan test data\n",
    "    :param data: <pandas dataframe sample dataset\n",
    "    :param numerical_column: <list> kolom numerik\n",
    "    :param categorical_column: <list> kolom kategorik\n",
    "    :param ohe_column: <list> kolom one_hot_encoding dari kategorik kolom\n",
    "    :param impute_missing_values: <sklearn method> imputer data numerik\n",
    "    :param standardizer: <sklearn method> standarizer data\n",
    "    :return cleaned_data: <pandas dataframe> data final\n",
    "    \"\"\"\n",
    "    # Filter data\n",
    "    numerical_data = data[numerical_column]\n",
    "    categorical_data = data[categorical_column]\n",
    "\n",
    "    # Proses data numerik\n",
    "    numerical_data = pd.DataFrame(numerical_imputer.transform(numerical_data))\n",
    "    numerical_data.columns = numerical_column\n",
    "    numerical_data.index = data.index\n",
    "    \n",
    "    # Proses data ketegorik\n",
    "    categorical_data.index = data.index\n",
    "    categorical_data = pd.get_dummies(categorical_data)\n",
    "    categorical_data.reindex(index=categorical_data.index, \n",
    "                             columns=ohe_columns)\n",
    "    \n",
    "    # Gabungkan data\n",
    "    concat_data = pd.concat([numerical_data, categorical_data], axis=1)\n",
    "    cleaned_data = pd.DataFrame(standardizer.transform(concat_data))\n",
    "    cleaned_data.columns = concat_data.columns\n",
    "\n",
    "    return cleaned_data"
   ]
  },
  {
   "cell_type": "code",
   "execution_count": 69,
   "metadata": {},
   "outputs": [],
   "source": [
    "# Jalankan fungsi\n",
    "x_test_clean = extractTest(data=x_test,\n",
    "                           numerical_column=numerical_column,\n",
    "                           categorical_column=categorical_column,\n",
    "                           ohe_columns=ohe_columns,\n",
    "                           numerical_imputer = numerical_imputer,\n",
    "                           standardizer=standardizer)"
   ]
  },
  {
   "cell_type": "code",
   "execution_count": 70,
   "metadata": {},
   "outputs": [
    {
     "data": {
      "text/html": [
       "<div>\n",
       "<style scoped>\n",
       "    .dataframe tbody tr th:only-of-type {\n",
       "        vertical-align: middle;\n",
       "    }\n",
       "\n",
       "    .dataframe tbody tr th {\n",
       "        vertical-align: top;\n",
       "    }\n",
       "\n",
       "    .dataframe thead th {\n",
       "        text-align: right;\n",
       "    }\n",
       "</style>\n",
       "<table border=\"1\" class=\"dataframe\">\n",
       "  <thead>\n",
       "    <tr style=\"text-align: right;\">\n",
       "      <th></th>\n",
       "      <th>age</th>\n",
       "      <th>trestbps</th>\n",
       "      <th>chol</th>\n",
       "      <th>thalach</th>\n",
       "      <th>oldpeak</th>\n",
       "      <th>slope</th>\n",
       "      <th>ca</th>\n",
       "      <th>thal</th>\n",
       "      <th>sex</th>\n",
       "      <th>cp</th>\n",
       "      <th>fbs</th>\n",
       "      <th>restecg</th>\n",
       "      <th>exang</th>\n",
       "    </tr>\n",
       "  </thead>\n",
       "  <tbody>\n",
       "    <tr>\n",
       "      <th>0</th>\n",
       "      <td>0.885235</td>\n",
       "      <td>-0.040956</td>\n",
       "      <td>-0.324188</td>\n",
       "      <td>-0.209542</td>\n",
       "      <td>0.602913</td>\n",
       "      <td>0.649338</td>\n",
       "      <td>2.405014</td>\n",
       "      <td>1.104431</td>\n",
       "      <td>0.647109</td>\n",
       "      <td>-0.152530</td>\n",
       "      <td>-0.419721</td>\n",
       "      <td>-1.000020</td>\n",
       "      <td>-0.674632</td>\n",
       "    </tr>\n",
       "    <tr>\n",
       "      <th>1</th>\n",
       "      <td>-1.142271</td>\n",
       "      <td>0.529410</td>\n",
       "      <td>-0.249628</td>\n",
       "      <td>1.317601</td>\n",
       "      <td>-0.879338</td>\n",
       "      <td>-0.970439</td>\n",
       "      <td>-0.702793</td>\n",
       "      <td>-0.946333</td>\n",
       "      <td>0.647109</td>\n",
       "      <td>-0.152530</td>\n",
       "      <td>-0.419721</td>\n",
       "      <td>1.008869</td>\n",
       "      <td>-0.674632</td>\n",
       "    </tr>\n",
       "    <tr>\n",
       "      <th>2</th>\n",
       "      <td>1.223153</td>\n",
       "      <td>1.670143</td>\n",
       "      <td>2.080369</td>\n",
       "      <td>0.015038</td>\n",
       "      <td>-0.220560</td>\n",
       "      <td>-0.970439</td>\n",
       "      <td>-0.702793</td>\n",
       "      <td>-0.946333</td>\n",
       "      <td>-1.545335</td>\n",
       "      <td>-0.152530</td>\n",
       "      <td>-0.419721</td>\n",
       "      <td>1.008869</td>\n",
       "      <td>-0.674632</td>\n",
       "    </tr>\n",
       "    <tr>\n",
       "      <th>3</th>\n",
       "      <td>2.236906</td>\n",
       "      <td>-0.611322</td>\n",
       "      <td>0.384131</td>\n",
       "      <td>-1.332441</td>\n",
       "      <td>-0.714644</td>\n",
       "      <td>-0.970439</td>\n",
       "      <td>0.333142</td>\n",
       "      <td>-0.946333</td>\n",
       "      <td>-1.545335</td>\n",
       "      <td>-1.201748</td>\n",
       "      <td>-0.419721</td>\n",
       "      <td>1.008869</td>\n",
       "      <td>1.482290</td>\n",
       "    </tr>\n",
       "    <tr>\n",
       "      <th>4</th>\n",
       "      <td>0.772596</td>\n",
       "      <td>0.187191</td>\n",
       "      <td>-0.268268</td>\n",
       "      <td>-0.254458</td>\n",
       "      <td>1.261691</td>\n",
       "      <td>0.649338</td>\n",
       "      <td>1.369078</td>\n",
       "      <td>-0.946333</td>\n",
       "      <td>0.647109</td>\n",
       "      <td>-2.250966</td>\n",
       "      <td>-0.419721</td>\n",
       "      <td>-1.000020</td>\n",
       "      <td>-0.674632</td>\n",
       "    </tr>\n",
       "  </tbody>\n",
       "</table>\n",
       "</div>"
      ],
      "text/plain": [
       "        age  trestbps      chol   thalach   oldpeak     slope        ca  \\\n",
       "0  0.885235 -0.040956 -0.324188 -0.209542  0.602913  0.649338  2.405014   \n",
       "1 -1.142271  0.529410 -0.249628  1.317601 -0.879338 -0.970439 -0.702793   \n",
       "2  1.223153  1.670143  2.080369  0.015038 -0.220560 -0.970439 -0.702793   \n",
       "3  2.236906 -0.611322  0.384131 -1.332441 -0.714644 -0.970439  0.333142   \n",
       "4  0.772596  0.187191 -0.268268 -0.254458  1.261691  0.649338  1.369078   \n",
       "\n",
       "       thal       sex        cp       fbs   restecg     exang  \n",
       "0  1.104431  0.647109 -0.152530 -0.419721 -1.000020 -0.674632  \n",
       "1 -0.946333  0.647109 -0.152530 -0.419721  1.008869 -0.674632  \n",
       "2 -0.946333 -1.545335 -0.152530 -0.419721  1.008869 -0.674632  \n",
       "3 -0.946333 -1.545335 -1.201748 -0.419721  1.008869  1.482290  \n",
       "4 -0.946333  0.647109 -2.250966 -0.419721 -1.000020 -0.674632  "
      ]
     },
     "execution_count": 70,
     "metadata": {},
     "output_type": "execute_result"
    }
   ],
   "source": [
    "x_test_clean.head()"
   ]
  },
  {
   "cell_type": "code",
   "execution_count": 71,
   "metadata": {},
   "outputs": [
    {
     "data": {
      "text/plain": [
       "92     0\n",
       "85     0\n",
       "75     0\n",
       "233    0\n",
       "243    2\n",
       "Name: target, dtype: int64"
      ]
     },
     "execution_count": 71,
     "metadata": {},
     "output_type": "execute_result"
    }
   ],
   "source": [
    "y_test.head()"
   ]
  },
  {
   "cell_type": "code",
   "execution_count": 72,
   "metadata": {},
   "outputs": [
    {
     "name": "stdout",
     "output_type": "stream",
     "text": [
      "Cek NaN pada data uji     : False\n",
      "Cek Infinity pada data uji: False\n"
     ]
    }
   ],
   "source": [
    "# Cek NaN pada data uji setelah standarisasi\n",
    "print('Cek NaN pada data uji     :',np.any(np.isnan(x_test_clean)))\n",
    "print('Cek Infinity pada data uji:',np.any(np.isinf(x_test_clean)))"
   ]
  },
  {
   "cell_type": "code",
   "execution_count": 73,
   "metadata": {},
   "outputs": [
    {
     "data": {
      "text/plain": [
       "age         0\n",
       "trestbps    0\n",
       "chol        0\n",
       "thalach     0\n",
       "oldpeak     0\n",
       "slope       0\n",
       "ca          0\n",
       "thal        0\n",
       "sex         0\n",
       "cp          0\n",
       "fbs         0\n",
       "restecg     0\n",
       "exang       0\n",
       "dtype: int64"
      ]
     },
     "execution_count": 73,
     "metadata": {},
     "output_type": "execute_result"
    }
   ],
   "source": [
    "x_test_clean.isna().sum()"
   ]
  },
  {
   "cell_type": "code",
   "execution_count": 74,
   "metadata": {},
   "outputs": [
    {
     "data": {
      "text/html": [
       "<div>\n",
       "<style scoped>\n",
       "    .dataframe tbody tr th:only-of-type {\n",
       "        vertical-align: middle;\n",
       "    }\n",
       "\n",
       "    .dataframe tbody tr th {\n",
       "        vertical-align: top;\n",
       "    }\n",
       "\n",
       "    .dataframe thead th {\n",
       "        text-align: right;\n",
       "    }\n",
       "</style>\n",
       "<table border=\"1\" class=\"dataframe\">\n",
       "  <thead>\n",
       "    <tr style=\"text-align: right;\">\n",
       "      <th></th>\n",
       "      <th>age</th>\n",
       "      <th>trestbps</th>\n",
       "      <th>chol</th>\n",
       "      <th>thalach</th>\n",
       "      <th>oldpeak</th>\n",
       "      <th>slope</th>\n",
       "      <th>ca</th>\n",
       "      <th>thal</th>\n",
       "      <th>sex</th>\n",
       "      <th>cp</th>\n",
       "      <th>fbs</th>\n",
       "      <th>restecg</th>\n",
       "      <th>exang</th>\n",
       "    </tr>\n",
       "  </thead>\n",
       "  <tbody>\n",
       "  </tbody>\n",
       "</table>\n",
       "</div>"
      ],
      "text/plain": [
       "Empty DataFrame\n",
       "Columns: [age, trestbps, chol, thalach, oldpeak, slope, ca, thal, sex, cp, fbs, restecg, exang]\n",
       "Index: []"
      ]
     },
     "execution_count": 74,
     "metadata": {},
     "output_type": "execute_result"
    }
   ],
   "source": [
    "x_test_clean[x_test_clean.isna().any(axis=1)]"
   ]
  },
  {
   "cell_type": "code",
   "execution_count": 75,
   "metadata": {},
   "outputs": [
    {
     "data": {
      "text/html": [
       "<div>\n",
       "<style scoped>\n",
       "    .dataframe tbody tr th:only-of-type {\n",
       "        vertical-align: middle;\n",
       "    }\n",
       "\n",
       "    .dataframe tbody tr th {\n",
       "        vertical-align: top;\n",
       "    }\n",
       "\n",
       "    .dataframe thead th {\n",
       "        text-align: right;\n",
       "    }\n",
       "</style>\n",
       "<table border=\"1\" class=\"dataframe\">\n",
       "  <thead>\n",
       "    <tr style=\"text-align: right;\">\n",
       "      <th></th>\n",
       "      <th>count</th>\n",
       "      <th>mean</th>\n",
       "      <th>std</th>\n",
       "      <th>min</th>\n",
       "      <th>25%</th>\n",
       "      <th>50%</th>\n",
       "      <th>75%</th>\n",
       "      <th>max</th>\n",
       "    </tr>\n",
       "  </thead>\n",
       "  <tbody>\n",
       "    <tr>\n",
       "      <th>age</th>\n",
       "      <td>76.0</td>\n",
       "      <td>0.133813</td>\n",
       "      <td>1.064686</td>\n",
       "      <td>-2.268663</td>\n",
       "      <td>-0.607235</td>\n",
       "      <td>0.209400</td>\n",
       "      <td>0.885235</td>\n",
       "      <td>2.462184</td>\n",
       "    </tr>\n",
       "    <tr>\n",
       "      <th>trestbps</th>\n",
       "      <td>76.0</td>\n",
       "      <td>0.220962</td>\n",
       "      <td>0.996915</td>\n",
       "      <td>-1.752055</td>\n",
       "      <td>-0.611322</td>\n",
       "      <td>0.301264</td>\n",
       "      <td>0.900148</td>\n",
       "      <td>2.468656</td>\n",
       "    </tr>\n",
       "    <tr>\n",
       "      <th>chol</th>\n",
       "      <td>76.0</td>\n",
       "      <td>-0.126261</td>\n",
       "      <td>0.843741</td>\n",
       "      <td>-1.647626</td>\n",
       "      <td>-0.720287</td>\n",
       "      <td>-0.258948</td>\n",
       "      <td>0.384131</td>\n",
       "      <td>3.142847</td>\n",
       "    </tr>\n",
       "    <tr>\n",
       "      <th>thalach</th>\n",
       "      <td>76.0</td>\n",
       "      <td>-0.189448</td>\n",
       "      <td>1.094019</td>\n",
       "      <td>-2.724837</td>\n",
       "      <td>-1.040488</td>\n",
       "      <td>0.082412</td>\n",
       "      <td>0.554030</td>\n",
       "      <td>1.632013</td>\n",
       "    </tr>\n",
       "    <tr>\n",
       "      <th>oldpeak</th>\n",
       "      <td>76.0</td>\n",
       "      <td>-0.092705</td>\n",
       "      <td>0.804860</td>\n",
       "      <td>-0.879338</td>\n",
       "      <td>-0.879338</td>\n",
       "      <td>-0.302907</td>\n",
       "      <td>0.355871</td>\n",
       "      <td>2.085164</td>\n",
       "    </tr>\n",
       "    <tr>\n",
       "      <th>slope</th>\n",
       "      <td>76.0</td>\n",
       "      <td>0.009952</td>\n",
       "      <td>0.992486</td>\n",
       "      <td>-0.970439</td>\n",
       "      <td>-0.970439</td>\n",
       "      <td>0.649338</td>\n",
       "      <td>0.649338</td>\n",
       "      <td>2.269114</td>\n",
       "    </tr>\n",
       "    <tr>\n",
       "      <th>ca</th>\n",
       "      <td>76.0</td>\n",
       "      <td>-0.062149</td>\n",
       "      <td>0.862043</td>\n",
       "      <td>-0.702793</td>\n",
       "      <td>-0.702793</td>\n",
       "      <td>-0.702793</td>\n",
       "      <td>0.333142</td>\n",
       "      <td>2.405014</td>\n",
       "    </tr>\n",
       "    <tr>\n",
       "      <th>thal</th>\n",
       "      <td>76.0</td>\n",
       "      <td>-0.251502</td>\n",
       "      <td>0.949808</td>\n",
       "      <td>-0.946333</td>\n",
       "      <td>-0.946333</td>\n",
       "      <td>-0.946333</td>\n",
       "      <td>1.104431</td>\n",
       "      <td>1.104431</td>\n",
       "    </tr>\n",
       "    <tr>\n",
       "      <th>sex</th>\n",
       "      <td>76.0</td>\n",
       "      <td>-0.218329</td>\n",
       "      <td>1.078774</td>\n",
       "      <td>-1.545335</td>\n",
       "      <td>-1.545335</td>\n",
       "      <td>0.647109</td>\n",
       "      <td>0.647109</td>\n",
       "      <td>0.647109</td>\n",
       "    </tr>\n",
       "    <tr>\n",
       "      <th>cp</th>\n",
       "      <td>76.0</td>\n",
       "      <td>0.054553</td>\n",
       "      <td>1.028301</td>\n",
       "      <td>-2.250966</td>\n",
       "      <td>-0.152530</td>\n",
       "      <td>0.896689</td>\n",
       "      <td>0.896689</td>\n",
       "      <td>0.896689</td>\n",
       "    </tr>\n",
       "    <tr>\n",
       "      <th>fbs</th>\n",
       "      <td>76.0</td>\n",
       "      <td>-0.014131</td>\n",
       "      <td>0.992484</td>\n",
       "      <td>-0.419721</td>\n",
       "      <td>-0.419721</td>\n",
       "      <td>-0.419721</td>\n",
       "      <td>-0.419721</td>\n",
       "      <td>2.382534</td>\n",
       "    </tr>\n",
       "    <tr>\n",
       "      <th>restecg</th>\n",
       "      <td>76.0</td>\n",
       "      <td>-0.022008</td>\n",
       "      <td>0.997371</td>\n",
       "      <td>-1.000020</td>\n",
       "      <td>-1.000020</td>\n",
       "      <td>-0.497797</td>\n",
       "      <td>1.008869</td>\n",
       "      <td>1.008869</td>\n",
       "    </tr>\n",
       "    <tr>\n",
       "      <th>exang</th>\n",
       "      <td>76.0</td>\n",
       "      <td>0.120023</td>\n",
       "      <td>1.047361</td>\n",
       "      <td>-0.674632</td>\n",
       "      <td>-0.674632</td>\n",
       "      <td>-0.674632</td>\n",
       "      <td>1.482290</td>\n",
       "      <td>1.482290</td>\n",
       "    </tr>\n",
       "  </tbody>\n",
       "</table>\n",
       "</div>"
      ],
      "text/plain": [
       "          count      mean       std       min       25%       50%       75%  \\\n",
       "age        76.0  0.133813  1.064686 -2.268663 -0.607235  0.209400  0.885235   \n",
       "trestbps   76.0  0.220962  0.996915 -1.752055 -0.611322  0.301264  0.900148   \n",
       "chol       76.0 -0.126261  0.843741 -1.647626 -0.720287 -0.258948  0.384131   \n",
       "thalach    76.0 -0.189448  1.094019 -2.724837 -1.040488  0.082412  0.554030   \n",
       "oldpeak    76.0 -0.092705  0.804860 -0.879338 -0.879338 -0.302907  0.355871   \n",
       "slope      76.0  0.009952  0.992486 -0.970439 -0.970439  0.649338  0.649338   \n",
       "ca         76.0 -0.062149  0.862043 -0.702793 -0.702793 -0.702793  0.333142   \n",
       "thal       76.0 -0.251502  0.949808 -0.946333 -0.946333 -0.946333  1.104431   \n",
       "sex        76.0 -0.218329  1.078774 -1.545335 -1.545335  0.647109  0.647109   \n",
       "cp         76.0  0.054553  1.028301 -2.250966 -0.152530  0.896689  0.896689   \n",
       "fbs        76.0 -0.014131  0.992484 -0.419721 -0.419721 -0.419721 -0.419721   \n",
       "restecg    76.0 -0.022008  0.997371 -1.000020 -1.000020 -0.497797  1.008869   \n",
       "exang      76.0  0.120023  1.047361 -0.674632 -0.674632 -0.674632  1.482290   \n",
       "\n",
       "               max  \n",
       "age       2.462184  \n",
       "trestbps  2.468656  \n",
       "chol      3.142847  \n",
       "thalach   1.632013  \n",
       "oldpeak   2.085164  \n",
       "slope     2.269114  \n",
       "ca        2.405014  \n",
       "thal      1.104431  \n",
       "sex       0.647109  \n",
       "cp        0.896689  \n",
       "fbs       2.382534  \n",
       "restecg   1.008869  \n",
       "exang     1.482290  "
      ]
     },
     "execution_count": 75,
     "metadata": {},
     "output_type": "execute_result"
    }
   ],
   "source": [
    "x_test_clean.describe().T"
   ]
  },
  {
   "cell_type": "code",
   "execution_count": 76,
   "metadata": {},
   "outputs": [],
   "source": [
    "# def impute_missing_values_data_test(data, strategy=\"mean\"):\n",
    "#     \"\"\"\n",
    "#     Fungsi untuk melakukan imputasi missing value pada data numerik\n",
    "#     param data: <pandas dataframe> Data numerik yang ingin di imputasi\n",
    "#     param strategy: <string> Strategi imputasi, default adalah \"median\"\n",
    "#                     Pilihan lain: \"mean\", \"most_frequent\", \"constant\"\n",
    "#     return data_imputed: <pandas dataframe> Data numerik dengan missing values yang sudah diimputasi\n",
    "#     \"\"\"\n",
    "#     # Inisialisasi SimpeImputer dengan strategi yang dipilih\n",
    "#     imputer = SimpleImputer(missing_values=np.NaN)\n",
    "\n",
    "#     # Fit imputer pada data dan trasformasi\n",
    "#     imputed_data = imputer.fit_transform(data)\n",
    "\n",
    "#     # Konversi hasil transformasi kembali ke dataframe\n",
    "#     data_imputed = pd.DataFrame(imputed_data, columns=data.columns, index=data.index)\n",
    "\n",
    "#     return data_imputed"
   ]
  },
  {
   "cell_type": "code",
   "execution_count": 77,
   "metadata": {},
   "outputs": [],
   "source": [
    "# x_test_clean = impute_missing_values_data_test(x_test_clean)"
   ]
  },
  {
   "cell_type": "code",
   "execution_count": 78,
   "metadata": {},
   "outputs": [],
   "source": [
    "# x_test_clean.isna().sum()"
   ]
  },
  {
   "cell_type": "code",
   "execution_count": 79,
   "metadata": {},
   "outputs": [
    {
     "name": "stdout",
     "output_type": "stream",
     "text": [
      "Evaluasi pada data uji:\n",
      "KNN:\n",
      "Akurasi      : 0.4868421052631579\n",
      "Precission   : 0.3626545176500574\n",
      "Recall       : 0.4868421052631579\n",
      "F1-score     : 0.41566598535172883\n",
      "\n",
      "Logistic Regression:\n",
      "Akurasi      : 0.40789473684210525\n",
      "Precission   : 0.4415935672514621\n",
      "Recall       : 0.40789473684210525\n",
      "F1-score     : 0.4128158233421391\n",
      "\n",
      "Random Forest:\n",
      "Akurasi      : 0.5394736842105263\n",
      "Precission   : 0.43568342498036133\n",
      "Recall       : 0.5394736842105263\n",
      "F1-score     : 0.4466389466389467\n",
      "\n",
      "Random Forest 1:\n",
      "Akurasi      : 0.5526315789473685\n",
      "Precission   : 0.43993846556690236\n",
      "Recall       : 0.5526315789473685\n",
      "F1-score     : 0.45597393952657117\n"
     ]
    }
   ],
   "source": [
    "# Prediksi pada data uji\n",
    "from sklearn.metrics import accuracy_score, precision_score, recall_score, f1_score\n",
    "\n",
    "x_test_clean, _ = standardizerData(data=x_test)\n",
    "y_pred_knn = knn.predict(x_test_clean)\n",
    "y_pred_logreg = logreg.predict(x_test_clean)\n",
    "y_pred_rf = random_forest.predict(x_test_clean)\n",
    "y_pred_rf_1 = random_forest_1.predict(x_test_clean)\n",
    "\n",
    "# Hitung matrix evaluasi pada data uji\n",
    "print('Evaluasi pada data uji:')\n",
    "print('KNN:')\n",
    "print('Akurasi      :', accuracy_score(y_test, y_pred_knn))\n",
    "print('Precission   :', precision_score(y_test, y_pred_knn, average='weighted'))\n",
    "print('Recall       :', recall_score(y_test, y_pred_knn, average='weighted'))\n",
    "print('F1-score     :', f1_score(y_test, y_pred_knn, average='weighted'))\n",
    "\n",
    "print('\\nLogistic Regression:')\n",
    "print('Akurasi      :', accuracy_score(y_test, y_pred_logreg))\n",
    "print('Precission   :', precision_score(y_test, y_pred_logreg, average='weighted'))\n",
    "print('Recall       :', recall_score(y_test, y_pred_logreg, average='weighted'))\n",
    "print('F1-score     :', f1_score(y_test, y_pred_logreg, average='weighted'))\n",
    "\n",
    "print('\\nRandom Forest:')\n",
    "print('Akurasi      :', accuracy_score(y_test, y_pred_rf))\n",
    "print('Precission   :', precision_score(y_test, y_pred_rf, average='weighted'))\n",
    "print('Recall       :', recall_score(y_test, y_pred_rf, average='weighted'))\n",
    "print('F1-score     :', f1_score(y_test, y_pred_rf, average='weighted'))\n",
    "\n",
    "print('\\nRandom Forest 1:')\n",
    "print('Akurasi      :', accuracy_score(y_test, y_pred_rf_1))\n",
    "print('Precission   :', precision_score(y_test, y_pred_rf_1, average='weighted'))\n",
    "print('Recall       :', recall_score(y_test, y_pred_rf_1, average='weighted'))\n",
    "print('F1-score     :', f1_score(y_test, y_pred_rf_1, average='weighted'))"
   ]
  },
  {
   "cell_type": "markdown",
   "metadata": {},
   "source": [
    "**Eksplorasi dan Seleksi Fitur:**"
   ]
  },
  {
   "cell_type": "code",
   "execution_count": 80,
   "metadata": {},
   "outputs": [],
   "source": [
    "# # Analisis korelasi fitur\n",
    "# import matplotlib.pyplot as plt\n",
    "# import seaborn as sns\n",
    "# corr_matrix = x_train_clean.corr()\n",
    "# plt.figure(figsize=(12, 10))\n",
    "# sns.heatmap(corr_matrix, annot=True, cmap='coolwarm')\n",
    "# plt.title('Correlation Heatmap')\n",
    "# plt.show()\n",
    "\n",
    "# # Seleksi fitur berdasarkan korelasi\n",
    "# high_corr_features = corr_matrix.index[abs(corr_matrix['target']) > 0.3]\n",
    "# x_train_selected = x_train_clean[high_corr_features]\n",
    "# x_test_selected = x_test_clean[high_corr_features]"
   ]
  },
  {
   "cell_type": "markdown",
   "metadata": {},
   "source": [
    "**Tuning Hyperparameter menggunakan Grid Search CV:**"
   ]
  },
  {
   "cell_type": "code",
   "execution_count": 81,
   "metadata": {},
   "outputs": [],
   "source": [
    "# # Tuning Hyperparameter menggunakan Grid Search CV:\n",
    "# from sklearn.model_selection import GridSearchCV\n",
    "\n",
    "# # Tuning hyperparameter KNN\n",
    "# param_grid_knn = {'n_neighbor': [3,5,7,9,11]}\n",
    "# knn_grid = GridSearchCV(KNeighborsClassifier(), param_grid_knn, cv=5)\n",
    "# knn_grid.fit(x_train_clean, y_train)\n",
    "# print('Best parameters for KNN:', knn_grid.best_params_)"
   ]
  }
 ],
 "metadata": {
  "kernelspec": {
   "display_name": "base",
   "language": "python",
   "name": "python3"
  },
  "language_info": {
   "codemirror_mode": {
    "name": "ipython",
    "version": 3
   },
   "file_extension": ".py",
   "mimetype": "text/x-python",
   "name": "python",
   "nbconvert_exporter": "python",
   "pygments_lexer": "ipython3",
   "version": "3.9.12"
  }
 },
 "nbformat": 4,
 "nbformat_minor": 2
}
